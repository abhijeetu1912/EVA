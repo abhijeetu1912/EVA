{
  "nbformat": 4,
  "nbformat_minor": 0,
  "metadata": {
    "colab": {
      "provenance": []
    },
    "kernelspec": {
      "name": "python3",
      "display_name": "Python 3"
    },
    "accelerator": "GPU"
  },
  "cells": [
    {
      "cell_type": "code",
      "metadata": {
        "id": "0m2JWFliFfKT"
      },
      "source": [
        "# load required libraries\n",
        "from __future__ import print_function\n",
        "import torch\n",
        "import torch.nn as nn\n",
        "import torch.nn.functional as F\n",
        "import torch.optim as optim\n",
        "from torchvision import datasets, transforms\n",
        "from tqdm import tqdm"
      ],
      "execution_count": null,
      "outputs": []
    },
    {
      "cell_type": "code",
      "source": [
        "# install & load torchsummary to preint summary of model\n",
        "!pip install torchsummary\n",
        "from torchsummary import summary"
      ],
      "metadata": {
        "colab": {
          "base_uri": "https://localhost:8080/"
        },
        "id": "fDPgNaZ1GVnf",
        "outputId": "97428abc-74cd-46bc-e862-3a76dd14de96"
      },
      "execution_count": null,
      "outputs": [
        {
          "output_type": "stream",
          "name": "stdout",
          "text": [
            "Looking in indexes: https://pypi.org/simple, https://us-python.pkg.dev/colab-wheels/public/simple/\n",
            "Requirement already satisfied: torchsummary in /usr/local/lib/python3.8/dist-packages (1.5.1)\n"
          ]
        }
      ]
    },
    {
      "cell_type": "code",
      "source": [
        "# construct cnn class\n",
        "class Net(nn.Module):\n",
        "    def __init__(self):\n",
        "        super(Net, self).__init__()\n",
        "        self.conv1 = nn.Conv2d(1, 16, kernel_size = 3)  # apply 16 channel convolution with kernel size 3*3 on image\n",
        "        self.conv2 = nn.Conv2d(16, 16, kernel_size = 3)  # apply 16 channel convolution with kernel size 3*3 on image\n",
        "        self.conv3 = nn.Conv2d(16, 16, kernel_size = 3)  # apply 16 channel convolution with kernel size 3*3 on image\n",
        "        self.conv4 = nn.Conv2d(16, 16, kernel_size = 3)  # apply 16 channel convolution with kernel size 3*3 on image\n",
        "        self.conv5 = nn.Conv2d(16, 64, kernel_size = 3)  # apply 64 channel convolution with kernel size 3*3 on image\n",
        "        self.batch_norm1 = nn.BatchNorm2d(16)  # batch normalization on convolution layer 1\n",
        "        self.batch_norm2 = nn.BatchNorm2d(16)  # batch normalization on convolution layer 2\n",
        "        self.batch_norm3 = nn.BatchNorm2d(16)  # batch normalization on convolution layer 3\n",
        "        self.batch_norm4 = nn.BatchNorm2d(16)  # batch normalization on convolution layer 4\n",
        "        self.batch_norm5 = nn.BatchNorm2d(64)  # batch normalization on convolution layer 5\n",
        "        self.batch_norm6 = nn.BatchNorm1d(32)  # batch normalization on dense layer after gap and before output layer\n",
        "        self.dropout1 = nn.Dropout(p = 0.2)  # dropout on convolution layer 2\n",
        "        self.dropout2 = nn.Dropout(p = 0.2)  # dropout on convolution layer 3\n",
        "        self.dropout3 = nn.Dropout(p = 0.2)  # dropout on convolution layer 4\n",
        "        self.dropout4 = nn.Dropout(p = 0.1)  # dropout after global average pooling\n",
        "        self.dropout5 = nn.Dropout(p = 0.1)  # dropout on dense layer\n",
        "        self.gap = nn.AdaptiveAvgPool2d(1)\n",
        "        self.fc1 = nn.Linear(64, 32)  # dense layer after global average pooling layer\n",
        "        self.fc2 = nn.Linear(32, 10)  # output layer\n",
        "\n",
        "    def forward(self, img):\n",
        "        x = F.relu(self.conv1(img))  # input = 1 * 28 * 28, output = 8 * 26 * 26\n",
        "        x = self.batch_norm1(x)  # batch normalization\n",
        "\n",
        "        x = F.relu(self.conv2(x))  # input = 8 * 26 * 26, output = 16 * 24 * 24\n",
        "        x = self.batch_norm2(x)  # batch normalization\n",
        "        x = F.max_pool2d(x, 2)  # input = 16 * 24 * 24, output = 16 * 12 * 12\n",
        "        x = self.dropout1(x)  # drop out\n",
        "\n",
        "        x = F.relu(self.conv3(x))  # input = 16 * 12 * 12, output = 16 * 10 * 10\n",
        "        x = self.batch_norm3(x)  # batch normalization\n",
        "        x = self.dropout2(x)  # drop out\n",
        "\n",
        "        x = F.relu(self.conv4(x))  # input = 16 * 10 * 10, output = 16 * 8 * 8\n",
        "        x = self.batch_norm4(x)  # batch normalization\n",
        "        x = self.dropout3(x)  # drop out\n",
        "\n",
        "        x = F.relu(self.conv5(x))  # input = 16 * 8 * 8, output = 64 * 6 * 6\n",
        "        x = self.batch_norm5(x)  # batch normalization\n",
        "       \n",
        "        x = self.gap(x)  # global average pooling - input = 64 * 6 * 6, output = 64 * 1 * 1\n",
        "        x = x.view(-1, 64)  # flatten GAP embedding\n",
        "        x = self.dropout4(x)  # drop out\n",
        "\n",
        "        x = F.relu(self.fc1(x))\n",
        "        x = self.batch_norm6(x)  # batch normalization\n",
        "        x = self.dropout5(x)  # drop out\n",
        "\n",
        "        img_out = F.log_softmax(self.fc2(x), dim = 1)  # output layer to output probabilities for label\n",
        "\n",
        "        return img_out"
      ],
      "metadata": {
        "id": "vFN_sKbJrldW"
      },
      "execution_count": null,
      "outputs": []
    },
    {
      "cell_type": "code",
      "metadata": {
        "id": "xdydjYTZFyi3",
        "colab": {
          "base_uri": "https://localhost:8080/"
        },
        "outputId": "89dede17-3132-43fb-e794-57556bcc81e9"
      },
      "source": [
        "# find if device is gpu\n",
        "use_cuda = torch.cuda.is_available()\n",
        "device = torch.device(\"cuda\" if use_cuda else \"cpu\")\n",
        "\n",
        "# move model to gpu\n",
        "model = Net().to(device)\n",
        "\n",
        "#print model summary\n",
        "summary(model, input_size = (1, 28, 28))"
      ],
      "execution_count": null,
      "outputs": [
        {
          "output_type": "stream",
          "name": "stdout",
          "text": [
            "----------------------------------------------------------------\n",
            "        Layer (type)               Output Shape         Param #\n",
            "================================================================\n",
            "            Conv2d-1           [-1, 16, 26, 26]             160\n",
            "       BatchNorm2d-2           [-1, 16, 26, 26]              32\n",
            "            Conv2d-3           [-1, 16, 24, 24]           2,320\n",
            "       BatchNorm2d-4           [-1, 16, 24, 24]              32\n",
            "           Dropout-5           [-1, 16, 12, 12]               0\n",
            "            Conv2d-6           [-1, 16, 10, 10]           2,320\n",
            "       BatchNorm2d-7           [-1, 16, 10, 10]              32\n",
            "           Dropout-8           [-1, 16, 10, 10]               0\n",
            "            Conv2d-9             [-1, 16, 8, 8]           2,320\n",
            "      BatchNorm2d-10             [-1, 16, 8, 8]              32\n",
            "          Dropout-11             [-1, 16, 8, 8]               0\n",
            "           Conv2d-12             [-1, 64, 6, 6]           9,280\n",
            "      BatchNorm2d-13             [-1, 64, 6, 6]             128\n",
            "AdaptiveAvgPool2d-14             [-1, 64, 1, 1]               0\n",
            "          Dropout-15                   [-1, 64]               0\n",
            "           Linear-16                   [-1, 32]           2,080\n",
            "      BatchNorm1d-17                   [-1, 32]              64\n",
            "          Dropout-18                   [-1, 32]               0\n",
            "           Linear-19                   [-1, 10]             330\n",
            "================================================================\n",
            "Total params: 19,130\n",
            "Trainable params: 19,130\n",
            "Non-trainable params: 0\n",
            "----------------------------------------------------------------\n",
            "Input size (MB): 0.00\n",
            "Forward/backward pass size (MB): 0.42\n",
            "Params size (MB): 0.07\n",
            "Estimated Total Size (MB): 0.50\n",
            "----------------------------------------------------------------\n"
          ]
        }
      ]
    },
    {
      "cell_type": "code",
      "metadata": {
        "id": "DqTWLaM5GHgH"
      },
      "source": [
        "# random seed for replication\n",
        "torch.manual_seed(1)\n",
        "# batch size\n",
        "batch_size = 32\n",
        "\n",
        "# train data loader\n",
        "kwargs = {'num_workers': 1, 'pin_memory': True} if use_cuda else {}\n",
        "train_loader = torch.utils.data.DataLoader(\n",
        "    datasets.MNIST('../data', train=True, download=True,\n",
        "                    transform=transforms.Compose([\n",
        "                        transforms.ToTensor(),\n",
        "                        transforms.Normalize((0.1307,), (0.3081,))\n",
        "                    ])),\n",
        "    batch_size=batch_size, shuffle=True, **kwargs)\n",
        "\n",
        "# test data loader\n",
        "test_loader = torch.utils.data.DataLoader(\n",
        "    datasets.MNIST('../data', train=False, transform=transforms.Compose([\n",
        "                        transforms.ToTensor(),\n",
        "                        transforms.Normalize((0.1307,), (0.3081,))\n",
        "                    ])),\n",
        "    batch_size=batch_size, shuffle=True, **kwargs)"
      ],
      "execution_count": null,
      "outputs": []
    },
    {
      "cell_type": "code",
      "metadata": {
        "id": "8fDefDhaFlwH"
      },
      "source": [
        "# model training function\n",
        "def train(model, device, train_loader, optimizer, epoch):\n",
        "    model.train()  # initiate model training state\n",
        "    pbar = tqdm(train_loader)  # progress bar\n",
        "    for batch_idx, (data, target) in enumerate(pbar):  # iterate over batches in data\n",
        "        data, target = data.to(device), target.to(device)  # move data to gpu\n",
        "        optimizer.zero_grad()  # clear out gradients\n",
        "        output = model(data)  # predict output from model\n",
        "        loss = F.nll_loss(output, target)  # calculate negative log likelihood loss\n",
        "        loss.backward()  # backward propogation of loss\n",
        "        optimizer.step()  # update gradients\n",
        "        pbar.set_description(desc= f'loss={loss.item()} batch_id={batch_idx}')  # update progress bar\n",
        "\n",
        "# model evaluation function\n",
        "def test(model, device, test_loader):\n",
        "    model.eval()  # initiate model evaluation state\n",
        "    test_loss = 0  # initailse test loss as 0\n",
        "    correct = 0  # number of correct samples\n",
        "    with torch.no_grad():  # specify that no gradients will be used\n",
        "        for data, target in test_loader:  # iterate over batches in data\n",
        "            data, target = data.to(device), target.to(device)  # move data to gpu\n",
        "            output = model(data)  # predict output from model\n",
        "            test_loss += F.nll_loss(output, target, reduction='sum').item()  # sum up batch loss\n",
        "            pred = output.argmax(dim=1, keepdim=True)  # get the index of the max log-probability\n",
        "            correct += pred.eq(target.view_as(pred)).sum().item()\n",
        "\n",
        "    test_loss /= len(test_loader.dataset)  # average loss\n",
        "\n",
        "    print('\\nTest set: Average loss: {:.4f}, Accuracy: {}/{} ({:.2f}%)\\n'.format(\n",
        "        test_loss, correct, len(test_loader.dataset),\n",
        "        100. * correct / len(test_loader.dataset)))"
      ],
      "execution_count": null,
      "outputs": []
    },
    {
      "cell_type": "code",
      "metadata": {
        "id": "MMWbLWO6FuHb",
        "colab": {
          "base_uri": "https://localhost:8080/"
        },
        "outputId": "af4e9b92-b0ed-466f-c596-b90321e0919c"
      },
      "source": [
        "# train & evaluate model\n",
        "epochs = 20  # number of epochs to train modle\n",
        "optimizer = optim.SGD(model.parameters(), lr = 0.01, momentum = 0.9)  # optimizer\n",
        "\n",
        "for epoch in range(1, epochs):\n",
        "    train(model, device, train_loader, optimizer, epoch)  # training\n",
        "    test(model, device, test_loader)  # evaluation"
      ],
      "execution_count": null,
      "outputs": [
        {
          "output_type": "stream",
          "name": "stderr",
          "text": [
            "loss=0.017135070636868477 batch_id=1874: 100%|██████████| 1875/1875 [00:31<00:00, 59.41it/s]\n"
          ]
        },
        {
          "output_type": "stream",
          "name": "stdout",
          "text": [
            "\n",
            "Test set: Average loss: 0.0384, Accuracy: 9868/10000 (98.68%)\n",
            "\n"
          ]
        },
        {
          "output_type": "stream",
          "name": "stderr",
          "text": [
            "loss=0.023957887664437294 batch_id=1874: 100%|██████████| 1875/1875 [00:28<00:00, 65.60it/s]\n"
          ]
        },
        {
          "output_type": "stream",
          "name": "stdout",
          "text": [
            "\n",
            "Test set: Average loss: 0.0338, Accuracy: 9885/10000 (98.85%)\n",
            "\n"
          ]
        },
        {
          "output_type": "stream",
          "name": "stderr",
          "text": [
            "loss=0.02425348572432995 batch_id=1874: 100%|██████████| 1875/1875 [00:29<00:00, 64.27it/s]\n"
          ]
        },
        {
          "output_type": "stream",
          "name": "stdout",
          "text": [
            "\n",
            "Test set: Average loss: 0.0246, Accuracy: 9922/10000 (99.22%)\n",
            "\n"
          ]
        },
        {
          "output_type": "stream",
          "name": "stderr",
          "text": [
            "loss=0.05339322239160538 batch_id=1874: 100%|██████████| 1875/1875 [00:29<00:00, 64.08it/s]\n"
          ]
        },
        {
          "output_type": "stream",
          "name": "stdout",
          "text": [
            "\n",
            "Test set: Average loss: 0.0262, Accuracy: 9912/10000 (99.12%)\n",
            "\n"
          ]
        },
        {
          "output_type": "stream",
          "name": "stderr",
          "text": [
            "loss=0.15389476716518402 batch_id=1874: 100%|██████████| 1875/1875 [00:28<00:00, 64.82it/s]\n"
          ]
        },
        {
          "output_type": "stream",
          "name": "stdout",
          "text": [
            "\n",
            "Test set: Average loss: 0.0242, Accuracy: 9921/10000 (99.21%)\n",
            "\n"
          ]
        },
        {
          "output_type": "stream",
          "name": "stderr",
          "text": [
            "loss=0.0018307261634618044 batch_id=1874: 100%|██████████| 1875/1875 [00:29<00:00, 64.21it/s]\n"
          ]
        },
        {
          "output_type": "stream",
          "name": "stdout",
          "text": [
            "\n",
            "Test set: Average loss: 0.0232, Accuracy: 9935/10000 (99.35%)\n",
            "\n"
          ]
        },
        {
          "output_type": "stream",
          "name": "stderr",
          "text": [
            "loss=0.08837100118398666 batch_id=1874: 100%|██████████| 1875/1875 [00:28<00:00, 65.22it/s]\n"
          ]
        },
        {
          "output_type": "stream",
          "name": "stdout",
          "text": [
            "\n",
            "Test set: Average loss: 0.0205, Accuracy: 9939/10000 (99.39%)\n",
            "\n"
          ]
        },
        {
          "output_type": "stream",
          "name": "stderr",
          "text": [
            "loss=0.002903894754126668 batch_id=1874: 100%|██████████| 1875/1875 [00:29<00:00, 63.67it/s]\n"
          ]
        },
        {
          "output_type": "stream",
          "name": "stdout",
          "text": [
            "\n",
            "Test set: Average loss: 0.0227, Accuracy: 9932/10000 (99.32%)\n",
            "\n"
          ]
        },
        {
          "output_type": "stream",
          "name": "stderr",
          "text": [
            "loss=0.04027240723371506 batch_id=1874: 100%|██████████| 1875/1875 [00:29<00:00, 63.28it/s]\n"
          ]
        },
        {
          "output_type": "stream",
          "name": "stdout",
          "text": [
            "\n",
            "Test set: Average loss: 0.0200, Accuracy: 9936/10000 (99.36%)\n",
            "\n"
          ]
        },
        {
          "output_type": "stream",
          "name": "stderr",
          "text": [
            "loss=0.030976906418800354 batch_id=1874: 100%|██████████| 1875/1875 [00:29<00:00, 62.97it/s]\n"
          ]
        },
        {
          "output_type": "stream",
          "name": "stdout",
          "text": [
            "\n",
            "Test set: Average loss: 0.0210, Accuracy: 9937/10000 (99.37%)\n",
            "\n"
          ]
        },
        {
          "output_type": "stream",
          "name": "stderr",
          "text": [
            "loss=0.06207926571369171 batch_id=1874: 100%|██████████| 1875/1875 [00:28<00:00, 64.73it/s]\n"
          ]
        },
        {
          "output_type": "stream",
          "name": "stdout",
          "text": [
            "\n",
            "Test set: Average loss: 0.0213, Accuracy: 9932/10000 (99.32%)\n",
            "\n"
          ]
        },
        {
          "output_type": "stream",
          "name": "stderr",
          "text": [
            "loss=0.025734011083841324 batch_id=1874: 100%|██████████| 1875/1875 [00:28<00:00, 64.86it/s]\n"
          ]
        },
        {
          "output_type": "stream",
          "name": "stdout",
          "text": [
            "\n",
            "Test set: Average loss: 0.0178, Accuracy: 9942/10000 (99.42%)\n",
            "\n"
          ]
        },
        {
          "output_type": "stream",
          "name": "stderr",
          "text": [
            "loss=0.0012785899452865124 batch_id=1874: 100%|██████████| 1875/1875 [00:28<00:00, 65.68it/s]\n"
          ]
        },
        {
          "output_type": "stream",
          "name": "stdout",
          "text": [
            "\n",
            "Test set: Average loss: 0.0185, Accuracy: 9947/10000 (99.47%)\n",
            "\n"
          ]
        },
        {
          "output_type": "stream",
          "name": "stderr",
          "text": [
            "loss=0.01287381537258625 batch_id=1874: 100%|██████████| 1875/1875 [00:29<00:00, 62.87it/s]\n"
          ]
        },
        {
          "output_type": "stream",
          "name": "stdout",
          "text": [
            "\n",
            "Test set: Average loss: 0.0185, Accuracy: 9942/10000 (99.42%)\n",
            "\n"
          ]
        },
        {
          "output_type": "stream",
          "name": "stderr",
          "text": [
            "loss=0.004263182170689106 batch_id=1874: 100%|██████████| 1875/1875 [00:29<00:00, 63.47it/s]\n"
          ]
        },
        {
          "output_type": "stream",
          "name": "stdout",
          "text": [
            "\n",
            "Test set: Average loss: 0.0209, Accuracy: 9944/10000 (99.44%)\n",
            "\n"
          ]
        },
        {
          "output_type": "stream",
          "name": "stderr",
          "text": [
            "loss=0.024548757821321487 batch_id=1874: 100%|██████████| 1875/1875 [00:29<00:00, 62.51it/s]\n"
          ]
        },
        {
          "output_type": "stream",
          "name": "stdout",
          "text": [
            "\n",
            "Test set: Average loss: 0.0183, Accuracy: 9941/10000 (99.41%)\n",
            "\n"
          ]
        },
        {
          "output_type": "stream",
          "name": "stderr",
          "text": [
            "loss=0.005898096598684788 batch_id=1874: 100%|██████████| 1875/1875 [00:29<00:00, 64.10it/s]\n"
          ]
        },
        {
          "output_type": "stream",
          "name": "stdout",
          "text": [
            "\n",
            "Test set: Average loss: 0.0187, Accuracy: 9942/10000 (99.42%)\n",
            "\n"
          ]
        },
        {
          "output_type": "stream",
          "name": "stderr",
          "text": [
            "loss=0.17401878535747528 batch_id=1874: 100%|██████████| 1875/1875 [00:29<00:00, 63.58it/s]\n"
          ]
        },
        {
          "output_type": "stream",
          "name": "stdout",
          "text": [
            "\n",
            "Test set: Average loss: 0.0158, Accuracy: 9951/10000 (99.51%)\n",
            "\n"
          ]
        },
        {
          "output_type": "stream",
          "name": "stderr",
          "text": [
            "loss=0.07753217220306396 batch_id=1874: 100%|██████████| 1875/1875 [00:28<00:00, 64.85it/s]\n"
          ]
        },
        {
          "output_type": "stream",
          "name": "stdout",
          "text": [
            "\n",
            "Test set: Average loss: 0.0169, Accuracy: 9950/10000 (99.50%)\n",
            "\n"
          ]
        }
      ]
    },
    {
      "cell_type": "code",
      "metadata": {
        "id": "So5uk4EkHW6R",
        "colab": {
          "base_uri": "https://localhost:8080/"
        },
        "outputId": "615239b8-45f7-4339-fb58-26137f3c3dc3"
      },
      "source": [
        "# train performance\n",
        "test(model, device, train_loader)  # evaluation"
      ],
      "execution_count": null,
      "outputs": [
        {
          "output_type": "stream",
          "name": "stdout",
          "text": [
            "\n",
            "Test set: Average loss: 0.0120, Accuracy: 59782/60000 (99.64%)\n",
            "\n"
          ]
        }
      ]
    },
    {
      "cell_type": "code",
      "source": [
        "# test performance\n",
        "test(model, device, test_loader)  # evaluation"
      ],
      "metadata": {
        "colab": {
          "base_uri": "https://localhost:8080/"
        },
        "id": "3Q4qh18JXMeq",
        "outputId": "699542b5-86da-491d-de79-ed8d9b768706"
      },
      "execution_count": null,
      "outputs": [
        {
          "output_type": "stream",
          "name": "stdout",
          "text": [
            "\n",
            "Test set: Average loss: 0.0169, Accuracy: 9950/10000 (99.50%)\n",
            "\n"
          ]
        }
      ]
    },
    {
      "cell_type": "code",
      "source": [],
      "metadata": {
        "id": "2mL6aW6rXRKc"
      },
      "execution_count": null,
      "outputs": []
    }
  ]
}