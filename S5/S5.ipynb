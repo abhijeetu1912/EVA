{
  "cells": [
    {
      "cell_type": "markdown",
      "metadata": {
        "id": "7v1kh-DvjmEN"
      },
      "source": [
        "## Cloning GIT Repo"
      ]
    },
    {
      "cell_type": "code",
      "execution_count": 1,
      "metadata": {
        "colab": {
          "base_uri": "https://localhost:8080/"
        },
        "id": "i2z8KvmrjEce",
        "outputId": "4085d392-7ef8-4b15-e6a3-84b773fd7c79"
      },
      "outputs": [
        {
          "output_type": "stream",
          "name": "stdout",
          "text": [
            "Cloning into 'EVA'...\n",
            "remote: Enumerating objects: 241, done.\u001b[K\n",
            "remote: Counting objects: 100% (26/26), done.\u001b[K\n",
            "remote: Compressing objects: 100% (16/16), done.\u001b[K\n",
            "remote: Total 241 (delta 11), reused 21 (delta 6), pack-reused 215\u001b[K\n",
            "Receiving objects: 100% (241/241), 2.06 MiB | 20.89 MiB/s, done.\n",
            "Resolving deltas: 100% (88/88), done.\n"
          ]
        }
      ],
      "source": [
        "!export PYTORCH_CUDA_ALLOC_CONF=garbage_collection_threshold:0.6,max_split_size_mb:128\n",
        "!git clone https://github.com/abhijeetu1912/EVA.git\n",
        "!mv EVA/S5/model.py ."
      ]
    },
    {
      "cell_type": "markdown",
      "metadata": {
        "id": "aO-7t1Y7-hV4"
      },
      "source": [
        "# Import Libraries"
      ]
    },
    {
      "cell_type": "code",
      "execution_count": 2,
      "metadata": {
        "colab": {
          "base_uri": "https://localhost:8080/"
        },
        "id": "ymfYehBQg_7_",
        "outputId": "1c075893-4c56-4546-a8d2-8912c119b8c9"
      },
      "outputs": [
        {
          "output_type": "stream",
          "name": "stdout",
          "text": [
            "Looking in indexes: https://pypi.org/simple, https://us-python.pkg.dev/colab-wheels/public/simple/\n",
            "Requirement already satisfied: torchsummary in /usr/local/lib/python3.8/dist-packages (1.5.1)\n"
          ]
        }
      ],
      "source": [
        "!pip install torchsummary"
      ]
    },
    {
      "cell_type": "code",
      "execution_count": 3,
      "metadata": {
        "id": "8kH16rnZ7wt_"
      },
      "outputs": [],
      "source": [
        "# load required libraries\n",
        "from __future__ import print_function\n",
        "import numpy as np\n",
        "import matplotlib.pyplot as plt\n",
        "import torch\n",
        "import torch.nn as nn\n",
        "import torch.nn.functional as F\n",
        "import torch.optim as optim\n",
        "from torch.optim.lr_scheduler import StepLR\n",
        "from torchvision import datasets, transforms\n",
        "from tqdm import tqdm\n",
        "from model import Net\n",
        "from torchsummary import summary"
      ]
    },
    {
      "cell_type": "markdown",
      "metadata": {
        "id": "ky3f_Odl-7um"
      },
      "source": [
        "## Data Transformations\n"
      ]
    },
    {
      "cell_type": "code",
      "execution_count": 4,
      "metadata": {
        "id": "YtssFUKb-jqx"
      },
      "outputs": [],
      "source": [
        "# Train Phase transformations\n",
        "train_transforms = transforms.Compose([\n",
        "                                       transforms.RandomRotation((-7.0, 7.0)),\n",
        "                                       transforms.ToTensor(),\n",
        "                                       transforms.Normalize((0.1307,), (0.3081,))\n",
        "                                      ])\n",
        "\n",
        "# Test Phase transformations\n",
        "test_transforms = transforms.Compose([\n",
        "                                      transforms.ToTensor(),\n",
        "                                      transforms.Normalize((0.1307,), (0.3081,))\n",
        "                                     ])\n"
      ]
    },
    {
      "cell_type": "markdown",
      "metadata": {
        "id": "oQciFYo2B1mO"
      },
      "source": [
        "# Dataset and Creating Train/Test Split"
      ]
    },
    {
      "cell_type": "code",
      "execution_count": 5,
      "metadata": {
        "id": "_4A84rlfDA23",
        "colab": {
          "base_uri": "https://localhost:8080/",
          "height": 423,
          "referenced_widgets": [
            "0f5bb4d3ff0e4d449f74303aed49628e",
            "abcdf6473b5241e787a972350dcead0b",
            "71811b336de54ae493460bd076342552",
            "3e7a344bc91e4c11a17d0f7a1feeb8ff",
            "bd35eb1122e54a22b6944ee0a071e8a1",
            "1df54f14e8484809a239999747fbb936",
            "321a98b1cfc34e749343b8958b365cd9",
            "1385bb361573411b9bcffea661ae93a7",
            "71fc7d1343a248d29cfda3068e1d9eed",
            "b8e8009bf4ba4d4ea3118eea5bae8307",
            "53018eeb21e54f0ba857882d9cc545d3",
            "6a822df0f6694e6ea814f3fb9daec6a4",
            "767be6a2738e47d8bafb1e55b12286d0",
            "f8d01b930b6244a293cc0732f081892d",
            "404e2f2b2aab47b3b15812db8b50431d",
            "9f66f8a3f596496ea4e817090ea6b336",
            "de22a50cc4a74f6ba4c9a3564380effc",
            "21a7467291914ce7a77289235a2a9967",
            "b2b0a6af0ce544c7bc7b114e5c9f861e",
            "b75164b45c8f4c8bb7c59b0bc220a989",
            "76c23044bd3c48e183b740fbfdc8206b",
            "2c27217ca669442aa1d83b0106005d89",
            "c3220c86c6f54181bf60792e8468ca86",
            "9f9ae5b110d9482f8ba69998a082a10b",
            "2a53fd14c6de400e84b5c1e27a63b4b2",
            "f0a911fa257b424483bd4e308e543925",
            "b84e71f7a52c49c7ab6a7a37370d9ff0",
            "bf9890da17ea476eaa1d24e3d5bde94e",
            "df3c9bc553bb4248ac4c4072bf1635a1",
            "be0ebeee1999458dbf617c5eb04c5019",
            "7c1d4c41537b425483b8001561bd111e",
            "70174838bdf74e0b94da6068bea908b9",
            "2ae2752487fa4035a927590b6ec87614",
            "7127f53b9be84c6890c675f69867ce81",
            "a4c2d73ced7940c1ba2e065183b2b0a1",
            "7ea5891bd5e645ed95cfb64c9ba49dae",
            "03c895a5b2e5419b9ffdcd35719a23ac",
            "7f7f86352d29464b9cb8ae4ae0888b5b",
            "6bc6e85d9f4e4a5aa396fec3b9f3056d",
            "8414a3df56374aedafdbf040b48bef9a",
            "cfaa4e55a96946eab7fce59a5ce80402",
            "9f2d9a09c84546429fbd1a6826c7cbe3",
            "ec6d9e4cf4c34f5bbab6bf50113c0417",
            "42088c62e8de4fe2a8d6db4e883d86e1"
          ]
        },
        "outputId": "c20b22cb-591e-455f-f29b-e0d7ab3c5a9e"
      },
      "outputs": [
        {
          "output_type": "stream",
          "name": "stdout",
          "text": [
            "Downloading http://yann.lecun.com/exdb/mnist/train-images-idx3-ubyte.gz\n",
            "Downloading http://yann.lecun.com/exdb/mnist/train-images-idx3-ubyte.gz to ./data/MNIST/raw/train-images-idx3-ubyte.gz\n"
          ]
        },
        {
          "output_type": "display_data",
          "data": {
            "text/plain": [
              "  0%|          | 0/9912422 [00:00<?, ?it/s]"
            ],
            "application/vnd.jupyter.widget-view+json": {
              "version_major": 2,
              "version_minor": 0,
              "model_id": "0f5bb4d3ff0e4d449f74303aed49628e"
            }
          },
          "metadata": {}
        },
        {
          "output_type": "stream",
          "name": "stdout",
          "text": [
            "Extracting ./data/MNIST/raw/train-images-idx3-ubyte.gz to ./data/MNIST/raw\n",
            "\n",
            "Downloading http://yann.lecun.com/exdb/mnist/train-labels-idx1-ubyte.gz\n",
            "Downloading http://yann.lecun.com/exdb/mnist/train-labels-idx1-ubyte.gz to ./data/MNIST/raw/train-labels-idx1-ubyte.gz\n"
          ]
        },
        {
          "output_type": "display_data",
          "data": {
            "text/plain": [
              "  0%|          | 0/28881 [00:00<?, ?it/s]"
            ],
            "application/vnd.jupyter.widget-view+json": {
              "version_major": 2,
              "version_minor": 0,
              "model_id": "6a822df0f6694e6ea814f3fb9daec6a4"
            }
          },
          "metadata": {}
        },
        {
          "output_type": "stream",
          "name": "stdout",
          "text": [
            "Extracting ./data/MNIST/raw/train-labels-idx1-ubyte.gz to ./data/MNIST/raw\n",
            "\n",
            "Downloading http://yann.lecun.com/exdb/mnist/t10k-images-idx3-ubyte.gz\n",
            "Downloading http://yann.lecun.com/exdb/mnist/t10k-images-idx3-ubyte.gz to ./data/MNIST/raw/t10k-images-idx3-ubyte.gz\n"
          ]
        },
        {
          "output_type": "display_data",
          "data": {
            "text/plain": [
              "  0%|          | 0/1648877 [00:00<?, ?it/s]"
            ],
            "application/vnd.jupyter.widget-view+json": {
              "version_major": 2,
              "version_minor": 0,
              "model_id": "c3220c86c6f54181bf60792e8468ca86"
            }
          },
          "metadata": {}
        },
        {
          "output_type": "stream",
          "name": "stdout",
          "text": [
            "Extracting ./data/MNIST/raw/t10k-images-idx3-ubyte.gz to ./data/MNIST/raw\n",
            "\n",
            "Downloading http://yann.lecun.com/exdb/mnist/t10k-labels-idx1-ubyte.gz\n",
            "Downloading http://yann.lecun.com/exdb/mnist/t10k-labels-idx1-ubyte.gz to ./data/MNIST/raw/t10k-labels-idx1-ubyte.gz\n"
          ]
        },
        {
          "output_type": "display_data",
          "data": {
            "text/plain": [
              "  0%|          | 0/4542 [00:00<?, ?it/s]"
            ],
            "application/vnd.jupyter.widget-view+json": {
              "version_major": 2,
              "version_minor": 0,
              "model_id": "7127f53b9be84c6890c675f69867ce81"
            }
          },
          "metadata": {}
        },
        {
          "output_type": "stream",
          "name": "stdout",
          "text": [
            "Extracting ./data/MNIST/raw/t10k-labels-idx1-ubyte.gz to ./data/MNIST/raw\n",
            "\n"
          ]
        }
      ],
      "source": [
        "train = datasets.MNIST('./data', train=True, download=True, transform=train_transforms)\n",
        "test = datasets.MNIST('./data', train=False, download=True, transform=test_transforms)"
      ]
    },
    {
      "cell_type": "markdown",
      "metadata": {
        "id": "qgldp_3-Dn0c"
      },
      "source": [
        "# Dataloader Arguments & Test/Train Dataloaders\n"
      ]
    },
    {
      "cell_type": "code",
      "execution_count": 6,
      "metadata": {
        "colab": {
          "base_uri": "https://localhost:8080/"
        },
        "id": "C8OLDR79DrHG",
        "outputId": "b5bf8c6a-2403-43dc-d1c5-63961a8bbf89"
      },
      "outputs": [
        {
          "output_type": "stream",
          "name": "stdout",
          "text": [
            "CUDA Available? True\n"
          ]
        },
        {
          "output_type": "stream",
          "name": "stderr",
          "text": [
            "/usr/local/lib/python3.8/dist-packages/torch/utils/data/dataloader.py:554: UserWarning: This DataLoader will create 4 worker processes in total. Our suggested max number of worker in current system is 2, which is smaller than what this DataLoader is going to create. Please be aware that excessive worker creation might get DataLoader running slow or even freeze, lower the worker number to avoid potential slowness/freeze if necessary.\n",
            "  warnings.warn(_create_warning_msg(\n"
          ]
        }
      ],
      "source": [
        "SEED = 1\n",
        "batch_size = 64\n",
        "\n",
        "# CUDA?\n",
        "cuda = torch.cuda.is_available()\n",
        "print(\"CUDA Available?\", cuda)\n",
        "\n",
        "# For reproducibility\n",
        "torch.manual_seed(SEED)\n",
        "\n",
        "if cuda:\n",
        "    torch.cuda.manual_seed(SEED)\n",
        "\n",
        "# dataloader arguments - something you'll fetch these from cmdprmt\n",
        "dataloader_args = dict(shuffle=True, batch_size=batch_size, num_workers=4, pin_memory=True) if cuda else \\\n",
        "                  dict(shuffle=True, batch_size=batch_size//2)\n",
        "\n",
        "# train dataloader\n",
        "train_loader = torch.utils.data.DataLoader(train, **dataloader_args)\n",
        "\n",
        "# test dataloader\n",
        "test_loader = torch.utils.data.DataLoader(test, **dataloader_args)"
      ]
    },
    {
      "cell_type": "markdown",
      "metadata": {
        "id": "ubQL3H6RJL3h"
      },
      "source": [
        "## Device"
      ]
    },
    {
      "cell_type": "code",
      "execution_count": 7,
      "metadata": {
        "colab": {
          "base_uri": "https://localhost:8080/"
        },
        "id": "jsMPLqbFkIfQ",
        "outputId": "27d0c320-d9d5-42ee-862e-a4e462c91625"
      },
      "outputs": [
        {
          "output_type": "stream",
          "name": "stdout",
          "text": [
            "cuda\n"
          ]
        }
      ],
      "source": [
        "# device initialization\n",
        "use_cuda = torch.cuda.is_available()\n",
        "device = torch.device(\"cuda\" if use_cuda else \"cpu\")\n",
        "print(device)"
      ]
    },
    {
      "cell_type": "markdown",
      "metadata": {
        "id": "1__x_SbrL7z3"
      },
      "source": [
        "# Training and Testing Module"
      ]
    },
    {
      "cell_type": "code",
      "execution_count": 8,
      "metadata": {
        "id": "fbkF2nN_LYIb"
      },
      "outputs": [],
      "source": [
        "# trainer to train the model\n",
        "class Trainer:\n",
        "    def __init__(self, model, train_loader, criterion, optimizer, device, scheduler, l1_reg = 0):\n",
        "        self.model = model\n",
        "        self.train_loader = train_loader\n",
        "        self.criterion = criterion\n",
        "        self.optimizer = optimizer\n",
        "        self.device = device\n",
        "        self.train_losses = []\n",
        "        self.train_accs = []\n",
        "        self.l1_reg = l1_reg\n",
        "\n",
        "    def train(self):\n",
        "        # use model in training mode\n",
        "        self.model.train()\n",
        "        # track number of correct classifications & data points processed\n",
        "        correct = 0\n",
        "        processed = 0    \n",
        "        #progress bar\n",
        "        pbar = tqdm(self.train_loader)\n",
        "        # iterate over batches\n",
        "        for batch_id, (inputs, targets) in enumerate(pbar):\n",
        "            # set device\n",
        "            images, targets = inputs.to(self.device), targets.to(self.device)\n",
        "            # zero out or flush gradients from last batch\n",
        "            self.optimizer.zero_grad()\n",
        "            # predict output\n",
        "            outputs = self.model(images)\n",
        "            # calculate loss\n",
        "            loss = self.criterion(outputs, targets)\n",
        "            # add l1 penalty to loss\n",
        "            if self.l1_reg > 0:\n",
        "               l1_norm = sum(p.abs().sum() for p in self.model.parameters())\n",
        "               loss += self.l1_reg * l1_norm\n",
        "            # append batch train loss\n",
        "            self.train_losses.append(loss.item())\n",
        "            # backpropogate loss\n",
        "            loss.backward()\n",
        "            # update weights \n",
        "            self.optimizer.step()\n",
        "            # predict class\n",
        "            pred = outputs.argmax(dim=1, keepdim=True)\n",
        "            # count correctly classified data points\n",
        "            correct += pred.eq(targets.view_as(pred)).sum().item()\n",
        "            # count number of data points processed till this iteration\n",
        "            processed += len(inputs)\n",
        "            # append train accuracy\n",
        "            self.train_accs.append(100 * correct / processed)\n",
        "            # show progress bar\n",
        "            pbar.set_description(\n",
        "                desc=f\"Loss = {loss.item():3.2f} | Batch = {batch_id} | Accuracy = {self.train_accs[-1]:0.2f}\"\n",
        "            )\n",
        "\n",
        "\n",
        "# tester to test the model\n",
        "class Tester:\n",
        "    def __init__(self, model, test_loader, criterion, device):\n",
        "        self.model = model\n",
        "        self.test_loader = test_loader\n",
        "        self.criterion = criterion\n",
        "        self.device = device\n",
        "        self.test_losses = []\n",
        "        self.test_accs = []\n",
        "\n",
        "    def test(self):\n",
        "        #use model in evaluation mode\n",
        "        self.model.eval()\n",
        "        # number of correctly classified data points\n",
        "        correct = 0\n",
        "        # batch test loss\n",
        "        batch_loss = 0\n",
        "        # execute without gradients\n",
        "        with torch.no_grad():\n",
        "            #iterate over batches\n",
        "            for data, target in self.test_loader:\n",
        "                # set device\n",
        "                data, target = data.to(self.device), target.to(self.device)\n",
        "                # predict output\n",
        "                outputs = self.model(data)\n",
        "                # calculate and add up loss over batches\n",
        "                batch_loss += self.criterion(outputs, target).item() \n",
        "                # predict class\n",
        "                pred = outputs.argmax(dim=1, keepdim=True)\n",
        "                # update number of correctly classified ata points\n",
        "                correct += pred.eq(target.view_as(pred)).sum().item()\n",
        "            # append average test loss of epoch\n",
        "            self.test_losses.append(batch_loss / len(self.test_loader.dataset))\n",
        "            # append test accuracy\n",
        "            self.test_accs.append(100 * correct / len(self.test_loader.dataset))\n",
        "            # print epoch statistics\n",
        "            print('\\nTest set: Average loss: {:.5f}, Accuracy: {:.2f}\\n'.format(\n",
        "                  self.test_losses[-1], self.test_accs[-1]))\n",
        "\n",
        "\n",
        "# evaluate final model\n",
        "def evaluate(model, data_loader, criterion, device, split = 'Test'):\n",
        "    #use model in evaluation mode\n",
        "    model.eval()\n",
        "    # number of correctly classified data points\n",
        "    correct = 0\n",
        "    # batch test loss\n",
        "    batch_loss = 0\n",
        "    # execute without gradients\n",
        "    with torch.no_grad():\n",
        "        #iterate over batches\n",
        "        for data, target in data_loader:\n",
        "            # set device\n",
        "            data, target = data.to(device), target.to(device)\n",
        "            # predict output\n",
        "            outputs = model(data)\n",
        "            # calculate and add up loss over batches\n",
        "            batch_loss += criterion(outputs, target).item() \n",
        "            # predict class\n",
        "            pred = outputs.argmax(dim=1, keepdim=True)\n",
        "            # update number of correctly classified ata points\n",
        "            correct += pred.eq(target.view_as(pred)).sum().item()\n",
        "        # average loss\n",
        "        loss = batch_loss / len(data_loader.dataset)\n",
        "        # accuracy\n",
        "        accuracy = 100 * correct / len(data_loader.dataset)\n",
        "        # print epoch statistics\n",
        "        print('\\n{} set: Average loss: {:.5f}, Accuracy: {:.2f}\\n'.format(\n",
        "              split, loss, accuracy))\n"
      ]
    },
    {
      "cell_type": "markdown",
      "metadata": {
        "id": "MhD60iW0-gP9"
      },
      "source": [
        "## Utility Functions to Show Misclassified Images"
      ]
    },
    {
      "cell_type": "code",
      "execution_count": 9,
      "metadata": {
        "id": "UPObTnLA-lcN"
      },
      "outputs": [],
      "source": [
        "# prdict classes from model\n",
        "def predict_label(model, images):\n",
        "    outputs = model(images)\n",
        "    pred_labels = outputs.argmax(dim = 1, keepdim = True)\n",
        "    return pred_labels\n",
        "\n",
        "# find miss classified examples\n",
        "def get_missclassified_records(model, data_loader, device, num_images = 10):\n",
        "    images = []\n",
        "    labels = []\n",
        "    pred_labels = []\n",
        "    model.eval()\n",
        "    with torch.no_grad():\n",
        "         for data, target in data_loader:\n",
        "            data, target = data.to(device), target.to(device)\n",
        "            preds = predict_label(model, data)                           # get the index of the max log-probability\n",
        "            for i in range(len(target)):\n",
        "                if preds[i] != target[i]:\n",
        "                   images.append(data[i])\n",
        "                   labels.append(target[i])\n",
        "                   pred_labels.append(preds[i])\n",
        "    return images[:num_images], labels[:num_images], pred_labels[:num_images]\n",
        "\n",
        "# de-normalize image back to normal\n",
        "def denormalize_image(img, means = 0.1307, stds = 0.3081):\n",
        "    img = img.astype(np.float32)\n",
        "    img = (img * stds) + means\n",
        "    orig_img = np.transpose(img, (1, 2, 0))\n",
        "    return orig_img\n",
        "\n",
        "# save miss classified images\n",
        "def show_missclassified_images(images, labels, pred_labels, num_images = 10):\n",
        "    fig = plt.figure(figsize = (5 * num_images // 5, 5))\n",
        "    for i in range(num_images):\n",
        "        sub = fig.add_subplot(num_images // 5, 5, i + 1)\n",
        "        npimg = denormalize_image(images[i].cpu().numpy())\n",
        "        plt.imshow(npimg, cmap=\"gray\")\n",
        "        sub.set_title(\"True: {} \\nPredicted: {}\".format(labels[i], pred_labels[i][0]))\n",
        "    plt.tight_layout()\n",
        "    plt.show()\n"
      ]
    },
    {
      "cell_type": "markdown",
      "metadata": {
        "id": "ZAhSreWZrvIo"
      },
      "source": [
        "## BN + L1 Training"
      ]
    },
    {
      "cell_type": "code",
      "execution_count": 10,
      "metadata": {
        "colab": {
          "base_uri": "https://localhost:8080/"
        },
        "id": "P8jFIbaU1KiV",
        "outputId": "fc11f638-e32a-4394-d818-4943699ffab5"
      },
      "outputs": [
        {
          "output_type": "stream",
          "name": "stdout",
          "text": [
            "----------------------------------------------------------------\n",
            "        Layer (type)               Output Shape         Param #\n",
            "================================================================\n",
            "            Conv2d-1           [-1, 96, 28, 28]           2,496\n",
            "       BatchNorm2d-2           [-1, 96, 28, 28]             192\n",
            "            Conv2d-3           [-1, 16, 28, 28]           1,552\n",
            "       BatchNorm2d-4           [-1, 16, 28, 28]              32\n",
            "           Dropout-5           [-1, 16, 14, 14]               0\n",
            "            Conv2d-6           [-1, 16, 12, 12]           2,320\n",
            "       BatchNorm2d-7           [-1, 16, 12, 12]              32\n",
            "            Conv2d-8            [-1, 8, 12, 12]             136\n",
            "       BatchNorm2d-9            [-1, 8, 12, 12]              16\n",
            "          Dropout-10              [-1, 8, 6, 6]               0\n",
            "           Conv2d-11             [-1, 16, 4, 4]           1,168\n",
            "      BatchNorm2d-12             [-1, 16, 4, 4]              32\n",
            "           Conv2d-13             [-1, 10, 2, 2]           1,450\n",
            "AdaptiveAvgPool2d-14             [-1, 10, 1, 1]               0\n",
            "================================================================\n",
            "Total params: 9,426\n",
            "Trainable params: 9,426\n",
            "Non-trainable params: 0\n",
            "----------------------------------------------------------------\n",
            "Input size (MB): 0.00\n",
            "Forward/backward pass size (MB): 1.42\n",
            "Params size (MB): 0.04\n",
            "Estimated Total Size (MB): 1.46\n",
            "----------------------------------------------------------------\n"
          ]
        }
      ],
      "source": [
        "# model\n",
        "model_bn = Net(norm_type='BN').to(device)\n",
        "summary(model_bn, input_size=(1, 28, 28))"
      ]
    },
    {
      "cell_type": "code",
      "execution_count": 11,
      "metadata": {
        "colab": {
          "base_uri": "https://localhost:8080/"
        },
        "id": "aE5Le6FYHhc8",
        "outputId": "0d258f17-2e35-4318-e057-e53fb2c0d7a9"
      },
      "outputs": [
        {
          "output_type": "stream",
          "name": "stdout",
          "text": [
            "EPOCH: 0  LR:  0.01\n"
          ]
        },
        {
          "output_type": "stream",
          "name": "stderr",
          "text": [
            "Loss = 0.58 | Batch = 937 | Accuracy = 93.83: 100%|██████████| 938/938 [00:32<00:00, 28.69it/s]\n"
          ]
        },
        {
          "output_type": "stream",
          "name": "stdout",
          "text": [
            "\n",
            "Test set: Average loss: 0.00126, Accuracy: 97.66\n",
            "\n",
            "EPOCH: 1  LR:  0.01\n"
          ]
        },
        {
          "output_type": "stream",
          "name": "stderr",
          "text": [
            "Loss = 0.42 | Batch = 937 | Accuracy = 96.96: 100%|██████████| 938/938 [00:30<00:00, 31.15it/s]\n"
          ]
        },
        {
          "output_type": "stream",
          "name": "stdout",
          "text": [
            "\n",
            "Test set: Average loss: 0.00131, Accuracy: 97.79\n",
            "\n",
            "EPOCH: 2  LR:  0.01\n"
          ]
        },
        {
          "output_type": "stream",
          "name": "stderr",
          "text": [
            "Loss = 0.38 | Batch = 937 | Accuracy = 96.91: 100%|██████████| 938/938 [00:29<00:00, 31.76it/s]\n"
          ]
        },
        {
          "output_type": "stream",
          "name": "stdout",
          "text": [
            "\n",
            "Test set: Average loss: 0.00147, Accuracy: 97.40\n",
            "\n",
            "EPOCH: 3  LR:  0.01\n"
          ]
        },
        {
          "output_type": "stream",
          "name": "stderr",
          "text": [
            "Loss = 0.37 | Batch = 937 | Accuracy = 96.97: 100%|██████████| 938/938 [00:29<00:00, 31.61it/s]\n"
          ]
        },
        {
          "output_type": "stream",
          "name": "stdout",
          "text": [
            "\n",
            "Test set: Average loss: 0.00098, Accuracy: 98.32\n",
            "\n",
            "EPOCH: 4  LR:  0.01\n"
          ]
        },
        {
          "output_type": "stream",
          "name": "stderr",
          "text": [
            "Loss = 0.31 | Batch = 937 | Accuracy = 97.16: 100%|██████████| 938/938 [00:28<00:00, 32.64it/s]\n"
          ]
        },
        {
          "output_type": "stream",
          "name": "stdout",
          "text": [
            "\n",
            "Test set: Average loss: 0.00156, Accuracy: 96.96\n",
            "\n",
            "EPOCH: 5  LR:  0.001\n"
          ]
        },
        {
          "output_type": "stream",
          "name": "stderr",
          "text": [
            "Loss = 0.30 | Batch = 937 | Accuracy = 98.07: 100%|██████████| 938/938 [00:29<00:00, 31.31it/s]\n"
          ]
        },
        {
          "output_type": "stream",
          "name": "stdout",
          "text": [
            "\n",
            "Test set: Average loss: 0.00060, Accuracy: 98.87\n",
            "\n",
            "EPOCH: 6  LR:  0.001\n"
          ]
        },
        {
          "output_type": "stream",
          "name": "stderr",
          "text": [
            "Loss = 0.28 | Batch = 937 | Accuracy = 98.31: 100%|██████████| 938/938 [00:29<00:00, 32.08it/s]\n"
          ]
        },
        {
          "output_type": "stream",
          "name": "stdout",
          "text": [
            "\n",
            "Test set: Average loss: 0.00058, Accuracy: 98.95\n",
            "\n",
            "EPOCH: 7  LR:  0.001\n"
          ]
        },
        {
          "output_type": "stream",
          "name": "stderr",
          "text": [
            "Loss = 0.23 | Batch = 937 | Accuracy = 98.31: 100%|██████████| 938/938 [00:30<00:00, 30.47it/s]\n"
          ]
        },
        {
          "output_type": "stream",
          "name": "stdout",
          "text": [
            "\n",
            "Test set: Average loss: 0.00059, Accuracy: 98.88\n",
            "\n",
            "EPOCH: 8  LR:  0.001\n"
          ]
        },
        {
          "output_type": "stream",
          "name": "stderr",
          "text": [
            "Loss = 0.31 | Batch = 937 | Accuracy = 98.23: 100%|██████████| 938/938 [00:30<00:00, 31.23it/s]\n"
          ]
        },
        {
          "output_type": "stream",
          "name": "stdout",
          "text": [
            "\n",
            "Test set: Average loss: 0.00059, Accuracy: 98.86\n",
            "\n",
            "EPOCH: 9  LR:  0.001\n"
          ]
        },
        {
          "output_type": "stream",
          "name": "stderr",
          "text": [
            "Loss = 0.26 | Batch = 937 | Accuracy = 98.18: 100%|██████████| 938/938 [00:31<00:00, 30.07it/s]\n"
          ]
        },
        {
          "output_type": "stream",
          "name": "stdout",
          "text": [
            "\n",
            "Test set: Average loss: 0.00066, Accuracy: 98.77\n",
            "\n",
            "EPOCH: 10  LR:  0.0001\n"
          ]
        },
        {
          "output_type": "stream",
          "name": "stderr",
          "text": [
            "Loss = 0.26 | Batch = 937 | Accuracy = 98.44: 100%|██████████| 938/938 [00:29<00:00, 31.50it/s]\n"
          ]
        },
        {
          "output_type": "stream",
          "name": "stdout",
          "text": [
            "\n",
            "Test set: Average loss: 0.00051, Accuracy: 99.18\n",
            "\n",
            "EPOCH: 11  LR:  0.0001\n"
          ]
        },
        {
          "output_type": "stream",
          "name": "stderr",
          "text": [
            "Loss = 0.33 | Batch = 937 | Accuracy = 98.54: 100%|██████████| 938/938 [00:30<00:00, 31.03it/s]\n"
          ]
        },
        {
          "output_type": "stream",
          "name": "stdout",
          "text": [
            "\n",
            "Test set: Average loss: 0.00050, Accuracy: 99.19\n",
            "\n",
            "EPOCH: 12  LR:  0.0001\n"
          ]
        },
        {
          "output_type": "stream",
          "name": "stderr",
          "text": [
            "Loss = 0.21 | Batch = 937 | Accuracy = 98.61: 100%|██████████| 938/938 [00:29<00:00, 31.53it/s]\n"
          ]
        },
        {
          "output_type": "stream",
          "name": "stdout",
          "text": [
            "\n",
            "Test set: Average loss: 0.00049, Accuracy: 99.19\n",
            "\n",
            "EPOCH: 13  LR:  0.0001\n"
          ]
        },
        {
          "output_type": "stream",
          "name": "stderr",
          "text": [
            "Loss = 0.24 | Batch = 937 | Accuracy = 98.62: 100%|██████████| 938/938 [00:29<00:00, 31.51it/s]\n"
          ]
        },
        {
          "output_type": "stream",
          "name": "stdout",
          "text": [
            "\n",
            "Test set: Average loss: 0.00049, Accuracy: 99.22\n",
            "\n",
            "EPOCH: 14  LR:  0.0001\n"
          ]
        },
        {
          "output_type": "stream",
          "name": "stderr",
          "text": [
            "Loss = 0.21 | Batch = 937 | Accuracy = 98.59: 100%|██████████| 938/938 [00:29<00:00, 31.63it/s]\n"
          ]
        },
        {
          "output_type": "stream",
          "name": "stdout",
          "text": [
            "\n",
            "Test set: Average loss: 0.00050, Accuracy: 99.22\n",
            "\n",
            "EPOCH: 15  LR:  1e-05\n"
          ]
        },
        {
          "output_type": "stream",
          "name": "stderr",
          "text": [
            "Loss = 0.23 | Batch = 937 | Accuracy = 98.68: 100%|██████████| 938/938 [00:30<00:00, 31.01it/s]\n"
          ]
        },
        {
          "output_type": "stream",
          "name": "stdout",
          "text": [
            "\n",
            "Test set: Average loss: 0.00048, Accuracy: 99.20\n",
            "\n",
            "EPOCH: 16  LR:  1e-05\n"
          ]
        },
        {
          "output_type": "stream",
          "name": "stderr",
          "text": [
            "Loss = 0.21 | Batch = 937 | Accuracy = 98.61: 100%|██████████| 938/938 [00:29<00:00, 31.39it/s]\n"
          ]
        },
        {
          "output_type": "stream",
          "name": "stdout",
          "text": [
            "\n",
            "Test set: Average loss: 0.00048, Accuracy: 99.21\n",
            "\n",
            "EPOCH: 17  LR:  1e-05\n"
          ]
        },
        {
          "output_type": "stream",
          "name": "stderr",
          "text": [
            "Loss = 0.25 | Batch = 937 | Accuracy = 98.61: 100%|██████████| 938/938 [00:29<00:00, 31.36it/s]\n"
          ]
        },
        {
          "output_type": "stream",
          "name": "stdout",
          "text": [
            "\n",
            "Test set: Average loss: 0.00049, Accuracy: 99.15\n",
            "\n",
            "EPOCH: 18  LR:  1e-05\n"
          ]
        },
        {
          "output_type": "stream",
          "name": "stderr",
          "text": [
            "Loss = 0.20 | Batch = 937 | Accuracy = 98.60: 100%|██████████| 938/938 [00:30<00:00, 30.61it/s]\n"
          ]
        },
        {
          "output_type": "stream",
          "name": "stdout",
          "text": [
            "\n",
            "Test set: Average loss: 0.00049, Accuracy: 99.21\n",
            "\n",
            "EPOCH: 19  LR:  1e-05\n"
          ]
        },
        {
          "output_type": "stream",
          "name": "stderr",
          "text": [
            "Loss = 0.22 | Batch = 937 | Accuracy = 98.65: 100%|██████████| 938/938 [00:30<00:00, 31.18it/s]\n"
          ]
        },
        {
          "output_type": "stream",
          "name": "stdout",
          "text": [
            "\n",
            "Test set: Average loss: 0.00049, Accuracy: 99.23\n",
            "\n"
          ]
        }
      ],
      "source": [
        "criterion = nn.CrossEntropyLoss()  # loss\n",
        "optimizer = optim.SGD(model_bn.parameters(), lr = 0.01, momentum = 0.9)  # optimizer\n",
        "scheduler = StepLR(optimizer, step_size = 5, gamma = 0.1)  # learning rate scheduler\n",
        "\n",
        "EPOCHS = 20  # num of epochs\n",
        "train_bn = Trainer(model_bn, train_loader, criterion, optimizer, device, scheduler, l1_reg = 1e-3)\n",
        "test_bn = Tester(model_bn, test_loader, criterion, device)\n",
        "\n",
        "for epoch in range(EPOCHS):\n",
        "    print(\"EPOCH:\", epoch, \" LR: \", train_bn.optimizer.param_groups[0]['lr'])\n",
        "    train_bn.train()      # train\n",
        "    test_bn.test()        # test\n",
        "    scheduler.step()      # scheduler step"
      ]
    },
    {
      "cell_type": "markdown",
      "metadata": {
        "id": "SamDtiKqH2nb"
      },
      "source": [
        "#### Model Performance (BN)"
      ]
    },
    {
      "cell_type": "code",
      "execution_count": 12,
      "metadata": {
        "id": "bOw9rLc9hfCV",
        "colab": {
          "base_uri": "https://localhost:8080/"
        },
        "outputId": "d87d2a0c-4cf8-4b91-ce9a-9e9ed9e09499"
      },
      "outputs": [
        {
          "output_type": "stream",
          "name": "stdout",
          "text": [
            "\n",
            "Train set: Average loss: 0.00058, Accuracy: 99.00\n",
            "\n",
            "\n",
            "Test set: Average loss: 0.00048, Accuracy: 99.23\n",
            "\n"
          ]
        }
      ],
      "source": [
        "# model performance\n",
        "evaluate(model_bn, train_loader, criterion, device, split = 'Train')\n",
        "evaluate(model_bn, test_loader, criterion, device, split = 'Test')"
      ]
    },
    {
      "cell_type": "markdown",
      "metadata": {
        "id": "dZ5Yt6XGEsYL"
      },
      "source": [
        "#### Misclassified Images of BN"
      ]
    },
    {
      "cell_type": "code",
      "execution_count": 13,
      "metadata": {
        "id": "YTqkNYexEer_",
        "colab": {
          "base_uri": "https://localhost:8080/",
          "height": 365
        },
        "outputId": "172183fe-b6b2-4063-a549-e18ae3cb90e2"
      },
      "outputs": [
        {
          "output_type": "display_data",
          "data": {
            "text/plain": [
              "<Figure size 720x360 with 10 Axes>"
            ],
            "image/png": "[encoded data removed]"
          },
          "metadata": {
            "needs_background": "light"
          }
        }
      ],
      "source": [
        "# get miss classified images, their truue labels and predicted labels\n",
        "miss_images, miss_labels, miss_pred_labels = get_missclassified_records(model_bn, test_loader, device, 10)\n",
        "\n",
        "# show miss classified images\n",
        "show_missclassified_images(miss_images, miss_labels, miss_pred_labels, 10)"
      ]
    },
    {
      "cell_type": "markdown",
      "metadata": {
        "id": "aNP0Yk3qvcas"
      },
      "source": [
        "## LN Training"
      ]
    },
    {
      "cell_type": "code",
      "execution_count": 14,
      "metadata": {
        "id": "Q85hDWQA1CUp",
        "colab": {
          "base_uri": "https://localhost:8080/"
        },
        "outputId": "bb47fd55-9596-42ff-e6e1-1c9208f6fd65"
      },
      "outputs": [
        {
          "output_type": "stream",
          "name": "stdout",
          "text": [
            "----------------------------------------------------------------\n",
            "        Layer (type)               Output Shape         Param #\n",
            "================================================================\n",
            "            Conv2d-1           [-1, 96, 28, 28]           2,496\n",
            "         GroupNorm-2           [-1, 96, 28, 28]             192\n",
            "            Conv2d-3           [-1, 16, 28, 28]           1,552\n",
            "         GroupNorm-4           [-1, 16, 28, 28]              32\n",
            "           Dropout-5           [-1, 16, 14, 14]               0\n",
            "            Conv2d-6           [-1, 16, 12, 12]           2,320\n",
            "         GroupNorm-7           [-1, 16, 12, 12]              32\n",
            "            Conv2d-8            [-1, 8, 12, 12]             136\n",
            "         GroupNorm-9            [-1, 8, 12, 12]              16\n",
            "          Dropout-10              [-1, 8, 6, 6]               0\n",
            "           Conv2d-11             [-1, 16, 4, 4]           1,168\n",
            "        GroupNorm-12             [-1, 16, 4, 4]              32\n",
            "           Conv2d-13             [-1, 10, 2, 2]           1,450\n",
            "AdaptiveAvgPool2d-14             [-1, 10, 1, 1]               0\n",
            "================================================================\n",
            "Total params: 9,426\n",
            "Trainable params: 9,426\n",
            "Non-trainable params: 0\n",
            "----------------------------------------------------------------\n",
            "Input size (MB): 0.00\n",
            "Forward/backward pass size (MB): 1.42\n",
            "Params size (MB): 0.04\n",
            "Estimated Total Size (MB): 1.46\n",
            "----------------------------------------------------------------\n"
          ]
        }
      ],
      "source": [
        "# model\n",
        "model_ln = Net(norm_type='LN').to(device)\n",
        "summary(model_ln, input_size=(1, 28, 28))"
      ]
    },
    {
      "cell_type": "code",
      "execution_count": 15,
      "metadata": {
        "id": "iHOex6G1vcas",
        "colab": {
          "base_uri": "https://localhost:8080/"
        },
        "outputId": "7811e79a-2a17-4575-eb48-3d5d76b4d1ee"
      },
      "outputs": [
        {
          "output_type": "stream",
          "name": "stdout",
          "text": [
            "EPOCH: 0  LR:  0.01\n"
          ]
        },
        {
          "output_type": "stream",
          "name": "stderr",
          "text": [
            "Loss = 0.01 | Batch = 937 | Accuracy = 91.27: 100%|██████████| 938/938 [00:28<00:00, 33.18it/s]\n"
          ]
        },
        {
          "output_type": "stream",
          "name": "stdout",
          "text": [
            "\n",
            "Test set: Average loss: 0.00102, Accuracy: 98.04\n",
            "\n",
            "EPOCH: 1  LR:  0.01\n"
          ]
        },
        {
          "output_type": "stream",
          "name": "stderr",
          "text": [
            "Loss = 0.14 | Batch = 937 | Accuracy = 97.16: 100%|██████████| 938/938 [00:28<00:00, 33.25it/s]\n"
          ]
        },
        {
          "output_type": "stream",
          "name": "stdout",
          "text": [
            "\n",
            "Test set: Average loss: 0.00087, Accuracy: 98.22\n",
            "\n",
            "EPOCH: 2  LR:  0.01\n"
          ]
        },
        {
          "output_type": "stream",
          "name": "stderr",
          "text": [
            "Loss = 0.18 | Batch = 937 | Accuracy = 97.80: 100%|██████████| 938/938 [00:29<00:00, 32.05it/s]\n"
          ]
        },
        {
          "output_type": "stream",
          "name": "stdout",
          "text": [
            "\n",
            "Test set: Average loss: 0.00063, Accuracy: 98.77\n",
            "\n",
            "EPOCH: 3  LR:  0.01\n"
          ]
        },
        {
          "output_type": "stream",
          "name": "stderr",
          "text": [
            "Loss = 0.13 | Batch = 937 | Accuracy = 98.03: 100%|██████████| 938/938 [00:28<00:00, 32.84it/s]\n"
          ]
        },
        {
          "output_type": "stream",
          "name": "stdout",
          "text": [
            "\n",
            "Test set: Average loss: 0.00055, Accuracy: 98.81\n",
            "\n",
            "EPOCH: 4  LR:  0.01\n"
          ]
        },
        {
          "output_type": "stream",
          "name": "stderr",
          "text": [
            "Loss = 0.01 | Batch = 937 | Accuracy = 98.20: 100%|██████████| 938/938 [00:28<00:00, 33.28it/s]\n"
          ]
        },
        {
          "output_type": "stream",
          "name": "stdout",
          "text": [
            "\n",
            "Test set: Average loss: 0.00049, Accuracy: 98.99\n",
            "\n",
            "EPOCH: 5  LR:  0.001\n"
          ]
        },
        {
          "output_type": "stream",
          "name": "stderr",
          "text": [
            "Loss = 0.08 | Batch = 937 | Accuracy = 98.71: 100%|██████████| 938/938 [00:28<00:00, 33.49it/s]\n"
          ]
        },
        {
          "output_type": "stream",
          "name": "stdout",
          "text": [
            "\n",
            "Test set: Average loss: 0.00042, Accuracy: 99.22\n",
            "\n",
            "EPOCH: 6  LR:  0.001\n"
          ]
        },
        {
          "output_type": "stream",
          "name": "stderr",
          "text": [
            "Loss = 0.01 | Batch = 937 | Accuracy = 98.71: 100%|██████████| 938/938 [00:28<00:00, 32.65it/s]\n"
          ]
        },
        {
          "output_type": "stream",
          "name": "stdout",
          "text": [
            "\n",
            "Test set: Average loss: 0.00042, Accuracy: 99.18\n",
            "\n",
            "EPOCH: 7  LR:  0.001\n"
          ]
        },
        {
          "output_type": "stream",
          "name": "stderr",
          "text": [
            "Loss = 0.05 | Batch = 937 | Accuracy = 98.80: 100%|██████████| 938/938 [00:28<00:00, 33.25it/s]\n"
          ]
        },
        {
          "output_type": "stream",
          "name": "stdout",
          "text": [
            "\n",
            "Test set: Average loss: 0.00041, Accuracy: 99.24\n",
            "\n",
            "EPOCH: 8  LR:  0.001\n"
          ]
        },
        {
          "output_type": "stream",
          "name": "stderr",
          "text": [
            "Loss = 0.08 | Batch = 937 | Accuracy = 98.84: 100%|██████████| 938/938 [00:28<00:00, 33.18it/s]\n"
          ]
        },
        {
          "output_type": "stream",
          "name": "stdout",
          "text": [
            "\n",
            "Test set: Average loss: 0.00040, Accuracy: 99.24\n",
            "\n",
            "EPOCH: 9  LR:  0.001\n"
          ]
        },
        {
          "output_type": "stream",
          "name": "stderr",
          "text": [
            "Loss = 0.08 | Batch = 937 | Accuracy = 98.83: 100%|██████████| 938/938 [00:29<00:00, 31.28it/s]\n"
          ]
        },
        {
          "output_type": "stream",
          "name": "stdout",
          "text": [
            "\n",
            "Test set: Average loss: 0.00040, Accuracy: 99.25\n",
            "\n",
            "EPOCH: 10  LR:  0.0001\n"
          ]
        },
        {
          "output_type": "stream",
          "name": "stderr",
          "text": [
            "Loss = 0.04 | Batch = 937 | Accuracy = 98.87: 100%|██████████| 938/938 [00:28<00:00, 33.23it/s]\n"
          ]
        },
        {
          "output_type": "stream",
          "name": "stdout",
          "text": [
            "\n",
            "Test set: Average loss: 0.00039, Accuracy: 99.28\n",
            "\n",
            "EPOCH: 11  LR:  0.0001\n"
          ]
        },
        {
          "output_type": "stream",
          "name": "stderr",
          "text": [
            "Loss = 0.00 | Batch = 937 | Accuracy = 98.91: 100%|██████████| 938/938 [00:27<00:00, 33.77it/s]\n"
          ]
        },
        {
          "output_type": "stream",
          "name": "stdout",
          "text": [
            "\n",
            "Test set: Average loss: 0.00039, Accuracy: 99.28\n",
            "\n",
            "EPOCH: 12  LR:  0.0001\n"
          ]
        },
        {
          "output_type": "stream",
          "name": "stderr",
          "text": [
            "Loss = 0.06 | Batch = 937 | Accuracy = 98.87: 100%|██████████| 938/938 [00:28<00:00, 33.15it/s]\n"
          ]
        },
        {
          "output_type": "stream",
          "name": "stdout",
          "text": [
            "\n",
            "Test set: Average loss: 0.00039, Accuracy: 99.29\n",
            "\n",
            "EPOCH: 13  LR:  0.0001\n"
          ]
        },
        {
          "output_type": "stream",
          "name": "stderr",
          "text": [
            "Loss = 0.00 | Batch = 937 | Accuracy = 98.90: 100%|██████████| 938/938 [00:27<00:00, 33.57it/s]\n"
          ]
        },
        {
          "output_type": "stream",
          "name": "stdout",
          "text": [
            "\n",
            "Test set: Average loss: 0.00039, Accuracy: 99.32\n",
            "\n",
            "EPOCH: 14  LR:  0.0001\n"
          ]
        },
        {
          "output_type": "stream",
          "name": "stderr",
          "text": [
            "Loss = 0.03 | Batch = 937 | Accuracy = 98.81: 100%|██████████| 938/938 [00:28<00:00, 32.75it/s]\n"
          ]
        },
        {
          "output_type": "stream",
          "name": "stdout",
          "text": [
            "\n",
            "Test set: Average loss: 0.00039, Accuracy: 99.33\n",
            "\n",
            "EPOCH: 15  LR:  1e-05\n"
          ]
        },
        {
          "output_type": "stream",
          "name": "stderr",
          "text": [
            "Loss = 0.02 | Batch = 937 | Accuracy = 98.88: 100%|██████████| 938/938 [00:28<00:00, 32.67it/s]\n"
          ]
        },
        {
          "output_type": "stream",
          "name": "stdout",
          "text": [
            "\n",
            "Test set: Average loss: 0.00039, Accuracy: 99.33\n",
            "\n",
            "EPOCH: 16  LR:  1e-05\n"
          ]
        },
        {
          "output_type": "stream",
          "name": "stderr",
          "text": [
            "Loss = 0.02 | Batch = 937 | Accuracy = 98.88: 100%|██████████| 938/938 [00:28<00:00, 33.44it/s]\n"
          ]
        },
        {
          "output_type": "stream",
          "name": "stdout",
          "text": [
            "\n",
            "Test set: Average loss: 0.00039, Accuracy: 99.33\n",
            "\n",
            "EPOCH: 17  LR:  1e-05\n"
          ]
        },
        {
          "output_type": "stream",
          "name": "stderr",
          "text": [
            "Loss = 0.08 | Batch = 937 | Accuracy = 98.94: 100%|██████████| 938/938 [00:28<00:00, 32.73it/s]\n"
          ]
        },
        {
          "output_type": "stream",
          "name": "stdout",
          "text": [
            "\n",
            "Test set: Average loss: 0.00039, Accuracy: 99.33\n",
            "\n",
            "EPOCH: 18  LR:  1e-05\n"
          ]
        },
        {
          "output_type": "stream",
          "name": "stderr",
          "text": [
            "Loss = 0.11 | Batch = 937 | Accuracy = 98.89: 100%|██████████| 938/938 [00:28<00:00, 33.28it/s]\n"
          ]
        },
        {
          "output_type": "stream",
          "name": "stdout",
          "text": [
            "\n",
            "Test set: Average loss: 0.00039, Accuracy: 99.34\n",
            "\n",
            "EPOCH: 19  LR:  1e-05\n"
          ]
        },
        {
          "output_type": "stream",
          "name": "stderr",
          "text": [
            "Loss = 0.14 | Batch = 937 | Accuracy = 98.92: 100%|██████████| 938/938 [00:27<00:00, 34.50it/s]\n"
          ]
        },
        {
          "output_type": "stream",
          "name": "stdout",
          "text": [
            "\n",
            "Test set: Average loss: 0.00040, Accuracy: 99.34\n",
            "\n"
          ]
        }
      ],
      "source": [
        "criterion = nn.CrossEntropyLoss()  # loss\n",
        "optimizer = optim.SGD(model_ln.parameters(), lr = 0.01, momentum = 0.9)  # optimizer\n",
        "scheduler = StepLR(optimizer, step_size = 5, gamma = 0.1)  # learning rate scheduler\n",
        "\n",
        "EPOCHS = 20  # num of epochs\n",
        "train_ln = Trainer(model_ln, train_loader, criterion, optimizer, device, scheduler)\n",
        "test_ln = Tester(model_ln, test_loader, criterion, device)\n",
        "\n",
        "for epoch in range(EPOCHS):\n",
        "    print(\"EPOCH:\", epoch, \" LR: \", train_ln.optimizer.param_groups[0]['lr'])\n",
        "    train_ln.train()      # train\n",
        "    test_ln.test()        # test\n",
        "    scheduler.step()      # scheduler step"
      ]
    },
    {
      "cell_type": "markdown",
      "metadata": {
        "id": "kqDxSFT4Hz6I"
      },
      "source": [
        "#### Model Performance (LN)"
      ]
    },
    {
      "cell_type": "code",
      "execution_count": 16,
      "metadata": {
        "id": "gn2lvxAWvwcz",
        "colab": {
          "base_uri": "https://localhost:8080/"
        },
        "outputId": "20a43cb5-1d2c-4247-d6c4-4d06eb169661"
      },
      "outputs": [
        {
          "output_type": "stream",
          "name": "stdout",
          "text": [
            "\n",
            "Train set: Average loss: 0.00045, Accuracy: 99.08\n",
            "\n",
            "\n",
            "Test set: Average loss: 0.00039, Accuracy: 99.34\n",
            "\n"
          ]
        }
      ],
      "source": [
        "# model performance\n",
        "evaluate(model_ln, train_loader, criterion, device, split = 'Train')\n",
        "evaluate(model_ln, test_loader, criterion, device, split = 'Test')"
      ]
    },
    {
      "cell_type": "markdown",
      "metadata": {
        "id": "O9RIfOjrElz-"
      },
      "source": [
        "#### Misclassified Images of LN"
      ]
    },
    {
      "cell_type": "code",
      "execution_count": 17,
      "metadata": {
        "id": "vctJDgLZEZw_",
        "colab": {
          "base_uri": "https://localhost:8080/",
          "height": 365
        },
        "outputId": "c784edb0-df15-4ca6-e340-02294aa7126a"
      },
      "outputs": [
        {
          "output_type": "display_data",
          "data": {
            "text/plain": [
              "<Figure size 720x360 with 10 Axes>"
            ],
            "image/png": "[encoded data removed]"
          },
          "metadata": {
            "needs_background": "light"
          }
        }
      ],
      "source": [
        "# get miss classified images, their truue labels and predicted labels\n",
        "miss_images, miss_labels, miss_pred_labels = get_missclassified_records(model_ln, test_loader, device, 10)\n",
        "\n",
        "# show miss classified images\n",
        "show_missclassified_images(miss_images, miss_labels, miss_pred_labels, 10)"
      ]
    },
    {
      "cell_type": "markdown",
      "metadata": {
        "id": "KYr29dwFv0L1"
      },
      "source": [
        "## GN Training"
      ]
    },
    {
      "cell_type": "code",
      "execution_count": 18,
      "metadata": {
        "id": "y6KXkN_v1ZOe",
        "colab": {
          "base_uri": "https://localhost:8080/"
        },
        "outputId": "83f832da-feaf-44ee-ded0-ee1693c80459"
      },
      "outputs": [
        {
          "output_type": "stream",
          "name": "stdout",
          "text": [
            "----------------------------------------------------------------\n",
            "        Layer (type)               Output Shape         Param #\n",
            "================================================================\n",
            "            Conv2d-1           [-1, 96, 28, 28]           2,496\n",
            "         GroupNorm-2           [-1, 96, 28, 28]             192\n",
            "            Conv2d-3           [-1, 16, 28, 28]           1,552\n",
            "         GroupNorm-4           [-1, 16, 28, 28]              32\n",
            "           Dropout-5           [-1, 16, 14, 14]               0\n",
            "            Conv2d-6           [-1, 16, 12, 12]           2,320\n",
            "         GroupNorm-7           [-1, 16, 12, 12]              32\n",
            "            Conv2d-8            [-1, 8, 12, 12]             136\n",
            "         GroupNorm-9            [-1, 8, 12, 12]              16\n",
            "          Dropout-10              [-1, 8, 6, 6]               0\n",
            "           Conv2d-11             [-1, 16, 4, 4]           1,168\n",
            "        GroupNorm-12             [-1, 16, 4, 4]              32\n",
            "           Conv2d-13             [-1, 10, 2, 2]           1,450\n",
            "AdaptiveAvgPool2d-14             [-1, 10, 1, 1]               0\n",
            "================================================================\n",
            "Total params: 9,426\n",
            "Trainable params: 9,426\n",
            "Non-trainable params: 0\n",
            "----------------------------------------------------------------\n",
            "Input size (MB): 0.00\n",
            "Forward/backward pass size (MB): 1.42\n",
            "Params size (MB): 0.04\n",
            "Estimated Total Size (MB): 1.46\n",
            "----------------------------------------------------------------\n"
          ]
        }
      ],
      "source": [
        "# model\n",
        "model_gn = Net(norm_type='GN').to(device)\n",
        "summary(model_gn, input_size=(1, 28, 28))"
      ]
    },
    {
      "cell_type": "code",
      "execution_count": 19,
      "metadata": {
        "id": "2KrRu31Rv0L2",
        "colab": {
          "base_uri": "https://localhost:8080/"
        },
        "outputId": "c6481f9c-8c6b-4ba5-9e37-dcf18b7a5d5e"
      },
      "outputs": [
        {
          "output_type": "stream",
          "name": "stdout",
          "text": [
            "EPOCH: 0  LR:  0.01\n"
          ]
        },
        {
          "output_type": "stream",
          "name": "stderr",
          "text": [
            "Loss = 0.06 | Batch = 937 | Accuracy = 92.08: 100%|██████████| 938/938 [00:28<00:00, 33.27it/s]\n"
          ]
        },
        {
          "output_type": "stream",
          "name": "stdout",
          "text": [
            "\n",
            "Test set: Average loss: 0.00103, Accuracy: 97.97\n",
            "\n",
            "EPOCH: 1  LR:  0.01\n"
          ]
        },
        {
          "output_type": "stream",
          "name": "stderr",
          "text": [
            "Loss = 0.04 | Batch = 937 | Accuracy = 97.21: 100%|██████████| 938/938 [00:28<00:00, 32.98it/s]\n"
          ]
        },
        {
          "output_type": "stream",
          "name": "stdout",
          "text": [
            "\n",
            "Test set: Average loss: 0.00109, Accuracy: 97.67\n",
            "\n",
            "EPOCH: 2  LR:  0.01\n"
          ]
        },
        {
          "output_type": "stream",
          "name": "stderr",
          "text": [
            "Loss = 0.22 | Batch = 937 | Accuracy = 97.67: 100%|██████████| 938/938 [00:27<00:00, 33.54it/s]\n"
          ]
        },
        {
          "output_type": "stream",
          "name": "stdout",
          "text": [
            "\n",
            "Test set: Average loss: 0.00071, Accuracy: 98.64\n",
            "\n",
            "EPOCH: 3  LR:  0.01\n"
          ]
        },
        {
          "output_type": "stream",
          "name": "stderr",
          "text": [
            "Loss = 0.05 | Batch = 937 | Accuracy = 97.92: 100%|██████████| 938/938 [00:29<00:00, 32.05it/s]\n"
          ]
        },
        {
          "output_type": "stream",
          "name": "stdout",
          "text": [
            "\n",
            "Test set: Average loss: 0.00064, Accuracy: 98.73\n",
            "\n",
            "EPOCH: 4  LR:  0.01\n"
          ]
        },
        {
          "output_type": "stream",
          "name": "stderr",
          "text": [
            "Loss = 0.04 | Batch = 937 | Accuracy = 98.19: 100%|██████████| 938/938 [00:28<00:00, 33.27it/s]\n"
          ]
        },
        {
          "output_type": "stream",
          "name": "stdout",
          "text": [
            "\n",
            "Test set: Average loss: 0.00051, Accuracy: 98.90\n",
            "\n",
            "EPOCH: 5  LR:  0.001\n"
          ]
        },
        {
          "output_type": "stream",
          "name": "stderr",
          "text": [
            "Loss = 0.02 | Batch = 937 | Accuracy = 98.61: 100%|██████████| 938/938 [00:27<00:00, 33.50it/s]\n"
          ]
        },
        {
          "output_type": "stream",
          "name": "stdout",
          "text": [
            "\n",
            "Test set: Average loss: 0.00043, Accuracy: 99.10\n",
            "\n",
            "EPOCH: 6  LR:  0.001\n"
          ]
        },
        {
          "output_type": "stream",
          "name": "stderr",
          "text": [
            "Loss = 0.10 | Batch = 937 | Accuracy = 98.69: 100%|██████████| 938/938 [00:28<00:00, 33.36it/s]\n"
          ]
        },
        {
          "output_type": "stream",
          "name": "stdout",
          "text": [
            "\n",
            "Test set: Average loss: 0.00041, Accuracy: 99.13\n",
            "\n",
            "EPOCH: 7  LR:  0.001\n"
          ]
        },
        {
          "output_type": "stream",
          "name": "stderr",
          "text": [
            "Loss = 0.00 | Batch = 937 | Accuracy = 98.69: 100%|██████████| 938/938 [00:28<00:00, 33.35it/s]\n"
          ]
        },
        {
          "output_type": "stream",
          "name": "stdout",
          "text": [
            "\n",
            "Test set: Average loss: 0.00041, Accuracy: 99.12\n",
            "\n",
            "EPOCH: 8  LR:  0.001\n"
          ]
        },
        {
          "output_type": "stream",
          "name": "stderr",
          "text": [
            "Loss = 0.01 | Batch = 937 | Accuracy = 98.72: 100%|██████████| 938/938 [00:27<00:00, 34.07it/s]\n"
          ]
        },
        {
          "output_type": "stream",
          "name": "stdout",
          "text": [
            "\n",
            "Test set: Average loss: 0.00041, Accuracy: 99.16\n",
            "\n",
            "EPOCH: 9  LR:  0.001\n"
          ]
        },
        {
          "output_type": "stream",
          "name": "stderr",
          "text": [
            "Loss = 0.16 | Batch = 937 | Accuracy = 98.84: 100%|██████████| 938/938 [00:27<00:00, 34.33it/s]\n"
          ]
        },
        {
          "output_type": "stream",
          "name": "stdout",
          "text": [
            "\n",
            "Test set: Average loss: 0.00040, Accuracy: 99.15\n",
            "\n",
            "EPOCH: 10  LR:  0.0001\n"
          ]
        },
        {
          "output_type": "stream",
          "name": "stderr",
          "text": [
            "Loss = 0.00 | Batch = 937 | Accuracy = 98.81: 100%|██████████| 938/938 [00:28<00:00, 33.18it/s]\n"
          ]
        },
        {
          "output_type": "stream",
          "name": "stdout",
          "text": [
            "\n",
            "Test set: Average loss: 0.00039, Accuracy: 99.17\n",
            "\n",
            "EPOCH: 11  LR:  0.0001\n"
          ]
        },
        {
          "output_type": "stream",
          "name": "stderr",
          "text": [
            "Loss = 0.00 | Batch = 937 | Accuracy = 98.81: 100%|██████████| 938/938 [00:27<00:00, 34.08it/s]\n"
          ]
        },
        {
          "output_type": "stream",
          "name": "stdout",
          "text": [
            "\n",
            "Test set: Average loss: 0.00039, Accuracy: 99.16\n",
            "\n",
            "EPOCH: 12  LR:  0.0001\n"
          ]
        },
        {
          "output_type": "stream",
          "name": "stderr",
          "text": [
            "Loss = 0.00 | Batch = 937 | Accuracy = 98.83: 100%|██████████| 938/938 [00:27<00:00, 34.11it/s]\n"
          ]
        },
        {
          "output_type": "stream",
          "name": "stdout",
          "text": [
            "\n",
            "Test set: Average loss: 0.00039, Accuracy: 99.16\n",
            "\n",
            "EPOCH: 13  LR:  0.0001\n"
          ]
        },
        {
          "output_type": "stream",
          "name": "stderr",
          "text": [
            "Loss = 0.00 | Batch = 937 | Accuracy = 98.87: 100%|██████████| 938/938 [00:27<00:00, 34.01it/s]\n"
          ]
        },
        {
          "output_type": "stream",
          "name": "stdout",
          "text": [
            "\n",
            "Test set: Average loss: 0.00039, Accuracy: 99.16\n",
            "\n",
            "EPOCH: 14  LR:  0.0001\n"
          ]
        },
        {
          "output_type": "stream",
          "name": "stderr",
          "text": [
            "Loss = 0.05 | Batch = 937 | Accuracy = 98.85: 100%|██████████| 938/938 [00:28<00:00, 33.05it/s]\n"
          ]
        },
        {
          "output_type": "stream",
          "name": "stdout",
          "text": [
            "\n",
            "Test set: Average loss: 0.00039, Accuracy: 99.19\n",
            "\n",
            "EPOCH: 15  LR:  1e-05\n"
          ]
        },
        {
          "output_type": "stream",
          "name": "stderr",
          "text": [
            "Loss = 0.03 | Batch = 937 | Accuracy = 98.81: 100%|██████████| 938/938 [00:27<00:00, 34.14it/s]\n"
          ]
        },
        {
          "output_type": "stream",
          "name": "stdout",
          "text": [
            "\n",
            "Test set: Average loss: 0.00039, Accuracy: 99.18\n",
            "\n",
            "EPOCH: 16  LR:  1e-05\n"
          ]
        },
        {
          "output_type": "stream",
          "name": "stderr",
          "text": [
            "Loss = 0.01 | Batch = 937 | Accuracy = 98.89: 100%|██████████| 938/938 [00:27<00:00, 33.92it/s]\n"
          ]
        },
        {
          "output_type": "stream",
          "name": "stdout",
          "text": [
            "\n",
            "Test set: Average loss: 0.00039, Accuracy: 99.20\n",
            "\n",
            "EPOCH: 17  LR:  1e-05\n"
          ]
        },
        {
          "output_type": "stream",
          "name": "stderr",
          "text": [
            "Loss = 0.01 | Batch = 937 | Accuracy = 98.84: 100%|██████████| 938/938 [00:27<00:00, 33.50it/s]\n"
          ]
        },
        {
          "output_type": "stream",
          "name": "stdout",
          "text": [
            "\n",
            "Test set: Average loss: 0.00039, Accuracy: 99.19\n",
            "\n",
            "EPOCH: 18  LR:  1e-05\n"
          ]
        },
        {
          "output_type": "stream",
          "name": "stderr",
          "text": [
            "Loss = 0.00 | Batch = 937 | Accuracy = 98.77: 100%|██████████| 938/938 [00:27<00:00, 33.63it/s]\n"
          ]
        },
        {
          "output_type": "stream",
          "name": "stdout",
          "text": [
            "\n",
            "Test set: Average loss: 0.00039, Accuracy: 99.18\n",
            "\n",
            "EPOCH: 19  LR:  1e-05\n"
          ]
        },
        {
          "output_type": "stream",
          "name": "stderr",
          "text": [
            "Loss = 0.00 | Batch = 937 | Accuracy = 98.87: 100%|██████████| 938/938 [00:27<00:00, 34.06it/s]\n"
          ]
        },
        {
          "output_type": "stream",
          "name": "stdout",
          "text": [
            "\n",
            "Test set: Average loss: 0.00039, Accuracy: 99.17\n",
            "\n"
          ]
        }
      ],
      "source": [
        "criterion = nn.CrossEntropyLoss()  # loss\n",
        "optimizer = optim.SGD(model_gn.parameters(), lr = 0.01, momentum = 0.9)  # optimizer\n",
        "scheduler = StepLR(optimizer, step_size = 5, gamma = 0.1)  # learning rate scheduler\n",
        "\n",
        "EPOCHS = 20  # num of epochs\n",
        "train_gn = Trainer(model_gn, train_loader, criterion, optimizer, device, scheduler)\n",
        "test_gn = Tester(model_gn, test_loader, criterion, device)\n",
        "\n",
        "for epoch in range(EPOCHS):\n",
        "    print(\"EPOCH:\", epoch, \" LR: \", train_gn.optimizer.param_groups[0]['lr'])\n",
        "    train_gn.train()      # train\n",
        "    test_gn.test()        # test\n",
        "    scheduler.step()      # scheduler step"
      ]
    },
    {
      "cell_type": "markdown",
      "metadata": {
        "id": "Ev0f8US-HtDd"
      },
      "source": [
        "#### Model Performance (GN)"
      ]
    },
    {
      "cell_type": "code",
      "execution_count": 20,
      "metadata": {
        "id": "5Rjh0BgGv0L2",
        "colab": {
          "base_uri": "https://localhost:8080/"
        },
        "outputId": "72f19b90-3f32-4b08-ae07-cc147403579d"
      },
      "outputs": [
        {
          "output_type": "stream",
          "name": "stdout",
          "text": [
            "\n",
            "Train set: Average loss: 0.00046, Accuracy: 99.07\n",
            "\n",
            "\n",
            "Test set: Average loss: 0.00039, Accuracy: 99.17\n",
            "\n"
          ]
        }
      ],
      "source": [
        "# model performance\n",
        "evaluate(model_gn, train_loader, criterion, device, split = 'Train')\n",
        "evaluate(model_gn, test_loader, criterion, device, split = 'Test')"
      ]
    },
    {
      "cell_type": "markdown",
      "metadata": {
        "id": "ZaSIYdvrEzz3"
      },
      "source": [
        "#### Misclassified Images of GN"
      ]
    },
    {
      "cell_type": "code",
      "execution_count": 21,
      "metadata": {
        "id": "dpVLzDz2CDxG",
        "colab": {
          "base_uri": "https://localhost:8080/",
          "height": 365
        },
        "outputId": "7426133f-db36-4ae2-e3a4-74ba3bf3f202"
      },
      "outputs": [
        {
          "output_type": "display_data",
          "data": {
            "text/plain": [
              "<Figure size 720x360 with 10 Axes>"
            ],
            "image/png": "[encoded data removed]"
          },
          "metadata": {
            "needs_background": "light"
          }
        }
      ],
      "source": [
        "# get miss classified images, their truue labels and predicted labels\n",
        "miss_images, miss_labels, miss_pred_labels = get_missclassified_records(model_gn, test_loader, device, 10)\n",
        "\n",
        "# show miss classified images\n",
        "show_missclassified_images(miss_images, miss_labels, miss_pred_labels, 10)"
      ]
    },
    {
      "cell_type": "markdown",
      "metadata": {
        "id": "drokW8wWODKq"
      },
      "source": [
        "# Performance Plots"
      ]
    },
    {
      "cell_type": "markdown",
      "source": [
        "#### Validation Loss"
      ],
      "metadata": {
        "id": "1BN24ewn2wDq"
      }
    },
    {
      "cell_type": "code",
      "execution_count": 24,
      "metadata": {
        "id": "87RaqGSEOWDe",
        "colab": {
          "base_uri": "https://localhost:8080/",
          "height": 253
        },
        "outputId": "7d6793cb-3c16-4e6f-f960-8ccdefc5f32b"
      },
      "outputs": [
        {
          "output_type": "execute_result",
          "data": {
            "text/plain": [
              "Text(0, 0.5, 'Val Loss')"
            ]
          },
          "metadata": {},
          "execution_count": 24
        },
        {
          "output_type": "display_data",
          "data": {
            "text/plain": [
              "<Figure size 1440x216 with 3 Axes>"
            ],
            "image/png": "[encoded data removed]"
          },
          "metadata": {
            "needs_background": "light"
          }
        }
      ],
      "source": [
        "# loss plots\n",
        "fig, axs = plt.subplots(1, 3, figsize = (20, 3))\n",
        "axs[0].plot(range(EPOCHS), test_bn.test_losses)\n",
        "axs[0].set_title(\"BN + L1\")\n",
        "axs[0].set_xlabel('Epoch')\n",
        "axs[0].set_ylabel('Val Loss')\n",
        "axs[1].plot(range(EPOCHS), test_ln.test_losses)\n",
        "axs[1].set_title(\"LN\")\n",
        "axs[1].set_xlabel('Epoch')\n",
        "axs[1].set_ylabel('Val Loss')\n",
        "axs[2].plot(range(EPOCHS), test_bn.test_losses)\n",
        "axs[2].set_title(\"GN\")\n",
        "axs[2].set_xlabel('Epoch')\n",
        "axs[2].set_ylabel('Val Loss')"
      ]
    },
    {
      "cell_type": "markdown",
      "source": [
        "#### Validation Accuracy"
      ],
      "metadata": {
        "id": "JQiGftHT21DH"
      }
    },
    {
      "cell_type": "code",
      "execution_count": 25,
      "metadata": {
        "id": "wjO3RK9UEnvF",
        "colab": {
          "base_uri": "https://localhost:8080/",
          "height": 256
        },
        "outputId": "ced2eb22-990c-4da9-d713-3f92aa0f384a"
      },
      "outputs": [
        {
          "output_type": "execute_result",
          "data": {
            "text/plain": [
              "Text(0, 0.5, 'Val Acc')"
            ]
          },
          "metadata": {},
          "execution_count": 25
        },
        {
          "output_type": "display_data",
          "data": {
            "text/plain": [
              "<Figure size 1440x216 with 3 Axes>"
            ],
            "image/png": "[encoded data removed]"
          },
          "metadata": {
            "needs_background": "light"
          }
        }
      ],
      "source": [
        "# accuracy plots\n",
        "fig, axs = plt.subplots(1, 3, figsize = (20, 3))\n",
        "axs[0].plot(range(EPOCHS), test_bn.test_accs)\n",
        "axs[0].set_title(\"BN + L1\")\n",
        "axs[0].set_xlabel('Epoch')\n",
        "axs[0].set_ylabel('Val Acc')\n",
        "axs[1].plot(range(EPOCHS), test_ln.test_accs)\n",
        "axs[1].set_title(\"LN\")\n",
        "axs[1].set_xlabel('Epoch')\n",
        "axs[1].set_ylabel('Val Acc')\n",
        "axs[2].plot(range(EPOCHS), test_bn.test_accs)\n",
        "axs[2].set_title(\"GN\")\n",
        "axs[2].set_xlabel('Epoch')\n",
        "axs[2].set_ylabel('Val Acc')"
      ]
    },
    {
      "cell_type": "code",
      "execution_count": 23,
      "metadata": {
        "id": "NY-J6MGqHoQ3"
      },
      "outputs": [],
      "source": []
    }
  ],
  "metadata": {
    "accelerator": "GPU",
    "colab": {
      "provenance": []
    },
    "gpuClass": "premium",
    "kernelspec": {
      "display_name": "Python 3",
      "name": "python3"
    },
    "widgets": {
      "application/vnd.jupyter.widget-state+json": {
        "0f5bb4d3ff0e4d449f74303aed49628e": {
          "model_module": "@jupyter-widgets/controls",
          "model_name": "HBoxModel",
          "model_module_version": "1.5.0",
          "state": {
            "_dom_classes": [],
            "_model_module": "@jupyter-widgets/controls",
            "_model_module_version": "1.5.0",
            "_model_name": "HBoxModel",
            "_view_count": null,
            "_view_module": "@jupyter-widgets/controls",
            "_view_module_version": "1.5.0",
            "_view_name": "HBoxView",
            "box_style": "",
            "children": [
              "IPY_MODEL_abcdf6473b5241e787a972350dcead0b",
              "IPY_MODEL_71811b336de54ae493460bd076342552",
              "IPY_MODEL_3e7a344bc91e4c11a17d0f7a1feeb8ff"
            ],
            "layout": "IPY_MODEL_bd35eb1122e54a22b6944ee0a071e8a1"
          }
        },
        "abcdf6473b5241e787a972350dcead0b": {
          "model_module": "@jupyter-widgets/controls",
          "model_name": "HTMLModel",
          "model_module_version": "1.5.0",
          "state": {
            "_dom_classes": [],
            "_model_module": "@jupyter-widgets/controls",
            "_model_module_version": "1.5.0",
            "_model_name": "HTMLModel",
            "_view_count": null,
            "_view_module": "@jupyter-widgets/controls",
            "_view_module_version": "1.5.0",
            "_view_name": "HTMLView",
            "description": "",
            "description_tooltip": null,
            "layout": "IPY_MODEL_1df54f14e8484809a239999747fbb936",
            "placeholder": "​",
            "style": "IPY_MODEL_321a98b1cfc34e749343b8958b365cd9",
            "value": "100%"
          }
        },
        "71811b336de54ae493460bd076342552": {
          "model_module": "@jupyter-widgets/controls",
          "model_name": "FloatProgressModel",
          "model_module_version": "1.5.0",
          "state": {
            "_dom_classes": [],
            "_model_module": "@jupyter-widgets/controls",
            "_model_module_version": "1.5.0",
            "_model_name": "FloatProgressModel",
            "_view_count": null,
            "_view_module": "@jupyter-widgets/controls",
            "_view_module_version": "1.5.0",
            "_view_name": "ProgressView",
            "bar_style": "success",
            "description": "",
            "description_tooltip": null,
            "layout": "IPY_MODEL_1385bb361573411b9bcffea661ae93a7",
            "max": 9912422,
            "min": 0,
            "orientation": "horizontal",
            "style": "IPY_MODEL_71fc7d1343a248d29cfda3068e1d9eed",
            "value": 9912422
          }
        },
        "3e7a344bc91e4c11a17d0f7a1feeb8ff": {
          "model_module": "@jupyter-widgets/controls",
          "model_name": "HTMLModel",
          "model_module_version": "1.5.0",
          "state": {
            "_dom_classes": [],
            "_model_module": "@jupyter-widgets/controls",
            "_model_module_version": "1.5.0",
            "_model_name": "HTMLModel",
            "_view_count": null,
            "_view_module": "@jupyter-widgets/controls",
            "_view_module_version": "1.5.0",
            "_view_name": "HTMLView",
            "description": "",
            "description_tooltip": null,
            "layout": "IPY_MODEL_b8e8009bf4ba4d4ea3118eea5bae8307",
            "placeholder": "​",
            "style": "IPY_MODEL_53018eeb21e54f0ba857882d9cc545d3",
            "value": " 9912422/9912422 [00:00&lt;00:00, 159834041.64it/s]"
          }
        },
        "bd35eb1122e54a22b6944ee0a071e8a1": {
          "model_module": "@jupyter-widgets/base",
          "model_name": "LayoutModel",
          "model_module_version": "1.2.0",
          "state": {
            "_model_module": "@jupyter-widgets/base",
            "_model_module_version": "1.2.0",
            "_model_name": "LayoutModel",
            "_view_count": null,
            "_view_module": "@jupyter-widgets/base",
            "_view_module_version": "1.2.0",
            "_view_name": "LayoutView",
            "align_content": null,
            "align_items": null,
            "align_self": null,
            "border": null,
            "bottom": null,
            "display": null,
            "flex": null,
            "flex_flow": null,
            "grid_area": null,
            "grid_auto_columns": null,
            "grid_auto_flow": null,
            "grid_auto_rows": null,
            "grid_column": null,
            "grid_gap": null,
            "grid_row": null,
            "grid_template_areas": null,
            "grid_template_columns": null,
            "grid_template_rows": null,
            "height": null,
            "justify_content": null,
            "justify_items": null,
            "left": null,
            "margin": null,
            "max_height": null,
            "max_width": null,
            "min_height": null,
            "min_width": null,
            "object_fit": null,
            "object_position": null,
            "order": null,
            "overflow": null,
            "overflow_x": null,
            "overflow_y": null,
            "padding": null,
            "right": null,
            "top": null,
            "visibility": null,
            "width": null
          }
        },
        "1df54f14e8484809a239999747fbb936": {
          "model_module": "@jupyter-widgets/base",
          "model_name": "LayoutModel",
          "model_module_version": "1.2.0",
          "state": {
            "_model_module": "@jupyter-widgets/base",
            "_model_module_version": "1.2.0",
            "_model_name": "LayoutModel",
            "_view_count": null,
            "_view_module": "@jupyter-widgets/base",
            "_view_module_version": "1.2.0",
            "_view_name": "LayoutView",
            "align_content": null,
            "align_items": null,
            "align_self": null,
            "border": null,
            "bottom": null,
            "display": null,
            "flex": null,
            "flex_flow": null,
            "grid_area": null,
            "grid_auto_columns": null,
            "grid_auto_flow": null,
            "grid_auto_rows": null,
            "grid_column": null,
            "grid_gap": null,
            "grid_row": null,
            "grid_template_areas": null,
            "grid_template_columns": null,
            "grid_template_rows": null,
            "height": null,
            "justify_content": null,
            "justify_items": null,
            "left": null,
            "margin": null,
            "max_height": null,
            "max_width": null,
            "min_height": null,
            "min_width": null,
            "object_fit": null,
            "object_position": null,
            "order": null,
            "overflow": null,
            "overflow_x": null,
            "overflow_y": null,
            "padding": null,
            "right": null,
            "top": null,
            "visibility": null,
            "width": null
          }
        },
        "321a98b1cfc34e749343b8958b365cd9": {
          "model_module": "@jupyter-widgets/controls",
          "model_name": "DescriptionStyleModel",
          "model_module_version": "1.5.0",
          "state": {
            "_model_module": "@jupyter-widgets/controls",
            "_model_module_version": "1.5.0",
            "_model_name": "DescriptionStyleModel",
            "_view_count": null,
            "_view_module": "@jupyter-widgets/base",
            "_view_module_version": "1.2.0",
            "_view_name": "StyleView",
            "description_width": ""
          }
        },
        "1385bb361573411b9bcffea661ae93a7": {
          "model_module": "@jupyter-widgets/base",
          "model_name": "LayoutModel",
          "model_module_version": "1.2.0",
          "state": {
            "_model_module": "@jupyter-widgets/base",
            "_model_module_version": "1.2.0",
            "_model_name": "LayoutModel",
            "_view_count": null,
            "_view_module": "@jupyter-widgets/base",
            "_view_module_version": "1.2.0",
            "_view_name": "LayoutView",
            "align_content": null,
            "align_items": null,
            "align_self": null,
            "border": null,
            "bottom": null,
            "display": null,
            "flex": null,
            "flex_flow": null,
            "grid_area": null,
            "grid_auto_columns": null,
            "grid_auto_flow": null,
            "grid_auto_rows": null,
            "grid_column": null,
            "grid_gap": null,
            "grid_row": null,
            "grid_template_areas": null,
            "grid_template_columns": null,
            "grid_template_rows": null,
            "height": null,
            "justify_content": null,
            "justify_items": null,
            "left": null,
            "margin": null,
            "max_height": null,
            "max_width": null,
            "min_height": null,
            "min_width": null,
            "object_fit": null,
            "object_position": null,
            "order": null,
            "overflow": null,
            "overflow_x": null,
            "overflow_y": null,
            "padding": null,
            "right": null,
            "top": null,
            "visibility": null,
            "width": null
          }
        },
        "71fc7d1343a248d29cfda3068e1d9eed": {
          "model_module": "@jupyter-widgets/controls",
          "model_name": "ProgressStyleModel",
          "model_module_version": "1.5.0",
          "state": {
            "_model_module": "@jupyter-widgets/controls",
            "_model_module_version": "1.5.0",
            "_model_name": "ProgressStyleModel",
            "_view_count": null,
            "_view_module": "@jupyter-widgets/base",
            "_view_module_version": "1.2.0",
            "_view_name": "StyleView",
            "bar_color": null,
            "description_width": ""
          }
        },
        "b8e8009bf4ba4d4ea3118eea5bae8307": {
          "model_module": "@jupyter-widgets/base",
          "model_name": "LayoutModel",
          "model_module_version": "1.2.0",
          "state": {
            "_model_module": "@jupyter-widgets/base",
            "_model_module_version": "1.2.0",
            "_model_name": "LayoutModel",
            "_view_count": null,
            "_view_module": "@jupyter-widgets/base",
            "_view_module_version": "1.2.0",
            "_view_name": "LayoutView",
            "align_content": null,
            "align_items": null,
            "align_self": null,
            "border": null,
            "bottom": null,
            "display": null,
            "flex": null,
            "flex_flow": null,
            "grid_area": null,
            "grid_auto_columns": null,
            "grid_auto_flow": null,
            "grid_auto_rows": null,
            "grid_column": null,
            "grid_gap": null,
            "grid_row": null,
            "grid_template_areas": null,
            "grid_template_columns": null,
            "grid_template_rows": null,
            "height": null,
            "justify_content": null,
            "justify_items": null,
            "left": null,
            "margin": null,
            "max_height": null,
            "max_width": null,
            "min_height": null,
            "min_width": null,
            "object_fit": null,
            "object_position": null,
            "order": null,
            "overflow": null,
            "overflow_x": null,
            "overflow_y": null,
            "padding": null,
            "right": null,
            "top": null,
            "visibility": null,
            "width": null
          }
        },
        "53018eeb21e54f0ba857882d9cc545d3": {
          "model_module": "@jupyter-widgets/controls",
          "model_name": "DescriptionStyleModel",
          "model_module_version": "1.5.0",
          "state": {
            "_model_module": "@jupyter-widgets/controls",
            "_model_module_version": "1.5.0",
            "_model_name": "DescriptionStyleModel",
            "_view_count": null,
            "_view_module": "@jupyter-widgets/base",
            "_view_module_version": "1.2.0",
            "_view_name": "StyleView",
            "description_width": ""
          }
        },
        "6a822df0f6694e6ea814f3fb9daec6a4": {
          "model_module": "@jupyter-widgets/controls",
          "model_name": "HBoxModel",
          "model_module_version": "1.5.0",
          "state": {
            "_dom_classes": [],
            "_model_module": "@jupyter-widgets/controls",
            "_model_module_version": "1.5.0",
            "_model_name": "HBoxModel",
            "_view_count": null,
            "_view_module": "@jupyter-widgets/controls",
            "_view_module_version": "1.5.0",
            "_view_name": "HBoxView",
            "box_style": "",
            "children": [
              "IPY_MODEL_767be6a2738e47d8bafb1e55b12286d0",
              "IPY_MODEL_f8d01b930b6244a293cc0732f081892d",
              "IPY_MODEL_404e2f2b2aab47b3b15812db8b50431d"
            ],
            "layout": "IPY_MODEL_9f66f8a3f596496ea4e817090ea6b336"
          }
        },
        "767be6a2738e47d8bafb1e55b12286d0": {
          "model_module": "@jupyter-widgets/controls",
          "model_name": "HTMLModel",
          "model_module_version": "1.5.0",
          "state": {
            "_dom_classes": [],
            "_model_module": "@jupyter-widgets/controls",
            "_model_module_version": "1.5.0",
            "_model_name": "HTMLModel",
            "_view_count": null,
            "_view_module": "@jupyter-widgets/controls",
            "_view_module_version": "1.5.0",
            "_view_name": "HTMLView",
            "description": "",
            "description_tooltip": null,
            "layout": "IPY_MODEL_de22a50cc4a74f6ba4c9a3564380effc",
            "placeholder": "​",
            "style": "IPY_MODEL_21a7467291914ce7a77289235a2a9967",
            "value": "100%"
          }
        },
        "f8d01b930b6244a293cc0732f081892d": {
          "model_module": "@jupyter-widgets/controls",
          "model_name": "FloatProgressModel",
          "model_module_version": "1.5.0",
          "state": {
            "_dom_classes": [],
            "_model_module": "@jupyter-widgets/controls",
            "_model_module_version": "1.5.0",
            "_model_name": "FloatProgressModel",
            "_view_count": null,
            "_view_module": "@jupyter-widgets/controls",
            "_view_module_version": "1.5.0",
            "_view_name": "ProgressView",
            "bar_style": "success",
            "description": "",
            "description_tooltip": null,
            "layout": "IPY_MODEL_b2b0a6af0ce544c7bc7b114e5c9f861e",
            "max": 28881,
            "min": 0,
            "orientation": "horizontal",
            "style": "IPY_MODEL_b75164b45c8f4c8bb7c59b0bc220a989",
            "value": 28881
          }
        },
        "404e2f2b2aab47b3b15812db8b50431d": {
          "model_module": "@jupyter-widgets/controls",
          "model_name": "HTMLModel",
          "model_module_version": "1.5.0",
          "state": {
            "_dom_classes": [],
            "_model_module": "@jupyter-widgets/controls",
            "_model_module_version": "1.5.0",
            "_model_name": "HTMLModel",
            "_view_count": null,
            "_view_module": "@jupyter-widgets/controls",
            "_view_module_version": "1.5.0",
            "_view_name": "HTMLView",
            "description": "",
            "description_tooltip": null,
            "layout": "IPY_MODEL_76c23044bd3c48e183b740fbfdc8206b",
            "placeholder": "​",
            "style": "IPY_MODEL_2c27217ca669442aa1d83b0106005d89",
            "value": " 28881/28881 [00:00&lt;00:00, 1243016.57it/s]"
          }
        },
        "9f66f8a3f596496ea4e817090ea6b336": {
          "model_module": "@jupyter-widgets/base",
          "model_name": "LayoutModel",
          "model_module_version": "1.2.0",
          "state": {
            "_model_module": "@jupyter-widgets/base",
            "_model_module_version": "1.2.0",
            "_model_name": "LayoutModel",
            "_view_count": null,
            "_view_module": "@jupyter-widgets/base",
            "_view_module_version": "1.2.0",
            "_view_name": "LayoutView",
            "align_content": null,
            "align_items": null,
            "align_self": null,
            "border": null,
            "bottom": null,
            "display": null,
            "flex": null,
            "flex_flow": null,
            "grid_area": null,
            "grid_auto_columns": null,
            "grid_auto_flow": null,
            "grid_auto_rows": null,
            "grid_column": null,
            "grid_gap": null,
            "grid_row": null,
            "grid_template_areas": null,
            "grid_template_columns": null,
            "grid_template_rows": null,
            "height": null,
            "justify_content": null,
            "justify_items": null,
            "left": null,
            "margin": null,
            "max_height": null,
            "max_width": null,
            "min_height": null,
            "min_width": null,
            "object_fit": null,
            "object_position": null,
            "order": null,
            "overflow": null,
            "overflow_x": null,
            "overflow_y": null,
            "padding": null,
            "right": null,
            "top": null,
            "visibility": null,
            "width": null
          }
        },
        "de22a50cc4a74f6ba4c9a3564380effc": {
          "model_module": "@jupyter-widgets/base",
          "model_name": "LayoutModel",
          "model_module_version": "1.2.0",
          "state": {
            "_model_module": "@jupyter-widgets/base",
            "_model_module_version": "1.2.0",
            "_model_name": "LayoutModel",
            "_view_count": null,
            "_view_module": "@jupyter-widgets/base",
            "_view_module_version": "1.2.0",
            "_view_name": "LayoutView",
            "align_content": null,
            "align_items": null,
            "align_self": null,
            "border": null,
            "bottom": null,
            "display": null,
            "flex": null,
            "flex_flow": null,
            "grid_area": null,
            "grid_auto_columns": null,
            "grid_auto_flow": null,
            "grid_auto_rows": null,
            "grid_column": null,
            "grid_gap": null,
            "grid_row": null,
            "grid_template_areas": null,
            "grid_template_columns": null,
            "grid_template_rows": null,
            "height": null,
            "justify_content": null,
            "justify_items": null,
            "left": null,
            "margin": null,
            "max_height": null,
            "max_width": null,
            "min_height": null,
            "min_width": null,
            "object_fit": null,
            "object_position": null,
            "order": null,
            "overflow": null,
            "overflow_x": null,
            "overflow_y": null,
            "padding": null,
            "right": null,
            "top": null,
            "visibility": null,
            "width": null
          }
        },
        "21a7467291914ce7a77289235a2a9967": {
          "model_module": "@jupyter-widgets/controls",
          "model_name": "DescriptionStyleModel",
          "model_module_version": "1.5.0",
          "state": {
            "_model_module": "@jupyter-widgets/controls",
            "_model_module_version": "1.5.0",
            "_model_name": "DescriptionStyleModel",
            "_view_count": null,
            "_view_module": "@jupyter-widgets/base",
            "_view_module_version": "1.2.0",
            "_view_name": "StyleView",
            "description_width": ""
          }
        },
        "b2b0a6af0ce544c7bc7b114e5c9f861e": {
          "model_module": "@jupyter-widgets/base",
          "model_name": "LayoutModel",
          "model_module_version": "1.2.0",
          "state": {
            "_model_module": "@jupyter-widgets/base",
            "_model_module_version": "1.2.0",
            "_model_name": "LayoutModel",
            "_view_count": null,
            "_view_module": "@jupyter-widgets/base",
            "_view_module_version": "1.2.0",
            "_view_name": "LayoutView",
            "align_content": null,
            "align_items": null,
            "align_self": null,
            "border": null,
            "bottom": null,
            "display": null,
            "flex": null,
            "flex_flow": null,
            "grid_area": null,
            "grid_auto_columns": null,
            "grid_auto_flow": null,
            "grid_auto_rows": null,
            "grid_column": null,
            "grid_gap": null,
            "grid_row": null,
            "grid_template_areas": null,
            "grid_template_columns": null,
            "grid_template_rows": null,
            "height": null,
            "justify_content": null,
            "justify_items": null,
            "left": null,
            "margin": null,
            "max_height": null,
            "max_width": null,
            "min_height": null,
            "min_width": null,
            "object_fit": null,
            "object_position": null,
            "order": null,
            "overflow": null,
            "overflow_x": null,
            "overflow_y": null,
            "padding": null,
            "right": null,
            "top": null,
            "visibility": null,
            "width": null
          }
        },
        "b75164b45c8f4c8bb7c59b0bc220a989": {
          "model_module": "@jupyter-widgets/controls",
          "model_name": "ProgressStyleModel",
          "model_module_version": "1.5.0",
          "state": {
            "_model_module": "@jupyter-widgets/controls",
            "_model_module_version": "1.5.0",
            "_model_name": "ProgressStyleModel",
            "_view_count": null,
            "_view_module": "@jupyter-widgets/base",
            "_view_module_version": "1.2.0",
            "_view_name": "StyleView",
            "bar_color": null,
            "description_width": ""
          }
        },
        "76c23044bd3c48e183b740fbfdc8206b": {
          "model_module": "@jupyter-widgets/base",
          "model_name": "LayoutModel",
          "model_module_version": "1.2.0",
          "state": {
            "_model_module": "@jupyter-widgets/base",
            "_model_module_version": "1.2.0",
            "_model_name": "LayoutModel",
            "_view_count": null,
            "_view_module": "@jupyter-widgets/base",
            "_view_module_version": "1.2.0",
            "_view_name": "LayoutView",
            "align_content": null,
            "align_items": null,
            "align_self": null,
            "border": null,
            "bottom": null,
            "display": null,
            "flex": null,
            "flex_flow": null,
            "grid_area": null,
            "grid_auto_columns": null,
            "grid_auto_flow": null,
            "grid_auto_rows": null,
            "grid_column": null,
            "grid_gap": null,
            "grid_row": null,
            "grid_template_areas": null,
            "grid_template_columns": null,
            "grid_template_rows": null,
            "height": null,
            "justify_content": null,
            "justify_items": null,
            "left": null,
            "margin": null,
            "max_height": null,
            "max_width": null,
            "min_height": null,
            "min_width": null,
            "object_fit": null,
            "object_position": null,
            "order": null,
            "overflow": null,
            "overflow_x": null,
            "overflow_y": null,
            "padding": null,
            "right": null,
            "top": null,
            "visibility": null,
            "width": null
          }
        },
        "2c27217ca669442aa1d83b0106005d89": {
          "model_module": "@jupyter-widgets/controls",
          "model_name": "DescriptionStyleModel",
          "model_module_version": "1.5.0",
          "state": {
            "_model_module": "@jupyter-widgets/controls",
            "_model_module_version": "1.5.0",
            "_model_name": "DescriptionStyleModel",
            "_view_count": null,
            "_view_module": "@jupyter-widgets/base",
            "_view_module_version": "1.2.0",
            "_view_name": "StyleView",
            "description_width": ""
          }
        },
        "c3220c86c6f54181bf60792e8468ca86": {
          "model_module": "@jupyter-widgets/controls",
          "model_name": "HBoxModel",
          "model_module_version": "1.5.0",
          "state": {
            "_dom_classes": [],
            "_model_module": "@jupyter-widgets/controls",
            "_model_module_version": "1.5.0",
            "_model_name": "HBoxModel",
            "_view_count": null,
            "_view_module": "@jupyter-widgets/controls",
            "_view_module_version": "1.5.0",
            "_view_name": "HBoxView",
            "box_style": "",
            "children": [
              "IPY_MODEL_9f9ae5b110d9482f8ba69998a082a10b",
              "IPY_MODEL_2a53fd14c6de400e84b5c1e27a63b4b2",
              "IPY_MODEL_f0a911fa257b424483bd4e308e543925"
            ],
            "layout": "IPY_MODEL_b84e71f7a52c49c7ab6a7a37370d9ff0"
          }
        },
        "9f9ae5b110d9482f8ba69998a082a10b": {
          "model_module": "@jupyter-widgets/controls",
          "model_name": "HTMLModel",
          "model_module_version": "1.5.0",
          "state": {
            "_dom_classes": [],
            "_model_module": "@jupyter-widgets/controls",
            "_model_module_version": "1.5.0",
            "_model_name": "HTMLModel",
            "_view_count": null,
            "_view_module": "@jupyter-widgets/controls",
            "_view_module_version": "1.5.0",
            "_view_name": "HTMLView",
            "description": "",
            "description_tooltip": null,
            "layout": "IPY_MODEL_bf9890da17ea476eaa1d24e3d5bde94e",
            "placeholder": "​",
            "style": "IPY_MODEL_df3c9bc553bb4248ac4c4072bf1635a1",
            "value": "100%"
          }
        },
        "2a53fd14c6de400e84b5c1e27a63b4b2": {
          "model_module": "@jupyter-widgets/controls",
          "model_name": "FloatProgressModel",
          "model_module_version": "1.5.0",
          "state": {
            "_dom_classes": [],
            "_model_module": "@jupyter-widgets/controls",
            "_model_module_version": "1.5.0",
            "_model_name": "FloatProgressModel",
            "_view_count": null,
            "_view_module": "@jupyter-widgets/controls",
            "_view_module_version": "1.5.0",
            "_view_name": "ProgressView",
            "bar_style": "success",
            "description": "",
            "description_tooltip": null,
            "layout": "IPY_MODEL_be0ebeee1999458dbf617c5eb04c5019",
            "max": 1648877,
            "min": 0,
            "orientation": "horizontal",
            "style": "IPY_MODEL_7c1d4c41537b425483b8001561bd111e",
            "value": 1648877
          }
        },
        "f0a911fa257b424483bd4e308e543925": {
          "model_module": "@jupyter-widgets/controls",
          "model_name": "HTMLModel",
          "model_module_version": "1.5.0",
          "state": {
            "_dom_classes": [],
            "_model_module": "@jupyter-widgets/controls",
            "_model_module_version": "1.5.0",
            "_model_name": "HTMLModel",
            "_view_count": null,
            "_view_module": "@jupyter-widgets/controls",
            "_view_module_version": "1.5.0",
            "_view_name": "HTMLView",
            "description": "",
            "description_tooltip": null,
            "layout": "IPY_MODEL_70174838bdf74e0b94da6068bea908b9",
            "placeholder": "​",
            "style": "IPY_MODEL_2ae2752487fa4035a927590b6ec87614",
            "value": " 1648877/1648877 [00:00&lt;00:00, 42946777.68it/s]"
          }
        },
        "b84e71f7a52c49c7ab6a7a37370d9ff0": {
          "model_module": "@jupyter-widgets/base",
          "model_name": "LayoutModel",
          "model_module_version": "1.2.0",
          "state": {
            "_model_module": "@jupyter-widgets/base",
            "_model_module_version": "1.2.0",
            "_model_name": "LayoutModel",
            "_view_count": null,
            "_view_module": "@jupyter-widgets/base",
            "_view_module_version": "1.2.0",
            "_view_name": "LayoutView",
            "align_content": null,
            "align_items": null,
            "align_self": null,
            "border": null,
            "bottom": null,
            "display": null,
            "flex": null,
            "flex_flow": null,
            "grid_area": null,
            "grid_auto_columns": null,
            "grid_auto_flow": null,
            "grid_auto_rows": null,
            "grid_column": null,
            "grid_gap": null,
            "grid_row": null,
            "grid_template_areas": null,
            "grid_template_columns": null,
            "grid_template_rows": null,
            "height": null,
            "justify_content": null,
            "justify_items": null,
            "left": null,
            "margin": null,
            "max_height": null,
            "max_width": null,
            "min_height": null,
            "min_width": null,
            "object_fit": null,
            "object_position": null,
            "order": null,
            "overflow": null,
            "overflow_x": null,
            "overflow_y": null,
            "padding": null,
            "right": null,
            "top": null,
            "visibility": null,
            "width": null
          }
        },
        "bf9890da17ea476eaa1d24e3d5bde94e": {
          "model_module": "@jupyter-widgets/base",
          "model_name": "LayoutModel",
          "model_module_version": "1.2.0",
          "state": {
            "_model_module": "@jupyter-widgets/base",
            "_model_module_version": "1.2.0",
            "_model_name": "LayoutModel",
            "_view_count": null,
            "_view_module": "@jupyter-widgets/base",
            "_view_module_version": "1.2.0",
            "_view_name": "LayoutView",
            "align_content": null,
            "align_items": null,
            "align_self": null,
            "border": null,
            "bottom": null,
            "display": null,
            "flex": null,
            "flex_flow": null,
            "grid_area": null,
            "grid_auto_columns": null,
            "grid_auto_flow": null,
            "grid_auto_rows": null,
            "grid_column": null,
            "grid_gap": null,
            "grid_row": null,
            "grid_template_areas": null,
            "grid_template_columns": null,
            "grid_template_rows": null,
            "height": null,
            "justify_content": null,
            "justify_items": null,
            "left": null,
            "margin": null,
            "max_height": null,
            "max_width": null,
            "min_height": null,
            "min_width": null,
            "object_fit": null,
            "object_position": null,
            "order": null,
            "overflow": null,
            "overflow_x": null,
            "overflow_y": null,
            "padding": null,
            "right": null,
            "top": null,
            "visibility": null,
            "width": null
          }
        },
        "df3c9bc553bb4248ac4c4072bf1635a1": {
          "model_module": "@jupyter-widgets/controls",
          "model_name": "DescriptionStyleModel",
          "model_module_version": "1.5.0",
          "state": {
            "_model_module": "@jupyter-widgets/controls",
            "_model_module_version": "1.5.0",
            "_model_name": "DescriptionStyleModel",
            "_view_count": null,
            "_view_module": "@jupyter-widgets/base",
            "_view_module_version": "1.2.0",
            "_view_name": "StyleView",
            "description_width": ""
          }
        },
        "be0ebeee1999458dbf617c5eb04c5019": {
          "model_module": "@jupyter-widgets/base",
          "model_name": "LayoutModel",
          "model_module_version": "1.2.0",
          "state": {
            "_model_module": "@jupyter-widgets/base",
            "_model_module_version": "1.2.0",
            "_model_name": "LayoutModel",
            "_view_count": null,
            "_view_module": "@jupyter-widgets/base",
            "_view_module_version": "1.2.0",
            "_view_name": "LayoutView",
            "align_content": null,
            "align_items": null,
            "align_self": null,
            "border": null,
            "bottom": null,
            "display": null,
            "flex": null,
            "flex_flow": null,
            "grid_area": null,
            "grid_auto_columns": null,
            "grid_auto_flow": null,
            "grid_auto_rows": null,
            "grid_column": null,
            "grid_gap": null,
            "grid_row": null,
            "grid_template_areas": null,
            "grid_template_columns": null,
            "grid_template_rows": null,
            "height": null,
            "justify_content": null,
            "justify_items": null,
            "left": null,
            "margin": null,
            "max_height": null,
            "max_width": null,
            "min_height": null,
            "min_width": null,
            "object_fit": null,
            "object_position": null,
            "order": null,
            "overflow": null,
            "overflow_x": null,
            "overflow_y": null,
            "padding": null,
            "right": null,
            "top": null,
            "visibility": null,
            "width": null
          }
        },
        "7c1d4c41537b425483b8001561bd111e": {
          "model_module": "@jupyter-widgets/controls",
          "model_name": "ProgressStyleModel",
          "model_module_version": "1.5.0",
          "state": {
            "_model_module": "@jupyter-widgets/controls",
            "_model_module_version": "1.5.0",
            "_model_name": "ProgressStyleModel",
            "_view_count": null,
            "_view_module": "@jupyter-widgets/base",
            "_view_module_version": "1.2.0",
            "_view_name": "StyleView",
            "bar_color": null,
            "description_width": ""
          }
        },
        "70174838bdf74e0b94da6068bea908b9": {
          "model_module": "@jupyter-widgets/base",
          "model_name": "LayoutModel",
          "model_module_version": "1.2.0",
          "state": {
            "_model_module": "@jupyter-widgets/base",
            "_model_module_version": "1.2.0",
            "_model_name": "LayoutModel",
            "_view_count": null,
            "_view_module": "@jupyter-widgets/base",
            "_view_module_version": "1.2.0",
            "_view_name": "LayoutView",
            "align_content": null,
            "align_items": null,
            "align_self": null,
            "border": null,
            "bottom": null,
            "display": null,
            "flex": null,
            "flex_flow": null,
            "grid_area": null,
            "grid_auto_columns": null,
            "grid_auto_flow": null,
            "grid_auto_rows": null,
            "grid_column": null,
            "grid_gap": null,
            "grid_row": null,
            "grid_template_areas": null,
            "grid_template_columns": null,
            "grid_template_rows": null,
            "height": null,
            "justify_content": null,
            "justify_items": null,
            "left": null,
            "margin": null,
            "max_height": null,
            "max_width": null,
            "min_height": null,
            "min_width": null,
            "object_fit": null,
            "object_position": null,
            "order": null,
            "overflow": null,
            "overflow_x": null,
            "overflow_y": null,
            "padding": null,
            "right": null,
            "top": null,
            "visibility": null,
            "width": null
          }
        },
        "2ae2752487fa4035a927590b6ec87614": {
          "model_module": "@jupyter-widgets/controls",
          "model_name": "DescriptionStyleModel",
          "model_module_version": "1.5.0",
          "state": {
            "_model_module": "@jupyter-widgets/controls",
            "_model_module_version": "1.5.0",
            "_model_name": "DescriptionStyleModel",
            "_view_count": null,
            "_view_module": "@jupyter-widgets/base",
            "_view_module_version": "1.2.0",
            "_view_name": "StyleView",
            "description_width": ""
          }
        },
        "7127f53b9be84c6890c675f69867ce81": {
          "model_module": "@jupyter-widgets/controls",
          "model_name": "HBoxModel",
          "model_module_version": "1.5.0",
          "state": {
            "_dom_classes": [],
            "_model_module": "@jupyter-widgets/controls",
            "_model_module_version": "1.5.0",
            "_model_name": "HBoxModel",
            "_view_count": null,
            "_view_module": "@jupyter-widgets/controls",
            "_view_module_version": "1.5.0",
            "_view_name": "HBoxView",
            "box_style": "",
            "children": [
              "IPY_MODEL_a4c2d73ced7940c1ba2e065183b2b0a1",
              "IPY_MODEL_7ea5891bd5e645ed95cfb64c9ba49dae",
              "IPY_MODEL_03c895a5b2e5419b9ffdcd35719a23ac"
            ],
            "layout": "IPY_MODEL_7f7f86352d29464b9cb8ae4ae0888b5b"
          }
        },
        "a4c2d73ced7940c1ba2e065183b2b0a1": {
          "model_module": "@jupyter-widgets/controls",
          "model_name": "HTMLModel",
          "model_module_version": "1.5.0",
          "state": {
            "_dom_classes": [],
            "_model_module": "@jupyter-widgets/controls",
            "_model_module_version": "1.5.0",
            "_model_name": "HTMLModel",
            "_view_count": null,
            "_view_module": "@jupyter-widgets/controls",
            "_view_module_version": "1.5.0",
            "_view_name": "HTMLView",
            "description": "",
            "description_tooltip": null,
            "layout": "IPY_MODEL_6bc6e85d9f4e4a5aa396fec3b9f3056d",
            "placeholder": "​",
            "style": "IPY_MODEL_8414a3df56374aedafdbf040b48bef9a",
            "value": "100%"
          }
        },
        "7ea5891bd5e645ed95cfb64c9ba49dae": {
          "model_module": "@jupyter-widgets/controls",
          "model_name": "FloatProgressModel",
          "model_module_version": "1.5.0",
          "state": {
            "_dom_classes": [],
            "_model_module": "@jupyter-widgets/controls",
            "_model_module_version": "1.5.0",
            "_model_name": "FloatProgressModel",
            "_view_count": null,
            "_view_module": "@jupyter-widgets/controls",
            "_view_module_version": "1.5.0",
            "_view_name": "ProgressView",
            "bar_style": "success",
            "description": "",
            "description_tooltip": null,
            "layout": "IPY_MODEL_cfaa4e55a96946eab7fce59a5ce80402",
            "max": 4542,
            "min": 0,
            "orientation": "horizontal",
            "style": "IPY_MODEL_9f2d9a09c84546429fbd1a6826c7cbe3",
            "value": 4542
          }
        },
        "03c895a5b2e5419b9ffdcd35719a23ac": {
          "model_module": "@jupyter-widgets/controls",
          "model_name": "HTMLModel",
          "model_module_version": "1.5.0",
          "state": {
            "_dom_classes": [],
            "_model_module": "@jupyter-widgets/controls",
            "_model_module_version": "1.5.0",
            "_model_name": "HTMLModel",
            "_view_count": null,
            "_view_module": "@jupyter-widgets/controls",
            "_view_module_version": "1.5.0",
            "_view_name": "HTMLView",
            "description": "",
            "description_tooltip": null,
            "layout": "IPY_MODEL_ec6d9e4cf4c34f5bbab6bf50113c0417",
            "placeholder": "​",
            "style": "IPY_MODEL_42088c62e8de4fe2a8d6db4e883d86e1",
            "value": " 4542/4542 [00:00&lt;00:00, 241911.48it/s]"
          }
        },
        "7f7f86352d29464b9cb8ae4ae0888b5b": {
          "model_module": "@jupyter-widgets/base",
          "model_name": "LayoutModel",
          "model_module_version": "1.2.0",
          "state": {
            "_model_module": "@jupyter-widgets/base",
            "_model_module_version": "1.2.0",
            "_model_name": "LayoutModel",
            "_view_count": null,
            "_view_module": "@jupyter-widgets/base",
            "_view_module_version": "1.2.0",
            "_view_name": "LayoutView",
            "align_content": null,
            "align_items": null,
            "align_self": null,
            "border": null,
            "bottom": null,
            "display": null,
            "flex": null,
            "flex_flow": null,
            "grid_area": null,
            "grid_auto_columns": null,
            "grid_auto_flow": null,
            "grid_auto_rows": null,
            "grid_column": null,
            "grid_gap": null,
            "grid_row": null,
            "grid_template_areas": null,
            "grid_template_columns": null,
            "grid_template_rows": null,
            "height": null,
            "justify_content": null,
            "justify_items": null,
            "left": null,
            "margin": null,
            "max_height": null,
            "max_width": null,
            "min_height": null,
            "min_width": null,
            "object_fit": null,
            "object_position": null,
            "order": null,
            "overflow": null,
            "overflow_x": null,
            "overflow_y": null,
            "padding": null,
            "right": null,
            "top": null,
            "visibility": null,
            "width": null
          }
        },
        "6bc6e85d9f4e4a5aa396fec3b9f3056d": {
          "model_module": "@jupyter-widgets/base",
          "model_name": "LayoutModel",
          "model_module_version": "1.2.0",
          "state": {
            "_model_module": "@jupyter-widgets/base",
            "_model_module_version": "1.2.0",
            "_model_name": "LayoutModel",
            "_view_count": null,
            "_view_module": "@jupyter-widgets/base",
            "_view_module_version": "1.2.0",
            "_view_name": "LayoutView",
            "align_content": null,
            "align_items": null,
            "align_self": null,
            "border": null,
            "bottom": null,
            "display": null,
            "flex": null,
            "flex_flow": null,
            "grid_area": null,
            "grid_auto_columns": null,
            "grid_auto_flow": null,
            "grid_auto_rows": null,
            "grid_column": null,
            "grid_gap": null,
            "grid_row": null,
            "grid_template_areas": null,
            "grid_template_columns": null,
            "grid_template_rows": null,
            "height": null,
            "justify_content": null,
            "justify_items": null,
            "left": null,
            "margin": null,
            "max_height": null,
            "max_width": null,
            "min_height": null,
            "min_width": null,
            "object_fit": null,
            "object_position": null,
            "order": null,
            "overflow": null,
            "overflow_x": null,
            "overflow_y": null,
            "padding": null,
            "right": null,
            "top": null,
            "visibility": null,
            "width": null
          }
        },
        "8414a3df56374aedafdbf040b48bef9a": {
          "model_module": "@jupyter-widgets/controls",
          "model_name": "DescriptionStyleModel",
          "model_module_version": "1.5.0",
          "state": {
            "_model_module": "@jupyter-widgets/controls",
            "_model_module_version": "1.5.0",
            "_model_name": "DescriptionStyleModel",
            "_view_count": null,
            "_view_module": "@jupyter-widgets/base",
            "_view_module_version": "1.2.0",
            "_view_name": "StyleView",
            "description_width": ""
          }
        },
        "cfaa4e55a96946eab7fce59a5ce80402": {
          "model_module": "@jupyter-widgets/base",
          "model_name": "LayoutModel",
          "model_module_version": "1.2.0",
          "state": {
            "_model_module": "@jupyter-widgets/base",
            "_model_module_version": "1.2.0",
            "_model_name": "LayoutModel",
            "_view_count": null,
            "_view_module": "@jupyter-widgets/base",
            "_view_module_version": "1.2.0",
            "_view_name": "LayoutView",
            "align_content": null,
            "align_items": null,
            "align_self": null,
            "border": null,
            "bottom": null,
            "display": null,
            "flex": null,
            "flex_flow": null,
            "grid_area": null,
            "grid_auto_columns": null,
            "grid_auto_flow": null,
            "grid_auto_rows": null,
            "grid_column": null,
            "grid_gap": null,
            "grid_row": null,
            "grid_template_areas": null,
            "grid_template_columns": null,
            "grid_template_rows": null,
            "height": null,
            "justify_content": null,
            "justify_items": null,
            "left": null,
            "margin": null,
            "max_height": null,
            "max_width": null,
            "min_height": null,
            "min_width": null,
            "object_fit": null,
            "object_position": null,
            "order": null,
            "overflow": null,
            "overflow_x": null,
            "overflow_y": null,
            "padding": null,
            "right": null,
            "top": null,
            "visibility": null,
            "width": null
          }
        },
        "9f2d9a09c84546429fbd1a6826c7cbe3": {
          "model_module": "@jupyter-widgets/controls",
          "model_name": "ProgressStyleModel",
          "model_module_version": "1.5.0",
          "state": {
            "_model_module": "@jupyter-widgets/controls",
            "_model_module_version": "1.5.0",
            "_model_name": "ProgressStyleModel",
            "_view_count": null,
            "_view_module": "@jupyter-widgets/base",
            "_view_module_version": "1.2.0",
            "_view_name": "StyleView",
            "bar_color": null,
            "description_width": ""
          }
        },
        "ec6d9e4cf4c34f5bbab6bf50113c0417": {
          "model_module": "@jupyter-widgets/base",
          "model_name": "LayoutModel",
          "model_module_version": "1.2.0",
          "state": {
            "_model_module": "@jupyter-widgets/base",
            "_model_module_version": "1.2.0",
            "_model_name": "LayoutModel",
            "_view_count": null,
            "_view_module": "@jupyter-widgets/base",
            "_view_module_version": "1.2.0",
            "_view_name": "LayoutView",
            "align_content": null,
            "align_items": null,
            "align_self": null,
            "border": null,
            "bottom": null,
            "display": null,
            "flex": null,
            "flex_flow": null,
            "grid_area": null,
            "grid_auto_columns": null,
            "grid_auto_flow": null,
            "grid_auto_rows": null,
            "grid_column": null,
            "grid_gap": null,
            "grid_row": null,
            "grid_template_areas": null,
            "grid_template_columns": null,
            "grid_template_rows": null,
            "height": null,
            "justify_content": null,
            "justify_items": null,
            "left": null,
            "margin": null,
            "max_height": null,
            "max_width": null,
            "min_height": null,
            "min_width": null,
            "object_fit": null,
            "object_position": null,
            "order": null,
            "overflow": null,
            "overflow_x": null,
            "overflow_y": null,
            "padding": null,
            "right": null,
            "top": null,
            "visibility": null,
            "width": null
          }
        },
        "42088c62e8de4fe2a8d6db4e883d86e1": {
          "model_module": "@jupyter-widgets/controls",
          "model_name": "DescriptionStyleModel",
          "model_module_version": "1.5.0",
          "state": {
            "_model_module": "@jupyter-widgets/controls",
            "_model_module_version": "1.5.0",
            "_model_name": "DescriptionStyleModel",
            "_view_count": null,
            "_view_module": "@jupyter-widgets/base",
            "_view_module_version": "1.2.0",
            "_view_name": "StyleView",
            "description_width": ""
          }
        }
      }
    }
  },
  "nbformat": 4,
  "nbformat_minor": 0
}