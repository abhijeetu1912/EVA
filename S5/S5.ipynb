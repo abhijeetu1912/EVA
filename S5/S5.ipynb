{
  "nbformat": 4,
  "nbformat_minor": 0,
  "metadata": {
    "colab": {
      "provenance": []
    },
    "kernelspec": {
      "name": "python3",
      "display_name": "Python 3"
    },
    "accelerator": "GPU",
    "gpuClass": "premium",
    "widgets": {
      "application/vnd.jupyter.widget-state+json": {
        "4a13a527a4a34663b0396572aaeba80e": {
          "model_module": "@jupyter-widgets/controls",
          "model_name": "HBoxModel",
          "model_module_version": "1.5.0",
          "state": {
            "_dom_classes": [],
            "_model_module": "@jupyter-widgets/controls",
            "_model_module_version": "1.5.0",
            "_model_name": "HBoxModel",
            "_view_count": null,
            "_view_module": "@jupyter-widgets/controls",
            "_view_module_version": "1.5.0",
            "_view_name": "HBoxView",
            "box_style": "",
            "children": [
              "IPY_MODEL_49b3222cac854cdb959eda8b0e0fda66",
              "IPY_MODEL_8a368789d36f4f59a1b4b1057ff164bf",
              "IPY_MODEL_9e4292888e3a4e30858f11f5042be263"
            ],
            "layout": "IPY_MODEL_fb2680538f4f47909cd2cb4446503b12"
          }
        },
        "49b3222cac854cdb959eda8b0e0fda66": {
          "model_module": "@jupyter-widgets/controls",
          "model_name": "HTMLModel",
          "model_module_version": "1.5.0",
          "state": {
            "_dom_classes": [],
            "_model_module": "@jupyter-widgets/controls",
            "_model_module_version": "1.5.0",
            "_model_name": "HTMLModel",
            "_view_count": null,
            "_view_module": "@jupyter-widgets/controls",
            "_view_module_version": "1.5.0",
            "_view_name": "HTMLView",
            "description": "",
            "description_tooltip": null,
            "layout": "IPY_MODEL_ebe9598e98de4892a8d49b0404efb722",
            "placeholder": "​",
            "style": "IPY_MODEL_620013b5ffc148138914629bf802343c",
            "value": "100%"
          }
        },
        "8a368789d36f4f59a1b4b1057ff164bf": {
          "model_module": "@jupyter-widgets/controls",
          "model_name": "FloatProgressModel",
          "model_module_version": "1.5.0",
          "state": {
            "_dom_classes": [],
            "_model_module": "@jupyter-widgets/controls",
            "_model_module_version": "1.5.0",
            "_model_name": "FloatProgressModel",
            "_view_count": null,
            "_view_module": "@jupyter-widgets/controls",
            "_view_module_version": "1.5.0",
            "_view_name": "ProgressView",
            "bar_style": "success",
            "description": "",
            "description_tooltip": null,
            "layout": "IPY_MODEL_fc8abe2e48644a8f9fd9a8a3d5986ef7",
            "max": 9912422,
            "min": 0,
            "orientation": "horizontal",
            "style": "IPY_MODEL_e844828a6995407fa94c84b0fc84944c",
            "value": 9912422
          }
        },
        "9e4292888e3a4e30858f11f5042be263": {
          "model_module": "@jupyter-widgets/controls",
          "model_name": "HTMLModel",
          "model_module_version": "1.5.0",
          "state": {
            "_dom_classes": [],
            "_model_module": "@jupyter-widgets/controls",
            "_model_module_version": "1.5.0",
            "_model_name": "HTMLModel",
            "_view_count": null,
            "_view_module": "@jupyter-widgets/controls",
            "_view_module_version": "1.5.0",
            "_view_name": "HTMLView",
            "description": "",
            "description_tooltip": null,
            "layout": "IPY_MODEL_1e55ee89b5f5447b99457a434f1ad6ea",
            "placeholder": "​",
            "style": "IPY_MODEL_8156b5a2616a4c7cbdf07f314dd8990a",
            "value": " 9912422/9912422 [00:00&lt;00:00, 149013681.58it/s]"
          }
        },
        "fb2680538f4f47909cd2cb4446503b12": {
          "model_module": "@jupyter-widgets/base",
          "model_name": "LayoutModel",
          "model_module_version": "1.2.0",
          "state": {
            "_model_module": "@jupyter-widgets/base",
            "_model_module_version": "1.2.0",
            "_model_name": "LayoutModel",
            "_view_count": null,
            "_view_module": "@jupyter-widgets/base",
            "_view_module_version": "1.2.0",
            "_view_name": "LayoutView",
            "align_content": null,
            "align_items": null,
            "align_self": null,
            "border": null,
            "bottom": null,
            "display": null,
            "flex": null,
            "flex_flow": null,
            "grid_area": null,
            "grid_auto_columns": null,
            "grid_auto_flow": null,
            "grid_auto_rows": null,
            "grid_column": null,
            "grid_gap": null,
            "grid_row": null,
            "grid_template_areas": null,
            "grid_template_columns": null,
            "grid_template_rows": null,
            "height": null,
            "justify_content": null,
            "justify_items": null,
            "left": null,
            "margin": null,
            "max_height": null,
            "max_width": null,
            "min_height": null,
            "min_width": null,
            "object_fit": null,
            "object_position": null,
            "order": null,
            "overflow": null,
            "overflow_x": null,
            "overflow_y": null,
            "padding": null,
            "right": null,
            "top": null,
            "visibility": null,
            "width": null
          }
        },
        "ebe9598e98de4892a8d49b0404efb722": {
          "model_module": "@jupyter-widgets/base",
          "model_name": "LayoutModel",
          "model_module_version": "1.2.0",
          "state": {
            "_model_module": "@jupyter-widgets/base",
            "_model_module_version": "1.2.0",
            "_model_name": "LayoutModel",
            "_view_count": null,
            "_view_module": "@jupyter-widgets/base",
            "_view_module_version": "1.2.0",
            "_view_name": "LayoutView",
            "align_content": null,
            "align_items": null,
            "align_self": null,
            "border": null,
            "bottom": null,
            "display": null,
            "flex": null,
            "flex_flow": null,
            "grid_area": null,
            "grid_auto_columns": null,
            "grid_auto_flow": null,
            "grid_auto_rows": null,
            "grid_column": null,
            "grid_gap": null,
            "grid_row": null,
            "grid_template_areas": null,
            "grid_template_columns": null,
            "grid_template_rows": null,
            "height": null,
            "justify_content": null,
            "justify_items": null,
            "left": null,
            "margin": null,
            "max_height": null,
            "max_width": null,
            "min_height": null,
            "min_width": null,
            "object_fit": null,
            "object_position": null,
            "order": null,
            "overflow": null,
            "overflow_x": null,
            "overflow_y": null,
            "padding": null,
            "right": null,
            "top": null,
            "visibility": null,
            "width": null
          }
        },
        "620013b5ffc148138914629bf802343c": {
          "model_module": "@jupyter-widgets/controls",
          "model_name": "DescriptionStyleModel",
          "model_module_version": "1.5.0",
          "state": {
            "_model_module": "@jupyter-widgets/controls",
            "_model_module_version": "1.5.0",
            "_model_name": "DescriptionStyleModel",
            "_view_count": null,
            "_view_module": "@jupyter-widgets/base",
            "_view_module_version": "1.2.0",
            "_view_name": "StyleView",
            "description_width": ""
          }
        },
        "fc8abe2e48644a8f9fd9a8a3d5986ef7": {
          "model_module": "@jupyter-widgets/base",
          "model_name": "LayoutModel",
          "model_module_version": "1.2.0",
          "state": {
            "_model_module": "@jupyter-widgets/base",
            "_model_module_version": "1.2.0",
            "_model_name": "LayoutModel",
            "_view_count": null,
            "_view_module": "@jupyter-widgets/base",
            "_view_module_version": "1.2.0",
            "_view_name": "LayoutView",
            "align_content": null,
            "align_items": null,
            "align_self": null,
            "border": null,
            "bottom": null,
            "display": null,
            "flex": null,
            "flex_flow": null,
            "grid_area": null,
            "grid_auto_columns": null,
            "grid_auto_flow": null,
            "grid_auto_rows": null,
            "grid_column": null,
            "grid_gap": null,
            "grid_row": null,
            "grid_template_areas": null,
            "grid_template_columns": null,
            "grid_template_rows": null,
            "height": null,
            "justify_content": null,
            "justify_items": null,
            "left": null,
            "margin": null,
            "max_height": null,
            "max_width": null,
            "min_height": null,
            "min_width": null,
            "object_fit": null,
            "object_position": null,
            "order": null,
            "overflow": null,
            "overflow_x": null,
            "overflow_y": null,
            "padding": null,
            "right": null,
            "top": null,
            "visibility": null,
            "width": null
          }
        },
        "e844828a6995407fa94c84b0fc84944c": {
          "model_module": "@jupyter-widgets/controls",
          "model_name": "ProgressStyleModel",
          "model_module_version": "1.5.0",
          "state": {
            "_model_module": "@jupyter-widgets/controls",
            "_model_module_version": "1.5.0",
            "_model_name": "ProgressStyleModel",
            "_view_count": null,
            "_view_module": "@jupyter-widgets/base",
            "_view_module_version": "1.2.0",
            "_view_name": "StyleView",
            "bar_color": null,
            "description_width": ""
          }
        },
        "1e55ee89b5f5447b99457a434f1ad6ea": {
          "model_module": "@jupyter-widgets/base",
          "model_name": "LayoutModel",
          "model_module_version": "1.2.0",
          "state": {
            "_model_module": "@jupyter-widgets/base",
            "_model_module_version": "1.2.0",
            "_model_name": "LayoutModel",
            "_view_count": null,
            "_view_module": "@jupyter-widgets/base",
            "_view_module_version": "1.2.0",
            "_view_name": "LayoutView",
            "align_content": null,
            "align_items": null,
            "align_self": null,
            "border": null,
            "bottom": null,
            "display": null,
            "flex": null,
            "flex_flow": null,
            "grid_area": null,
            "grid_auto_columns": null,
            "grid_auto_flow": null,
            "grid_auto_rows": null,
            "grid_column": null,
            "grid_gap": null,
            "grid_row": null,
            "grid_template_areas": null,
            "grid_template_columns": null,
            "grid_template_rows": null,
            "height": null,
            "justify_content": null,
            "justify_items": null,
            "left": null,
            "margin": null,
            "max_height": null,
            "max_width": null,
            "min_height": null,
            "min_width": null,
            "object_fit": null,
            "object_position": null,
            "order": null,
            "overflow": null,
            "overflow_x": null,
            "overflow_y": null,
            "padding": null,
            "right": null,
            "top": null,
            "visibility": null,
            "width": null
          }
        },
        "8156b5a2616a4c7cbdf07f314dd8990a": {
          "model_module": "@jupyter-widgets/controls",
          "model_name": "DescriptionStyleModel",
          "model_module_version": "1.5.0",
          "state": {
            "_model_module": "@jupyter-widgets/controls",
            "_model_module_version": "1.5.0",
            "_model_name": "DescriptionStyleModel",
            "_view_count": null,
            "_view_module": "@jupyter-widgets/base",
            "_view_module_version": "1.2.0",
            "_view_name": "StyleView",
            "description_width": ""
          }
        },
        "6465e155c3044a19b7cd9838d3b2c477": {
          "model_module": "@jupyter-widgets/controls",
          "model_name": "HBoxModel",
          "model_module_version": "1.5.0",
          "state": {
            "_dom_classes": [],
            "_model_module": "@jupyter-widgets/controls",
            "_model_module_version": "1.5.0",
            "_model_name": "HBoxModel",
            "_view_count": null,
            "_view_module": "@jupyter-widgets/controls",
            "_view_module_version": "1.5.0",
            "_view_name": "HBoxView",
            "box_style": "",
            "children": [
              "IPY_MODEL_5efc132a6a36428bb1c6615154dcf663",
              "IPY_MODEL_b1160f12a7b44f4591ceab7181236d74",
              "IPY_MODEL_8d031291c7de42c69d62ee3618dace96"
            ],
            "layout": "IPY_MODEL_d6bc156507b54faea031920d0616444d"
          }
        },
        "5efc132a6a36428bb1c6615154dcf663": {
          "model_module": "@jupyter-widgets/controls",
          "model_name": "HTMLModel",
          "model_module_version": "1.5.0",
          "state": {
            "_dom_classes": [],
            "_model_module": "@jupyter-widgets/controls",
            "_model_module_version": "1.5.0",
            "_model_name": "HTMLModel",
            "_view_count": null,
            "_view_module": "@jupyter-widgets/controls",
            "_view_module_version": "1.5.0",
            "_view_name": "HTMLView",
            "description": "",
            "description_tooltip": null,
            "layout": "IPY_MODEL_633bd2aa18cd4efead620610f6448b3d",
            "placeholder": "​",
            "style": "IPY_MODEL_ac19fd923f514f77badf61e68b21f55f",
            "value": "100%"
          }
        },
        "b1160f12a7b44f4591ceab7181236d74": {
          "model_module": "@jupyter-widgets/controls",
          "model_name": "FloatProgressModel",
          "model_module_version": "1.5.0",
          "state": {
            "_dom_classes": [],
            "_model_module": "@jupyter-widgets/controls",
            "_model_module_version": "1.5.0",
            "_model_name": "FloatProgressModel",
            "_view_count": null,
            "_view_module": "@jupyter-widgets/controls",
            "_view_module_version": "1.5.0",
            "_view_name": "ProgressView",
            "bar_style": "success",
            "description": "",
            "description_tooltip": null,
            "layout": "IPY_MODEL_f9efddd03764403ebc390581c885b37d",
            "max": 28881,
            "min": 0,
            "orientation": "horizontal",
            "style": "IPY_MODEL_c4babe005a664e15ae48c2e6af378262",
            "value": 28881
          }
        },
        "8d031291c7de42c69d62ee3618dace96": {
          "model_module": "@jupyter-widgets/controls",
          "model_name": "HTMLModel",
          "model_module_version": "1.5.0",
          "state": {
            "_dom_classes": [],
            "_model_module": "@jupyter-widgets/controls",
            "_model_module_version": "1.5.0",
            "_model_name": "HTMLModel",
            "_view_count": null,
            "_view_module": "@jupyter-widgets/controls",
            "_view_module_version": "1.5.0",
            "_view_name": "HTMLView",
            "description": "",
            "description_tooltip": null,
            "layout": "IPY_MODEL_f314f12faa81455e82776d7d893170f0",
            "placeholder": "​",
            "style": "IPY_MODEL_19a864f54bc14945b2153a85a0f2fc59",
            "value": " 28881/28881 [00:00&lt;00:00, 2048148.48it/s]"
          }
        },
        "d6bc156507b54faea031920d0616444d": {
          "model_module": "@jupyter-widgets/base",
          "model_name": "LayoutModel",
          "model_module_version": "1.2.0",
          "state": {
            "_model_module": "@jupyter-widgets/base",
            "_model_module_version": "1.2.0",
            "_model_name": "LayoutModel",
            "_view_count": null,
            "_view_module": "@jupyter-widgets/base",
            "_view_module_version": "1.2.0",
            "_view_name": "LayoutView",
            "align_content": null,
            "align_items": null,
            "align_self": null,
            "border": null,
            "bottom": null,
            "display": null,
            "flex": null,
            "flex_flow": null,
            "grid_area": null,
            "grid_auto_columns": null,
            "grid_auto_flow": null,
            "grid_auto_rows": null,
            "grid_column": null,
            "grid_gap": null,
            "grid_row": null,
            "grid_template_areas": null,
            "grid_template_columns": null,
            "grid_template_rows": null,
            "height": null,
            "justify_content": null,
            "justify_items": null,
            "left": null,
            "margin": null,
            "max_height": null,
            "max_width": null,
            "min_height": null,
            "min_width": null,
            "object_fit": null,
            "object_position": null,
            "order": null,
            "overflow": null,
            "overflow_x": null,
            "overflow_y": null,
            "padding": null,
            "right": null,
            "top": null,
            "visibility": null,
            "width": null
          }
        },
        "633bd2aa18cd4efead620610f6448b3d": {
          "model_module": "@jupyter-widgets/base",
          "model_name": "LayoutModel",
          "model_module_version": "1.2.0",
          "state": {
            "_model_module": "@jupyter-widgets/base",
            "_model_module_version": "1.2.0",
            "_model_name": "LayoutModel",
            "_view_count": null,
            "_view_module": "@jupyter-widgets/base",
            "_view_module_version": "1.2.0",
            "_view_name": "LayoutView",
            "align_content": null,
            "align_items": null,
            "align_self": null,
            "border": null,
            "bottom": null,
            "display": null,
            "flex": null,
            "flex_flow": null,
            "grid_area": null,
            "grid_auto_columns": null,
            "grid_auto_flow": null,
            "grid_auto_rows": null,
            "grid_column": null,
            "grid_gap": null,
            "grid_row": null,
            "grid_template_areas": null,
            "grid_template_columns": null,
            "grid_template_rows": null,
            "height": null,
            "justify_content": null,
            "justify_items": null,
            "left": null,
            "margin": null,
            "max_height": null,
            "max_width": null,
            "min_height": null,
            "min_width": null,
            "object_fit": null,
            "object_position": null,
            "order": null,
            "overflow": null,
            "overflow_x": null,
            "overflow_y": null,
            "padding": null,
            "right": null,
            "top": null,
            "visibility": null,
            "width": null
          }
        },
        "ac19fd923f514f77badf61e68b21f55f": {
          "model_module": "@jupyter-widgets/controls",
          "model_name": "DescriptionStyleModel",
          "model_module_version": "1.5.0",
          "state": {
            "_model_module": "@jupyter-widgets/controls",
            "_model_module_version": "1.5.0",
            "_model_name": "DescriptionStyleModel",
            "_view_count": null,
            "_view_module": "@jupyter-widgets/base",
            "_view_module_version": "1.2.0",
            "_view_name": "StyleView",
            "description_width": ""
          }
        },
        "f9efddd03764403ebc390581c885b37d": {
          "model_module": "@jupyter-widgets/base",
          "model_name": "LayoutModel",
          "model_module_version": "1.2.0",
          "state": {
            "_model_module": "@jupyter-widgets/base",
            "_model_module_version": "1.2.0",
            "_model_name": "LayoutModel",
            "_view_count": null,
            "_view_module": "@jupyter-widgets/base",
            "_view_module_version": "1.2.0",
            "_view_name": "LayoutView",
            "align_content": null,
            "align_items": null,
            "align_self": null,
            "border": null,
            "bottom": null,
            "display": null,
            "flex": null,
            "flex_flow": null,
            "grid_area": null,
            "grid_auto_columns": null,
            "grid_auto_flow": null,
            "grid_auto_rows": null,
            "grid_column": null,
            "grid_gap": null,
            "grid_row": null,
            "grid_template_areas": null,
            "grid_template_columns": null,
            "grid_template_rows": null,
            "height": null,
            "justify_content": null,
            "justify_items": null,
            "left": null,
            "margin": null,
            "max_height": null,
            "max_width": null,
            "min_height": null,
            "min_width": null,
            "object_fit": null,
            "object_position": null,
            "order": null,
            "overflow": null,
            "overflow_x": null,
            "overflow_y": null,
            "padding": null,
            "right": null,
            "top": null,
            "visibility": null,
            "width": null
          }
        },
        "c4babe005a664e15ae48c2e6af378262": {
          "model_module": "@jupyter-widgets/controls",
          "model_name": "ProgressStyleModel",
          "model_module_version": "1.5.0",
          "state": {
            "_model_module": "@jupyter-widgets/controls",
            "_model_module_version": "1.5.0",
            "_model_name": "ProgressStyleModel",
            "_view_count": null,
            "_view_module": "@jupyter-widgets/base",
            "_view_module_version": "1.2.0",
            "_view_name": "StyleView",
            "bar_color": null,
            "description_width": ""
          }
        },
        "f314f12faa81455e82776d7d893170f0": {
          "model_module": "@jupyter-widgets/base",
          "model_name": "LayoutModel",
          "model_module_version": "1.2.0",
          "state": {
            "_model_module": "@jupyter-widgets/base",
            "_model_module_version": "1.2.0",
            "_model_name": "LayoutModel",
            "_view_count": null,
            "_view_module": "@jupyter-widgets/base",
            "_view_module_version": "1.2.0",
            "_view_name": "LayoutView",
            "align_content": null,
            "align_items": null,
            "align_self": null,
            "border": null,
            "bottom": null,
            "display": null,
            "flex": null,
            "flex_flow": null,
            "grid_area": null,
            "grid_auto_columns": null,
            "grid_auto_flow": null,
            "grid_auto_rows": null,
            "grid_column": null,
            "grid_gap": null,
            "grid_row": null,
            "grid_template_areas": null,
            "grid_template_columns": null,
            "grid_template_rows": null,
            "height": null,
            "justify_content": null,
            "justify_items": null,
            "left": null,
            "margin": null,
            "max_height": null,
            "max_width": null,
            "min_height": null,
            "min_width": null,
            "object_fit": null,
            "object_position": null,
            "order": null,
            "overflow": null,
            "overflow_x": null,
            "overflow_y": null,
            "padding": null,
            "right": null,
            "top": null,
            "visibility": null,
            "width": null
          }
        },
        "19a864f54bc14945b2153a85a0f2fc59": {
          "model_module": "@jupyter-widgets/controls",
          "model_name": "DescriptionStyleModel",
          "model_module_version": "1.5.0",
          "state": {
            "_model_module": "@jupyter-widgets/controls",
            "_model_module_version": "1.5.0",
            "_model_name": "DescriptionStyleModel",
            "_view_count": null,
            "_view_module": "@jupyter-widgets/base",
            "_view_module_version": "1.2.0",
            "_view_name": "StyleView",
            "description_width": ""
          }
        },
        "0168fe07cd914851899de385e43e2580": {
          "model_module": "@jupyter-widgets/controls",
          "model_name": "HBoxModel",
          "model_module_version": "1.5.0",
          "state": {
            "_dom_classes": [],
            "_model_module": "@jupyter-widgets/controls",
            "_model_module_version": "1.5.0",
            "_model_name": "HBoxModel",
            "_view_count": null,
            "_view_module": "@jupyter-widgets/controls",
            "_view_module_version": "1.5.0",
            "_view_name": "HBoxView",
            "box_style": "",
            "children": [
              "IPY_MODEL_095bc8e2b9734384a3d2ac4c941ca4b9",
              "IPY_MODEL_7ff7b171f4a748fda2206b66e1603e14",
              "IPY_MODEL_f37949abe4c947b8bc4d3193a2fd6461"
            ],
            "layout": "IPY_MODEL_2ffac1ed1dca4d22894c667701ed22a6"
          }
        },
        "095bc8e2b9734384a3d2ac4c941ca4b9": {
          "model_module": "@jupyter-widgets/controls",
          "model_name": "HTMLModel",
          "model_module_version": "1.5.0",
          "state": {
            "_dom_classes": [],
            "_model_module": "@jupyter-widgets/controls",
            "_model_module_version": "1.5.0",
            "_model_name": "HTMLModel",
            "_view_count": null,
            "_view_module": "@jupyter-widgets/controls",
            "_view_module_version": "1.5.0",
            "_view_name": "HTMLView",
            "description": "",
            "description_tooltip": null,
            "layout": "IPY_MODEL_a1e024cc2fd64311b4db7693f6f323ed",
            "placeholder": "​",
            "style": "IPY_MODEL_8e47ad59cb9a438b84c34d6cdbbfd54f",
            "value": "100%"
          }
        },
        "7ff7b171f4a748fda2206b66e1603e14": {
          "model_module": "@jupyter-widgets/controls",
          "model_name": "FloatProgressModel",
          "model_module_version": "1.5.0",
          "state": {
            "_dom_classes": [],
            "_model_module": "@jupyter-widgets/controls",
            "_model_module_version": "1.5.0",
            "_model_name": "FloatProgressModel",
            "_view_count": null,
            "_view_module": "@jupyter-widgets/controls",
            "_view_module_version": "1.5.0",
            "_view_name": "ProgressView",
            "bar_style": "success",
            "description": "",
            "description_tooltip": null,
            "layout": "IPY_MODEL_ba1e63ea80ab41479d3edf653eb380b0",
            "max": 1648877,
            "min": 0,
            "orientation": "horizontal",
            "style": "IPY_MODEL_0b6cc267091e4f17bc8bb8824ec96a77",
            "value": 1648877
          }
        },
        "f37949abe4c947b8bc4d3193a2fd6461": {
          "model_module": "@jupyter-widgets/controls",
          "model_name": "HTMLModel",
          "model_module_version": "1.5.0",
          "state": {
            "_dom_classes": [],
            "_model_module": "@jupyter-widgets/controls",
            "_model_module_version": "1.5.0",
            "_model_name": "HTMLModel",
            "_view_count": null,
            "_view_module": "@jupyter-widgets/controls",
            "_view_module_version": "1.5.0",
            "_view_name": "HTMLView",
            "description": "",
            "description_tooltip": null,
            "layout": "IPY_MODEL_f577c9f6306348dead27fc5080f9f76e",
            "placeholder": "​",
            "style": "IPY_MODEL_0f492993e1d347b8bc06bce9e7876ffd",
            "value": " 1648877/1648877 [00:00&lt;00:00, 41321961.43it/s]"
          }
        },
        "2ffac1ed1dca4d22894c667701ed22a6": {
          "model_module": "@jupyter-widgets/base",
          "model_name": "LayoutModel",
          "model_module_version": "1.2.0",
          "state": {
            "_model_module": "@jupyter-widgets/base",
            "_model_module_version": "1.2.0",
            "_model_name": "LayoutModel",
            "_view_count": null,
            "_view_module": "@jupyter-widgets/base",
            "_view_module_version": "1.2.0",
            "_view_name": "LayoutView",
            "align_content": null,
            "align_items": null,
            "align_self": null,
            "border": null,
            "bottom": null,
            "display": null,
            "flex": null,
            "flex_flow": null,
            "grid_area": null,
            "grid_auto_columns": null,
            "grid_auto_flow": null,
            "grid_auto_rows": null,
            "grid_column": null,
            "grid_gap": null,
            "grid_row": null,
            "grid_template_areas": null,
            "grid_template_columns": null,
            "grid_template_rows": null,
            "height": null,
            "justify_content": null,
            "justify_items": null,
            "left": null,
            "margin": null,
            "max_height": null,
            "max_width": null,
            "min_height": null,
            "min_width": null,
            "object_fit": null,
            "object_position": null,
            "order": null,
            "overflow": null,
            "overflow_x": null,
            "overflow_y": null,
            "padding": null,
            "right": null,
            "top": null,
            "visibility": null,
            "width": null
          }
        },
        "a1e024cc2fd64311b4db7693f6f323ed": {
          "model_module": "@jupyter-widgets/base",
          "model_name": "LayoutModel",
          "model_module_version": "1.2.0",
          "state": {
            "_model_module": "@jupyter-widgets/base",
            "_model_module_version": "1.2.0",
            "_model_name": "LayoutModel",
            "_view_count": null,
            "_view_module": "@jupyter-widgets/base",
            "_view_module_version": "1.2.0",
            "_view_name": "LayoutView",
            "align_content": null,
            "align_items": null,
            "align_self": null,
            "border": null,
            "bottom": null,
            "display": null,
            "flex": null,
            "flex_flow": null,
            "grid_area": null,
            "grid_auto_columns": null,
            "grid_auto_flow": null,
            "grid_auto_rows": null,
            "grid_column": null,
            "grid_gap": null,
            "grid_row": null,
            "grid_template_areas": null,
            "grid_template_columns": null,
            "grid_template_rows": null,
            "height": null,
            "justify_content": null,
            "justify_items": null,
            "left": null,
            "margin": null,
            "max_height": null,
            "max_width": null,
            "min_height": null,
            "min_width": null,
            "object_fit": null,
            "object_position": null,
            "order": null,
            "overflow": null,
            "overflow_x": null,
            "overflow_y": null,
            "padding": null,
            "right": null,
            "top": null,
            "visibility": null,
            "width": null
          }
        },
        "8e47ad59cb9a438b84c34d6cdbbfd54f": {
          "model_module": "@jupyter-widgets/controls",
          "model_name": "DescriptionStyleModel",
          "model_module_version": "1.5.0",
          "state": {
            "_model_module": "@jupyter-widgets/controls",
            "_model_module_version": "1.5.0",
            "_model_name": "DescriptionStyleModel",
            "_view_count": null,
            "_view_module": "@jupyter-widgets/base",
            "_view_module_version": "1.2.0",
            "_view_name": "StyleView",
            "description_width": ""
          }
        },
        "ba1e63ea80ab41479d3edf653eb380b0": {
          "model_module": "@jupyter-widgets/base",
          "model_name": "LayoutModel",
          "model_module_version": "1.2.0",
          "state": {
            "_model_module": "@jupyter-widgets/base",
            "_model_module_version": "1.2.0",
            "_model_name": "LayoutModel",
            "_view_count": null,
            "_view_module": "@jupyter-widgets/base",
            "_view_module_version": "1.2.0",
            "_view_name": "LayoutView",
            "align_content": null,
            "align_items": null,
            "align_self": null,
            "border": null,
            "bottom": null,
            "display": null,
            "flex": null,
            "flex_flow": null,
            "grid_area": null,
            "grid_auto_columns": null,
            "grid_auto_flow": null,
            "grid_auto_rows": null,
            "grid_column": null,
            "grid_gap": null,
            "grid_row": null,
            "grid_template_areas": null,
            "grid_template_columns": null,
            "grid_template_rows": null,
            "height": null,
            "justify_content": null,
            "justify_items": null,
            "left": null,
            "margin": null,
            "max_height": null,
            "max_width": null,
            "min_height": null,
            "min_width": null,
            "object_fit": null,
            "object_position": null,
            "order": null,
            "overflow": null,
            "overflow_x": null,
            "overflow_y": null,
            "padding": null,
            "right": null,
            "top": null,
            "visibility": null,
            "width": null
          }
        },
        "0b6cc267091e4f17bc8bb8824ec96a77": {
          "model_module": "@jupyter-widgets/controls",
          "model_name": "ProgressStyleModel",
          "model_module_version": "1.5.0",
          "state": {
            "_model_module": "@jupyter-widgets/controls",
            "_model_module_version": "1.5.0",
            "_model_name": "ProgressStyleModel",
            "_view_count": null,
            "_view_module": "@jupyter-widgets/base",
            "_view_module_version": "1.2.0",
            "_view_name": "StyleView",
            "bar_color": null,
            "description_width": ""
          }
        },
        "f577c9f6306348dead27fc5080f9f76e": {
          "model_module": "@jupyter-widgets/base",
          "model_name": "LayoutModel",
          "model_module_version": "1.2.0",
          "state": {
            "_model_module": "@jupyter-widgets/base",
            "_model_module_version": "1.2.0",
            "_model_name": "LayoutModel",
            "_view_count": null,
            "_view_module": "@jupyter-widgets/base",
            "_view_module_version": "1.2.0",
            "_view_name": "LayoutView",
            "align_content": null,
            "align_items": null,
            "align_self": null,
            "border": null,
            "bottom": null,
            "display": null,
            "flex": null,
            "flex_flow": null,
            "grid_area": null,
            "grid_auto_columns": null,
            "grid_auto_flow": null,
            "grid_auto_rows": null,
            "grid_column": null,
            "grid_gap": null,
            "grid_row": null,
            "grid_template_areas": null,
            "grid_template_columns": null,
            "grid_template_rows": null,
            "height": null,
            "justify_content": null,
            "justify_items": null,
            "left": null,
            "margin": null,
            "max_height": null,
            "max_width": null,
            "min_height": null,
            "min_width": null,
            "object_fit": null,
            "object_position": null,
            "order": null,
            "overflow": null,
            "overflow_x": null,
            "overflow_y": null,
            "padding": null,
            "right": null,
            "top": null,
            "visibility": null,
            "width": null
          }
        },
        "0f492993e1d347b8bc06bce9e7876ffd": {
          "model_module": "@jupyter-widgets/controls",
          "model_name": "DescriptionStyleModel",
          "model_module_version": "1.5.0",
          "state": {
            "_model_module": "@jupyter-widgets/controls",
            "_model_module_version": "1.5.0",
            "_model_name": "DescriptionStyleModel",
            "_view_count": null,
            "_view_module": "@jupyter-widgets/base",
            "_view_module_version": "1.2.0",
            "_view_name": "StyleView",
            "description_width": ""
          }
        },
        "77fdd9be17504c5d812de6a7935dde4b": {
          "model_module": "@jupyter-widgets/controls",
          "model_name": "HBoxModel",
          "model_module_version": "1.5.0",
          "state": {
            "_dom_classes": [],
            "_model_module": "@jupyter-widgets/controls",
            "_model_module_version": "1.5.0",
            "_model_name": "HBoxModel",
            "_view_count": null,
            "_view_module": "@jupyter-widgets/controls",
            "_view_module_version": "1.5.0",
            "_view_name": "HBoxView",
            "box_style": "",
            "children": [
              "IPY_MODEL_0580b45819d545a7ac4460c396a356c5",
              "IPY_MODEL_c6c3d25e39e445b28ba2ed23924ae89f",
              "IPY_MODEL_bf6761661e4643f8a8742b10e9c3b42d"
            ],
            "layout": "IPY_MODEL_e26ab48bab844d4db4f32ae8fecf06ea"
          }
        },
        "0580b45819d545a7ac4460c396a356c5": {
          "model_module": "@jupyter-widgets/controls",
          "model_name": "HTMLModel",
          "model_module_version": "1.5.0",
          "state": {
            "_dom_classes": [],
            "_model_module": "@jupyter-widgets/controls",
            "_model_module_version": "1.5.0",
            "_model_name": "HTMLModel",
            "_view_count": null,
            "_view_module": "@jupyter-widgets/controls",
            "_view_module_version": "1.5.0",
            "_view_name": "HTMLView",
            "description": "",
            "description_tooltip": null,
            "layout": "IPY_MODEL_1d180d3f3f654b7095573bb474f1ce2c",
            "placeholder": "​",
            "style": "IPY_MODEL_c2a3230f3dff46ac93e647c7990a7fb6",
            "value": "100%"
          }
        },
        "c6c3d25e39e445b28ba2ed23924ae89f": {
          "model_module": "@jupyter-widgets/controls",
          "model_name": "FloatProgressModel",
          "model_module_version": "1.5.0",
          "state": {
            "_dom_classes": [],
            "_model_module": "@jupyter-widgets/controls",
            "_model_module_version": "1.5.0",
            "_model_name": "FloatProgressModel",
            "_view_count": null,
            "_view_module": "@jupyter-widgets/controls",
            "_view_module_version": "1.5.0",
            "_view_name": "ProgressView",
            "bar_style": "success",
            "description": "",
            "description_tooltip": null,
            "layout": "IPY_MODEL_608e6b9f914941fa89c055205135901f",
            "max": 4542,
            "min": 0,
            "orientation": "horizontal",
            "style": "IPY_MODEL_0d30816ef3ac4b6cb1484f52e8f4567e",
            "value": 4542
          }
        },
        "bf6761661e4643f8a8742b10e9c3b42d": {
          "model_module": "@jupyter-widgets/controls",
          "model_name": "HTMLModel",
          "model_module_version": "1.5.0",
          "state": {
            "_dom_classes": [],
            "_model_module": "@jupyter-widgets/controls",
            "_model_module_version": "1.5.0",
            "_model_name": "HTMLModel",
            "_view_count": null,
            "_view_module": "@jupyter-widgets/controls",
            "_view_module_version": "1.5.0",
            "_view_name": "HTMLView",
            "description": "",
            "description_tooltip": null,
            "layout": "IPY_MODEL_3e727e3f93e6437abae4eb94e0487f98",
            "placeholder": "​",
            "style": "IPY_MODEL_4bfc0c6d9fb2437cb0038a76051c0e53",
            "value": " 4542/4542 [00:00&lt;00:00, 196209.09it/s]"
          }
        },
        "e26ab48bab844d4db4f32ae8fecf06ea": {
          "model_module": "@jupyter-widgets/base",
          "model_name": "LayoutModel",
          "model_module_version": "1.2.0",
          "state": {
            "_model_module": "@jupyter-widgets/base",
            "_model_module_version": "1.2.0",
            "_model_name": "LayoutModel",
            "_view_count": null,
            "_view_module": "@jupyter-widgets/base",
            "_view_module_version": "1.2.0",
            "_view_name": "LayoutView",
            "align_content": null,
            "align_items": null,
            "align_self": null,
            "border": null,
            "bottom": null,
            "display": null,
            "flex": null,
            "flex_flow": null,
            "grid_area": null,
            "grid_auto_columns": null,
            "grid_auto_flow": null,
            "grid_auto_rows": null,
            "grid_column": null,
            "grid_gap": null,
            "grid_row": null,
            "grid_template_areas": null,
            "grid_template_columns": null,
            "grid_template_rows": null,
            "height": null,
            "justify_content": null,
            "justify_items": null,
            "left": null,
            "margin": null,
            "max_height": null,
            "max_width": null,
            "min_height": null,
            "min_width": null,
            "object_fit": null,
            "object_position": null,
            "order": null,
            "overflow": null,
            "overflow_x": null,
            "overflow_y": null,
            "padding": null,
            "right": null,
            "top": null,
            "visibility": null,
            "width": null
          }
        },
        "1d180d3f3f654b7095573bb474f1ce2c": {
          "model_module": "@jupyter-widgets/base",
          "model_name": "LayoutModel",
          "model_module_version": "1.2.0",
          "state": {
            "_model_module": "@jupyter-widgets/base",
            "_model_module_version": "1.2.0",
            "_model_name": "LayoutModel",
            "_view_count": null,
            "_view_module": "@jupyter-widgets/base",
            "_view_module_version": "1.2.0",
            "_view_name": "LayoutView",
            "align_content": null,
            "align_items": null,
            "align_self": null,
            "border": null,
            "bottom": null,
            "display": null,
            "flex": null,
            "flex_flow": null,
            "grid_area": null,
            "grid_auto_columns": null,
            "grid_auto_flow": null,
            "grid_auto_rows": null,
            "grid_column": null,
            "grid_gap": null,
            "grid_row": null,
            "grid_template_areas": null,
            "grid_template_columns": null,
            "grid_template_rows": null,
            "height": null,
            "justify_content": null,
            "justify_items": null,
            "left": null,
            "margin": null,
            "max_height": null,
            "max_width": null,
            "min_height": null,
            "min_width": null,
            "object_fit": null,
            "object_position": null,
            "order": null,
            "overflow": null,
            "overflow_x": null,
            "overflow_y": null,
            "padding": null,
            "right": null,
            "top": null,
            "visibility": null,
            "width": null
          }
        },
        "c2a3230f3dff46ac93e647c7990a7fb6": {
          "model_module": "@jupyter-widgets/controls",
          "model_name": "DescriptionStyleModel",
          "model_module_version": "1.5.0",
          "state": {
            "_model_module": "@jupyter-widgets/controls",
            "_model_module_version": "1.5.0",
            "_model_name": "DescriptionStyleModel",
            "_view_count": null,
            "_view_module": "@jupyter-widgets/base",
            "_view_module_version": "1.2.0",
            "_view_name": "StyleView",
            "description_width": ""
          }
        },
        "608e6b9f914941fa89c055205135901f": {
          "model_module": "@jupyter-widgets/base",
          "model_name": "LayoutModel",
          "model_module_version": "1.2.0",
          "state": {
            "_model_module": "@jupyter-widgets/base",
            "_model_module_version": "1.2.0",
            "_model_name": "LayoutModel",
            "_view_count": null,
            "_view_module": "@jupyter-widgets/base",
            "_view_module_version": "1.2.0",
            "_view_name": "LayoutView",
            "align_content": null,
            "align_items": null,
            "align_self": null,
            "border": null,
            "bottom": null,
            "display": null,
            "flex": null,
            "flex_flow": null,
            "grid_area": null,
            "grid_auto_columns": null,
            "grid_auto_flow": null,
            "grid_auto_rows": null,
            "grid_column": null,
            "grid_gap": null,
            "grid_row": null,
            "grid_template_areas": null,
            "grid_template_columns": null,
            "grid_template_rows": null,
            "height": null,
            "justify_content": null,
            "justify_items": null,
            "left": null,
            "margin": null,
            "max_height": null,
            "max_width": null,
            "min_height": null,
            "min_width": null,
            "object_fit": null,
            "object_position": null,
            "order": null,
            "overflow": null,
            "overflow_x": null,
            "overflow_y": null,
            "padding": null,
            "right": null,
            "top": null,
            "visibility": null,
            "width": null
          }
        },
        "0d30816ef3ac4b6cb1484f52e8f4567e": {
          "model_module": "@jupyter-widgets/controls",
          "model_name": "ProgressStyleModel",
          "model_module_version": "1.5.0",
          "state": {
            "_model_module": "@jupyter-widgets/controls",
            "_model_module_version": "1.5.0",
            "_model_name": "ProgressStyleModel",
            "_view_count": null,
            "_view_module": "@jupyter-widgets/base",
            "_view_module_version": "1.2.0",
            "_view_name": "StyleView",
            "bar_color": null,
            "description_width": ""
          }
        },
        "3e727e3f93e6437abae4eb94e0487f98": {
          "model_module": "@jupyter-widgets/base",
          "model_name": "LayoutModel",
          "model_module_version": "1.2.0",
          "state": {
            "_model_module": "@jupyter-widgets/base",
            "_model_module_version": "1.2.0",
            "_model_name": "LayoutModel",
            "_view_count": null,
            "_view_module": "@jupyter-widgets/base",
            "_view_module_version": "1.2.0",
            "_view_name": "LayoutView",
            "align_content": null,
            "align_items": null,
            "align_self": null,
            "border": null,
            "bottom": null,
            "display": null,
            "flex": null,
            "flex_flow": null,
            "grid_area": null,
            "grid_auto_columns": null,
            "grid_auto_flow": null,
            "grid_auto_rows": null,
            "grid_column": null,
            "grid_gap": null,
            "grid_row": null,
            "grid_template_areas": null,
            "grid_template_columns": null,
            "grid_template_rows": null,
            "height": null,
            "justify_content": null,
            "justify_items": null,
            "left": null,
            "margin": null,
            "max_height": null,
            "max_width": null,
            "min_height": null,
            "min_width": null,
            "object_fit": null,
            "object_position": null,
            "order": null,
            "overflow": null,
            "overflow_x": null,
            "overflow_y": null,
            "padding": null,
            "right": null,
            "top": null,
            "visibility": null,
            "width": null
          }
        },
        "4bfc0c6d9fb2437cb0038a76051c0e53": {
          "model_module": "@jupyter-widgets/controls",
          "model_name": "DescriptionStyleModel",
          "model_module_version": "1.5.0",
          "state": {
            "_model_module": "@jupyter-widgets/controls",
            "_model_module_version": "1.5.0",
            "_model_name": "DescriptionStyleModel",
            "_view_count": null,
            "_view_module": "@jupyter-widgets/base",
            "_view_module_version": "1.2.0",
            "_view_name": "StyleView",
            "description_width": ""
          }
        }
      }
    }
  },
  "cells": [
    {
      "cell_type": "markdown",
      "source": [
        "## Cloning GIT Repo"
      ],
      "metadata": {
        "id": "7v1kh-DvjmEN"
      }
    },
    {
      "cell_type": "code",
      "source": [
        "!export PYTORCH_CUDA_ALLOC_CONF=garbage_collection_threshold:0.6,max_split_size_mb:128\n",
        "!git clone https://github.com/abhijeetu1912/EVA.git\n",
        "!mv EVA/S5/model.py ."
      ],
      "metadata": {
        "colab": {
          "base_uri": "https://localhost:8080/"
        },
        "id": "i2z8KvmrjEce",
        "outputId": "6e05f75a-df24-4ee8-f038-da8b98ed3844"
      },
      "execution_count": 1,
      "outputs": [
        {
          "output_type": "stream",
          "name": "stdout",
          "text": [
            "Cloning into 'EVA'...\n",
            "remote: Enumerating objects: 234, done.\u001b[K\n",
            "remote: Counting objects: 100% (19/19), done.\u001b[K\n",
            "remote: Compressing objects: 100% (10/10), done.\u001b[K\n",
            "remote: Total 234 (delta 9), reused 15 (delta 5), pack-reused 215\u001b[K\n",
            "Receiving objects: 100% (234/234), 1.96 MiB | 20.67 MiB/s, done.\n",
            "Resolving deltas: 100% (86/86), done.\n"
          ]
        }
      ]
    },
    {
      "cell_type": "markdown",
      "metadata": {
        "id": "aO-7t1Y7-hV4"
      },
      "source": [
        "# Import Libraries"
      ]
    },
    {
      "cell_type": "code",
      "source": [
        "!pip install torchsummary"
      ],
      "metadata": {
        "colab": {
          "base_uri": "https://localhost:8080/"
        },
        "id": "ymfYehBQg_7_",
        "outputId": "b70c98eb-9ebd-4d4d-e293-508bc5c58715"
      },
      "execution_count": 2,
      "outputs": [
        {
          "output_type": "stream",
          "name": "stdout",
          "text": [
            "Looking in indexes: https://pypi.org/simple, https://us-python.pkg.dev/colab-wheels/public/simple/\n",
            "Requirement already satisfied: torchsummary in /usr/local/lib/python3.8/dist-packages (1.5.1)\n"
          ]
        }
      ]
    },
    {
      "cell_type": "code",
      "metadata": {
        "id": "8kH16rnZ7wt_"
      },
      "source": [
        "# load required libraries\n",
        "from __future__ import print_function\n",
        "import numpy as np\n",
        "import matplotlib.pyplot as plt\n",
        "import torch\n",
        "import torch.nn as nn\n",
        "import torch.nn.functional as F\n",
        "import torch.optim as optim\n",
        "from torch.optim.lr_scheduler import StepLR\n",
        "from torchvision import datasets, transforms\n",
        "from tqdm import tqdm\n",
        "from model import Net\n",
        "from torchsummary import summary"
      ],
      "execution_count": 56,
      "outputs": []
    },
    {
      "cell_type": "markdown",
      "metadata": {
        "id": "ky3f_Odl-7um"
      },
      "source": [
        "## Data Transformations\n"
      ]
    },
    {
      "cell_type": "code",
      "metadata": {
        "id": "YtssFUKb-jqx"
      },
      "source": [
        "# Train Phase transformations\n",
        "train_transforms = transforms.Compose([\n",
        "                                       transforms.RandomRotation((-7.0, 7.0)),\n",
        "                                       transforms.ToTensor(),\n",
        "                                       transforms.Normalize((0.1307,), (0.3081,))\n",
        "                                      ])\n",
        "\n",
        "# Test Phase transformations\n",
        "test_transforms = transforms.Compose([\n",
        "                                      transforms.ToTensor(),\n",
        "                                      transforms.Normalize((0.1307,), (0.3081,))\n",
        "                                     ])\n"
      ],
      "execution_count": 4,
      "outputs": []
    },
    {
      "cell_type": "markdown",
      "metadata": {
        "id": "oQciFYo2B1mO"
      },
      "source": [
        "# Dataset and Creating Train/Test Split"
      ]
    },
    {
      "cell_type": "code",
      "metadata": {
        "id": "_4A84rlfDA23",
        "colab": {
          "base_uri": "https://localhost:8080/",
          "height": 423,
          "referenced_widgets": [
            "4a13a527a4a34663b0396572aaeba80e",
            "49b3222cac854cdb959eda8b0e0fda66",
            "8a368789d36f4f59a1b4b1057ff164bf",
            "9e4292888e3a4e30858f11f5042be263",
            "fb2680538f4f47909cd2cb4446503b12",
            "ebe9598e98de4892a8d49b0404efb722",
            "620013b5ffc148138914629bf802343c",
            "fc8abe2e48644a8f9fd9a8a3d5986ef7",
            "e844828a6995407fa94c84b0fc84944c",
            "1e55ee89b5f5447b99457a434f1ad6ea",
            "8156b5a2616a4c7cbdf07f314dd8990a",
            "6465e155c3044a19b7cd9838d3b2c477",
            "5efc132a6a36428bb1c6615154dcf663",
            "b1160f12a7b44f4591ceab7181236d74",
            "8d031291c7de42c69d62ee3618dace96",
            "d6bc156507b54faea031920d0616444d",
            "633bd2aa18cd4efead620610f6448b3d",
            "ac19fd923f514f77badf61e68b21f55f",
            "f9efddd03764403ebc390581c885b37d",
            "c4babe005a664e15ae48c2e6af378262",
            "f314f12faa81455e82776d7d893170f0",
            "19a864f54bc14945b2153a85a0f2fc59",
            "0168fe07cd914851899de385e43e2580",
            "095bc8e2b9734384a3d2ac4c941ca4b9",
            "7ff7b171f4a748fda2206b66e1603e14",
            "f37949abe4c947b8bc4d3193a2fd6461",
            "2ffac1ed1dca4d22894c667701ed22a6",
            "a1e024cc2fd64311b4db7693f6f323ed",
            "8e47ad59cb9a438b84c34d6cdbbfd54f",
            "ba1e63ea80ab41479d3edf653eb380b0",
            "0b6cc267091e4f17bc8bb8824ec96a77",
            "f577c9f6306348dead27fc5080f9f76e",
            "0f492993e1d347b8bc06bce9e7876ffd",
            "77fdd9be17504c5d812de6a7935dde4b",
            "0580b45819d545a7ac4460c396a356c5",
            "c6c3d25e39e445b28ba2ed23924ae89f",
            "bf6761661e4643f8a8742b10e9c3b42d",
            "e26ab48bab844d4db4f32ae8fecf06ea",
            "1d180d3f3f654b7095573bb474f1ce2c",
            "c2a3230f3dff46ac93e647c7990a7fb6",
            "608e6b9f914941fa89c055205135901f",
            "0d30816ef3ac4b6cb1484f52e8f4567e",
            "3e727e3f93e6437abae4eb94e0487f98",
            "4bfc0c6d9fb2437cb0038a76051c0e53"
          ]
        },
        "outputId": "bccf532d-2a76-45a3-9b44-0f620e7c57cf"
      },
      "source": [
        "train = datasets.MNIST('./data', train=True, download=True, transform=train_transforms)\n",
        "test = datasets.MNIST('./data', train=False, download=True, transform=test_transforms)"
      ],
      "execution_count": 5,
      "outputs": [
        {
          "output_type": "stream",
          "name": "stdout",
          "text": [
            "Downloading http://yann.lecun.com/exdb/mnist/train-images-idx3-ubyte.gz\n",
            "Downloading http://yann.lecun.com/exdb/mnist/train-images-idx3-ubyte.gz to ./data/MNIST/raw/train-images-idx3-ubyte.gz\n"
          ]
        },
        {
          "output_type": "display_data",
          "data": {
            "text/plain": [
              "  0%|          | 0/9912422 [00:00<?, ?it/s]"
            ],
            "application/vnd.jupyter.widget-view+json": {
              "version_major": 2,
              "version_minor": 0,
              "model_id": "4a13a527a4a34663b0396572aaeba80e"
            }
          },
          "metadata": {}
        },
        {
          "output_type": "stream",
          "name": "stdout",
          "text": [
            "Extracting ./data/MNIST/raw/train-images-idx3-ubyte.gz to ./data/MNIST/raw\n",
            "\n",
            "Downloading http://yann.lecun.com/exdb/mnist/train-labels-idx1-ubyte.gz\n",
            "Downloading http://yann.lecun.com/exdb/mnist/train-labels-idx1-ubyte.gz to ./data/MNIST/raw/train-labels-idx1-ubyte.gz\n"
          ]
        },
        {
          "output_type": "display_data",
          "data": {
            "text/plain": [
              "  0%|          | 0/28881 [00:00<?, ?it/s]"
            ],
            "application/vnd.jupyter.widget-view+json": {
              "version_major": 2,
              "version_minor": 0,
              "model_id": "6465e155c3044a19b7cd9838d3b2c477"
            }
          },
          "metadata": {}
        },
        {
          "output_type": "stream",
          "name": "stdout",
          "text": [
            "Extracting ./data/MNIST/raw/train-labels-idx1-ubyte.gz to ./data/MNIST/raw\n",
            "\n",
            "Downloading http://yann.lecun.com/exdb/mnist/t10k-images-idx3-ubyte.gz\n",
            "Downloading http://yann.lecun.com/exdb/mnist/t10k-images-idx3-ubyte.gz to ./data/MNIST/raw/t10k-images-idx3-ubyte.gz\n"
          ]
        },
        {
          "output_type": "display_data",
          "data": {
            "text/plain": [
              "  0%|          | 0/1648877 [00:00<?, ?it/s]"
            ],
            "application/vnd.jupyter.widget-view+json": {
              "version_major": 2,
              "version_minor": 0,
              "model_id": "0168fe07cd914851899de385e43e2580"
            }
          },
          "metadata": {}
        },
        {
          "output_type": "stream",
          "name": "stdout",
          "text": [
            "Extracting ./data/MNIST/raw/t10k-images-idx3-ubyte.gz to ./data/MNIST/raw\n",
            "\n",
            "Downloading http://yann.lecun.com/exdb/mnist/t10k-labels-idx1-ubyte.gz\n",
            "Downloading http://yann.lecun.com/exdb/mnist/t10k-labels-idx1-ubyte.gz to ./data/MNIST/raw/t10k-labels-idx1-ubyte.gz\n"
          ]
        },
        {
          "output_type": "display_data",
          "data": {
            "text/plain": [
              "  0%|          | 0/4542 [00:00<?, ?it/s]"
            ],
            "application/vnd.jupyter.widget-view+json": {
              "version_major": 2,
              "version_minor": 0,
              "model_id": "77fdd9be17504c5d812de6a7935dde4b"
            }
          },
          "metadata": {}
        },
        {
          "output_type": "stream",
          "name": "stdout",
          "text": [
            "Extracting ./data/MNIST/raw/t10k-labels-idx1-ubyte.gz to ./data/MNIST/raw\n",
            "\n"
          ]
        }
      ]
    },
    {
      "cell_type": "markdown",
      "metadata": {
        "id": "qgldp_3-Dn0c"
      },
      "source": [
        "# Dataloader Arguments & Test/Train Dataloaders\n"
      ]
    },
    {
      "cell_type": "code",
      "metadata": {
        "id": "C8OLDR79DrHG",
        "outputId": "40379d57-de5e-4bda-d953-09c41ecba629",
        "colab": {
          "base_uri": "https://localhost:8080/"
        }
      },
      "source": [
        "SEED = 1\n",
        "batch_size = 64\n",
        "\n",
        "# CUDA?\n",
        "cuda = torch.cuda.is_available()\n",
        "print(\"CUDA Available?\", cuda)\n",
        "\n",
        "# For reproducibility\n",
        "torch.manual_seed(SEED)\n",
        "\n",
        "if cuda:\n",
        "    torch.cuda.manual_seed(SEED)\n",
        "\n",
        "# dataloader arguments - something you'll fetch these from cmdprmt\n",
        "dataloader_args = dict(shuffle=True, batch_size=batch_size, num_workers=4, pin_memory=True) if cuda else \\\n",
        "                  dict(shuffle=True, batch_size=batch_size//2)\n",
        "\n",
        "# train dataloader\n",
        "train_loader = torch.utils.data.DataLoader(train, **dataloader_args)\n",
        "\n",
        "# test dataloader\n",
        "test_loader = torch.utils.data.DataLoader(test, **dataloader_args)"
      ],
      "execution_count": 6,
      "outputs": [
        {
          "output_type": "stream",
          "name": "stdout",
          "text": [
            "CUDA Available? True\n"
          ]
        },
        {
          "output_type": "stream",
          "name": "stderr",
          "text": [
            "/usr/local/lib/python3.8/dist-packages/torch/utils/data/dataloader.py:554: UserWarning: This DataLoader will create 4 worker processes in total. Our suggested max number of worker in current system is 2, which is smaller than what this DataLoader is going to create. Please be aware that excessive worker creation might get DataLoader running slow or even freeze, lower the worker number to avoid potential slowness/freeze if necessary.\n",
            "  warnings.warn(_create_warning_msg(\n"
          ]
        }
      ]
    },
    {
      "cell_type": "markdown",
      "metadata": {
        "id": "ubQL3H6RJL3h"
      },
      "source": [
        "## Device"
      ]
    },
    {
      "cell_type": "code",
      "source": [
        "# device initialization\n",
        "use_cuda = torch.cuda.is_available()\n",
        "device = torch.device(\"cuda\" if use_cuda else \"cpu\")\n",
        "print(device)"
      ],
      "metadata": {
        "colab": {
          "base_uri": "https://localhost:8080/"
        },
        "id": "jsMPLqbFkIfQ",
        "outputId": "cbad452d-7e22-4770-f838-4266b4d3d579"
      },
      "execution_count": 7,
      "outputs": [
        {
          "output_type": "stream",
          "name": "stdout",
          "text": [
            "cuda\n"
          ]
        }
      ]
    },
    {
      "cell_type": "markdown",
      "metadata": {
        "id": "1__x_SbrL7z3"
      },
      "source": [
        "# Training and Testing Module"
      ]
    },
    {
      "cell_type": "code",
      "metadata": {
        "id": "fbkF2nN_LYIb"
      },
      "source": [
        "# trainer to train the model\n",
        "class Trainer:\n",
        "    def __init__(self, model, train_loader, criterion, optimizer, device, scheduler, l1_reg = 0):\n",
        "        self.model = model\n",
        "        self.train_loader = train_loader\n",
        "        self.criterion = criterion\n",
        "        self.optimizer = optimizer\n",
        "        self.device = device\n",
        "        self.train_losses = []\n",
        "        self.train_accs = []\n",
        "        self.l1_reg = l1_reg\n",
        "\n",
        "    def train(self):\n",
        "        # use model in training mode\n",
        "        self.model.train()\n",
        "        # track number of correct classifications & data points processed\n",
        "        correct = 0\n",
        "        processed = 0    \n",
        "        #progress bar\n",
        "        pbar = tqdm(self.train_loader)\n",
        "        # iterate over batches\n",
        "        for batch_id, (inputs, targets) in enumerate(pbar):\n",
        "            # set device\n",
        "            images, targets = inputs.to(self.device), targets.to(self.device)\n",
        "            # zero out or flush gradients from last batch\n",
        "            self.optimizer.zero_grad()\n",
        "            # predict output\n",
        "            outputs = self.model(images)\n",
        "            # calculate loss\n",
        "            loss = self.criterion(outputs, targets)\n",
        "            # add l1 penalty to loss\n",
        "            if self.l1_reg > 0:\n",
        "               l1_norm = sum(p.abs().sum() for p in self.model.parameters())\n",
        "               loss += self.l1_reg * l1_norm\n",
        "            # append batch train loss\n",
        "            self.train_losses.append(loss.item())\n",
        "            # backpropogate loss\n",
        "            loss.backward()\n",
        "            # update weights \n",
        "            self.optimizer.step()\n",
        "            # predict class\n",
        "            pred = outputs.argmax(dim=1, keepdim=True)\n",
        "            # count correctly classified data points\n",
        "            correct += pred.eq(targets.view_as(pred)).sum().item()\n",
        "            # count number of data points processed till this iteration\n",
        "            processed += len(inputs)\n",
        "            # append train accuracy\n",
        "            self.train_accs.append(100 * correct / processed)\n",
        "            # show progress bar\n",
        "            pbar.set_description(\n",
        "                desc=f\"Loss = {loss.item():3.2f} | Batch = {batch_id} | Accuracy = {self.train_accs[-1]:0.2f}\"\n",
        "            )\n",
        "\n",
        "\n",
        "# tester to test the model\n",
        "class Tester:\n",
        "    def __init__(self, model, test_loader, criterion, device):\n",
        "        self.model = model\n",
        "        self.test_loader = test_loader\n",
        "        self.criterion = criterion\n",
        "        self.device = device\n",
        "        self.test_losses = []\n",
        "        self.test_accs = []\n",
        "\n",
        "    def test(self):\n",
        "        #use model in evaluation mode\n",
        "        self.model.eval()\n",
        "        # number of correctly classified data points\n",
        "        correct = 0\n",
        "        # batch test loss\n",
        "        batch_loss = 0\n",
        "        # execute without gradients\n",
        "        with torch.no_grad():\n",
        "            #iterate over batches\n",
        "            for data, target in self.test_loader:\n",
        "                # set device\n",
        "                data, target = data.to(self.device), target.to(self.device)\n",
        "                # predict output\n",
        "                outputs = self.model(data)\n",
        "                # calculate and add up loss over batches\n",
        "                batch_loss += self.criterion(outputs, target).item() \n",
        "                # predict class\n",
        "                pred = outputs.argmax(dim=1, keepdim=True)\n",
        "                # update number of correctly classified ata points\n",
        "                correct += pred.eq(target.view_as(pred)).sum().item()\n",
        "            # append average test loss of epoch\n",
        "            self.test_losses.append(batch_loss / len(self.test_loader.dataset))\n",
        "            # append test accuracy\n",
        "            self.test_accs.append(100 * correct / len(self.test_loader.dataset))\n",
        "            # print epoch statistics\n",
        "            print('\\nTest set: Average loss: {:.5f}, Accuracy: {:.2f}\\n'.format(\n",
        "                  self.test_losses[-1], self.test_accs[-1]))\n",
        "\n",
        "\n",
        "# evaluate final model\n",
        "def evaluate(model, data_loader, criterion, device, split = 'Test'):\n",
        "    #use model in evaluation mode\n",
        "    model.eval()\n",
        "    # number of correctly classified data points\n",
        "    correct = 0\n",
        "    # batch test loss\n",
        "    batch_loss = 0\n",
        "    # execute without gradients\n",
        "    with torch.no_grad():\n",
        "        #iterate over batches\n",
        "        for data, target in data_loader:\n",
        "            # set device\n",
        "            data, target = data.to(device), target.to(device)\n",
        "            # predict output\n",
        "            outputs = model(data)\n",
        "            # calculate and add up loss over batches\n",
        "            batch_loss += criterion(outputs, target).item() \n",
        "            # predict class\n",
        "            pred = outputs.argmax(dim=1, keepdim=True)\n",
        "            # update number of correctly classified ata points\n",
        "            correct += pred.eq(target.view_as(pred)).sum().item()\n",
        "        # average loss\n",
        "        loss = batch_loss / len(data_loader.dataset)\n",
        "        # accuracy\n",
        "        accuracy = 100 * correct / len(data_loader.dataset)\n",
        "        # print epoch statistics\n",
        "        print('\\n{} set: Average loss: {:.5f}, Accuracy: {:.2f}\\n'.format(\n",
        "              split, loss, accuracy))\n"
      ],
      "execution_count": 8,
      "outputs": []
    },
    {
      "cell_type": "markdown",
      "source": [
        "## Utility Functions to Show Misclassified Images"
      ],
      "metadata": {
        "id": "MhD60iW0-gP9"
      }
    },
    {
      "cell_type": "code",
      "source": [
        "# prdict classes from model\n",
        "def predict_label(model, images):\n",
        "    outputs = model(images)\n",
        "    pred_labels = outputs.argmax(dim = 1, keepdim = True)\n",
        "    return pred_labels\n",
        "\n",
        "# find miss classified examples\n",
        "def get_missclassified_records(model, data_loader, device, num_images = 10):\n",
        "    images = []\n",
        "    labels = []\n",
        "    pred_labels = []\n",
        "    model.eval()\n",
        "    with torch.no_grad():\n",
        "         for data, target in data_loader:\n",
        "            data, target = data.to(device), target.to(device)\n",
        "            preds = predict_label(model, data)                           # get the index of the max log-probability\n",
        "            for i in range(len(target)):\n",
        "                if preds[i] != target[i]:\n",
        "                   images.append(data[i])\n",
        "                   labels.append(target[i])\n",
        "                   pred_labels.append(preds[i])\n",
        "    return images[:num_images], labels[:num_images], pred_labels[:num_images]\n",
        "\n",
        "# de-normalize image back to normal\n",
        "def denormalize_image(img, means = 0.1307, stds = 0.3081):\n",
        "    img = img.astype(np.float32)\n",
        "    img = (img * stds) + means\n",
        "    orig_img = np.transpose(img, (1, 2, 0))\n",
        "    return orig_img\n",
        "\n",
        "# save miss classified images\n",
        "def show_missclassified_images(images, labels, pred_labels, num_images = 10):\n",
        "    fig = plt.figure(figsize = (5 * num_images // 5, 5))\n",
        "    for i in range(num_images):\n",
        "        sub = fig.add_subplot(num_images // 5, 5, i + 1)\n",
        "        npimg = denormalize_image(images[i].cpu().numpy())\n",
        "        plt.imshow(npimg, cmap=\"gray\")\n",
        "        sub.set_title(\"True: {} \\nPredicted: {}\".format(labels[i], pred_labels[i][0]))\n",
        "    plt.tight_layout()\n",
        "    plt.show()\n"
      ],
      "metadata": {
        "id": "UPObTnLA-lcN"
      },
      "execution_count": 54,
      "outputs": []
    },
    {
      "cell_type": "markdown",
      "source": [
        "## BN + L1 Training"
      ],
      "metadata": {
        "id": "ZAhSreWZrvIo"
      }
    },
    {
      "cell_type": "code",
      "source": [
        "# model\n",
        "model_bn = Net(norm_type='BN').to(device)\n",
        "summary(model_bn, input_size=(1, 28, 28))"
      ],
      "metadata": {
        "colab": {
          "base_uri": "https://localhost:8080/"
        },
        "id": "P8jFIbaU1KiV",
        "outputId": "fb06c181-2aa7-4754-c728-728090be3d6e"
      },
      "execution_count": 38,
      "outputs": [
        {
          "output_type": "stream",
          "name": "stdout",
          "text": [
            "----------------------------------------------------------------\n",
            "        Layer (type)               Output Shape         Param #\n",
            "================================================================\n",
            "            Conv2d-1           [-1, 96, 28, 28]           2,496\n",
            "       BatchNorm2d-2           [-1, 96, 28, 28]             192\n",
            "            Conv2d-3           [-1, 16, 28, 28]           1,552\n",
            "       BatchNorm2d-4           [-1, 16, 28, 28]              32\n",
            "           Dropout-5           [-1, 16, 14, 14]               0\n",
            "            Conv2d-6           [-1, 16, 12, 12]           2,320\n",
            "       BatchNorm2d-7           [-1, 16, 12, 12]              32\n",
            "            Conv2d-8            [-1, 8, 12, 12]             136\n",
            "       BatchNorm2d-9            [-1, 8, 12, 12]              16\n",
            "          Dropout-10              [-1, 8, 6, 6]               0\n",
            "           Conv2d-11             [-1, 16, 4, 4]           1,168\n",
            "      BatchNorm2d-12             [-1, 16, 4, 4]              32\n",
            "           Conv2d-13             [-1, 10, 2, 2]           1,450\n",
            "AdaptiveAvgPool2d-14             [-1, 10, 1, 1]               0\n",
            "================================================================\n",
            "Total params: 9,426\n",
            "Trainable params: 9,426\n",
            "Non-trainable params: 0\n",
            "----------------------------------------------------------------\n",
            "Input size (MB): 0.00\n",
            "Forward/backward pass size (MB): 1.42\n",
            "Params size (MB): 0.04\n",
            "Estimated Total Size (MB): 1.46\n",
            "----------------------------------------------------------------\n"
          ]
        }
      ]
    },
    {
      "cell_type": "code",
      "metadata": {
        "id": "aE5Le6FYHhc8",
        "outputId": "5fe2905a-7d9b-4991-d551-fd94183d70cd",
        "colab": {
          "base_uri": "https://localhost:8080/"
        }
      },
      "source": [
        "criterion = nn.CrossEntropyLoss()  # loss\n",
        "optimizer = optim.SGD(model_bn.parameters(), lr = 0.01, momentum = 0.9)  # optimizer\n",
        "scheduler = StepLR(optimizer, step_size = 5, gamma = 0.1)  # learning rate scheduler\n",
        "\n",
        "EPOCHS = 20  # num of epochs\n",
        "train_bn = Trainer(model_bn, train_loader, criterion, optimizer, device, scheduler, l1_reg = 1e-3)\n",
        "test_bn = Tester(model_bn, test_loader, criterion, device)\n",
        "\n",
        "for epoch in range(EPOCHS):\n",
        "    print(\"EPOCH:\", epoch, \" LR: \", train_bn.optimizer.param_groups[0]['lr'])\n",
        "    train_bn.train()      # train\n",
        "    test_bn.test()        # test\n",
        "    scheduler.step()      # scheduler step"
      ],
      "execution_count": 39,
      "outputs": [
        {
          "output_type": "stream",
          "name": "stdout",
          "text": [
            "EPOCH: 0  LR:  0.01\n"
          ]
        },
        {
          "output_type": "stream",
          "name": "stderr",
          "text": [
            "Loss = 0.73 | Batch = 937 | Accuracy = 93.25: 100%|██████████| 938/938 [00:24<00:00, 38.30it/s]\n"
          ]
        },
        {
          "output_type": "stream",
          "name": "stdout",
          "text": [
            "\n",
            "Test set: Average loss: 0.00175, Accuracy: 96.88\n",
            "\n",
            "EPOCH: 1  LR:  0.01\n"
          ]
        },
        {
          "output_type": "stream",
          "name": "stderr",
          "text": [
            "Loss = 0.46 | Batch = 937 | Accuracy = 96.77: 100%|██████████| 938/938 [00:23<00:00, 39.56it/s]\n"
          ]
        },
        {
          "output_type": "stream",
          "name": "stdout",
          "text": [
            "\n",
            "Test set: Average loss: 0.00143, Accuracy: 97.53\n",
            "\n",
            "EPOCH: 2  LR:  0.01\n"
          ]
        },
        {
          "output_type": "stream",
          "name": "stderr",
          "text": [
            "Loss = 0.68 | Batch = 937 | Accuracy = 96.94: 100%|██████████| 938/938 [00:23<00:00, 39.60it/s]\n"
          ]
        },
        {
          "output_type": "stream",
          "name": "stdout",
          "text": [
            "\n",
            "Test set: Average loss: 0.00183, Accuracy: 96.53\n",
            "\n",
            "EPOCH: 3  LR:  0.01\n"
          ]
        },
        {
          "output_type": "stream",
          "name": "stderr",
          "text": [
            "Loss = 0.31 | Batch = 937 | Accuracy = 97.08: 100%|██████████| 938/938 [00:24<00:00, 37.94it/s]\n"
          ]
        },
        {
          "output_type": "stream",
          "name": "stdout",
          "text": [
            "\n",
            "Test set: Average loss: 0.00172, Accuracy: 96.45\n",
            "\n",
            "EPOCH: 4  LR:  0.01\n"
          ]
        },
        {
          "output_type": "stream",
          "name": "stderr",
          "text": [
            "Loss = 0.48 | Batch = 937 | Accuracy = 97.13: 100%|██████████| 938/938 [00:24<00:00, 38.27it/s]\n"
          ]
        },
        {
          "output_type": "stream",
          "name": "stdout",
          "text": [
            "\n",
            "Test set: Average loss: 0.00118, Accuracy: 97.38\n",
            "\n",
            "EPOCH: 5  LR:  0.001\n"
          ]
        },
        {
          "output_type": "stream",
          "name": "stderr",
          "text": [
            "Loss = 0.35 | Batch = 937 | Accuracy = 98.17: 100%|██████████| 938/938 [00:24<00:00, 38.25it/s]\n"
          ]
        },
        {
          "output_type": "stream",
          "name": "stdout",
          "text": [
            "\n",
            "Test set: Average loss: 0.00058, Accuracy: 98.86\n",
            "\n",
            "EPOCH: 6  LR:  0.001\n"
          ]
        },
        {
          "output_type": "stream",
          "name": "stderr",
          "text": [
            "Loss = 0.31 | Batch = 937 | Accuracy = 98.30: 100%|██████████| 938/938 [00:24<00:00, 37.95it/s]\n"
          ]
        },
        {
          "output_type": "stream",
          "name": "stdout",
          "text": [
            "\n",
            "Test set: Average loss: 0.00058, Accuracy: 98.96\n",
            "\n",
            "EPOCH: 7  LR:  0.001\n"
          ]
        },
        {
          "output_type": "stream",
          "name": "stderr",
          "text": [
            "Loss = 0.31 | Batch = 937 | Accuracy = 98.30: 100%|██████████| 938/938 [00:24<00:00, 38.34it/s]\n"
          ]
        },
        {
          "output_type": "stream",
          "name": "stdout",
          "text": [
            "\n",
            "Test set: Average loss: 0.00062, Accuracy: 98.83\n",
            "\n",
            "EPOCH: 8  LR:  0.001\n"
          ]
        },
        {
          "output_type": "stream",
          "name": "stderr",
          "text": [
            "Loss = 0.27 | Batch = 937 | Accuracy = 98.27: 100%|██████████| 938/938 [00:24<00:00, 38.62it/s]\n"
          ]
        },
        {
          "output_type": "stream",
          "name": "stdout",
          "text": [
            "\n",
            "Test set: Average loss: 0.00069, Accuracy: 98.73\n",
            "\n",
            "EPOCH: 9  LR:  0.001\n"
          ]
        },
        {
          "output_type": "stream",
          "name": "stderr",
          "text": [
            "Loss = 0.37 | Batch = 937 | Accuracy = 98.17: 100%|██████████| 938/938 [00:24<00:00, 38.15it/s]\n"
          ]
        },
        {
          "output_type": "stream",
          "name": "stdout",
          "text": [
            "\n",
            "Test set: Average loss: 0.00065, Accuracy: 98.87\n",
            "\n",
            "EPOCH: 10  LR:  0.0001\n"
          ]
        },
        {
          "output_type": "stream",
          "name": "stderr",
          "text": [
            "Loss = 0.26 | Batch = 937 | Accuracy = 98.55: 100%|██████████| 938/938 [00:24<00:00, 37.92it/s]\n"
          ]
        },
        {
          "output_type": "stream",
          "name": "stdout",
          "text": [
            "\n",
            "Test set: Average loss: 0.00051, Accuracy: 99.17\n",
            "\n",
            "EPOCH: 11  LR:  0.0001\n"
          ]
        },
        {
          "output_type": "stream",
          "name": "stderr",
          "text": [
            "Loss = 0.26 | Batch = 937 | Accuracy = 98.61: 100%|██████████| 938/938 [00:24<00:00, 38.57it/s]\n"
          ]
        },
        {
          "output_type": "stream",
          "name": "stdout",
          "text": [
            "\n",
            "Test set: Average loss: 0.00049, Accuracy: 99.25\n",
            "\n",
            "EPOCH: 12  LR:  0.0001\n"
          ]
        },
        {
          "output_type": "stream",
          "name": "stderr",
          "text": [
            "Loss = 0.23 | Batch = 937 | Accuracy = 98.52: 100%|██████████| 938/938 [00:24<00:00, 38.29it/s]\n"
          ]
        },
        {
          "output_type": "stream",
          "name": "stdout",
          "text": [
            "\n",
            "Test set: Average loss: 0.00051, Accuracy: 99.12\n",
            "\n",
            "EPOCH: 13  LR:  0.0001\n"
          ]
        },
        {
          "output_type": "stream",
          "name": "stderr",
          "text": [
            "Loss = 0.22 | Batch = 937 | Accuracy = 98.61: 100%|██████████| 938/938 [00:24<00:00, 38.19it/s]\n"
          ]
        },
        {
          "output_type": "stream",
          "name": "stdout",
          "text": [
            "\n",
            "Test set: Average loss: 0.00049, Accuracy: 99.19\n",
            "\n",
            "EPOCH: 14  LR:  0.0001\n"
          ]
        },
        {
          "output_type": "stream",
          "name": "stderr",
          "text": [
            "Loss = 0.37 | Batch = 937 | Accuracy = 98.56: 100%|██████████| 938/938 [00:24<00:00, 38.11it/s]\n"
          ]
        },
        {
          "output_type": "stream",
          "name": "stdout",
          "text": [
            "\n",
            "Test set: Average loss: 0.00048, Accuracy: 99.28\n",
            "\n",
            "EPOCH: 15  LR:  1e-05\n"
          ]
        },
        {
          "output_type": "stream",
          "name": "stderr",
          "text": [
            "Loss = 0.23 | Batch = 937 | Accuracy = 98.58: 100%|██████████| 938/938 [00:24<00:00, 38.18it/s]\n"
          ]
        },
        {
          "output_type": "stream",
          "name": "stdout",
          "text": [
            "\n",
            "Test set: Average loss: 0.00049, Accuracy: 99.25\n",
            "\n",
            "EPOCH: 16  LR:  1e-05\n"
          ]
        },
        {
          "output_type": "stream",
          "name": "stderr",
          "text": [
            "Loss = 0.24 | Batch = 937 | Accuracy = 98.61: 100%|██████████| 938/938 [00:24<00:00, 37.90it/s]\n"
          ]
        },
        {
          "output_type": "stream",
          "name": "stdout",
          "text": [
            "\n",
            "Test set: Average loss: 0.00048, Accuracy: 99.27\n",
            "\n",
            "EPOCH: 17  LR:  1e-05\n"
          ]
        },
        {
          "output_type": "stream",
          "name": "stderr",
          "text": [
            "Loss = 0.21 | Batch = 937 | Accuracy = 98.68: 100%|██████████| 938/938 [00:24<00:00, 38.19it/s]\n"
          ]
        },
        {
          "output_type": "stream",
          "name": "stdout",
          "text": [
            "\n",
            "Test set: Average loss: 0.00049, Accuracy: 99.25\n",
            "\n",
            "EPOCH: 18  LR:  1e-05\n"
          ]
        },
        {
          "output_type": "stream",
          "name": "stderr",
          "text": [
            "Loss = 0.21 | Batch = 937 | Accuracy = 98.64: 100%|██████████| 938/938 [00:24<00:00, 38.22it/s]\n"
          ]
        },
        {
          "output_type": "stream",
          "name": "stdout",
          "text": [
            "\n",
            "Test set: Average loss: 0.00049, Accuracy: 99.27\n",
            "\n",
            "EPOCH: 19  LR:  1e-05\n"
          ]
        },
        {
          "output_type": "stream",
          "name": "stderr",
          "text": [
            "Loss = 0.23 | Batch = 937 | Accuracy = 98.57: 100%|██████████| 938/938 [00:24<00:00, 38.08it/s]\n"
          ]
        },
        {
          "output_type": "stream",
          "name": "stdout",
          "text": [
            "\n",
            "Test set: Average loss: 0.00049, Accuracy: 99.25\n",
            "\n"
          ]
        }
      ]
    },
    {
      "cell_type": "markdown",
      "source": [
        "#### Model Performance (BN)"
      ],
      "metadata": {
        "id": "SamDtiKqH2nb"
      }
    },
    {
      "cell_type": "code",
      "source": [
        "# model performance\n",
        "evaluate(model_bn, train_loader, criterion, device, split = 'Train')\n",
        "evaluate(model_bn, test_loader, criterion, device, split = 'Test')"
      ],
      "metadata": {
        "colab": {
          "base_uri": "https://localhost:8080/"
        },
        "id": "bOw9rLc9hfCV",
        "outputId": "eb1cb4e3-15fb-4374-bb7e-84db24cb2ca3"
      },
      "execution_count": 40,
      "outputs": [
        {
          "output_type": "stream",
          "name": "stdout",
          "text": [
            "\n",
            "Train set: Average loss: 0.00062, Accuracy: 98.91\n",
            "\n",
            "\n",
            "Test set: Average loss: 0.00049, Accuracy: 99.25\n",
            "\n"
          ]
        }
      ]
    },
    {
      "cell_type": "markdown",
      "source": [
        "#### Misclassified Images of BN"
      ],
      "metadata": {
        "id": "dZ5Yt6XGEsYL"
      }
    },
    {
      "cell_type": "code",
      "source": [
        "# get miss classified images, their truue labels and predicted labels\n",
        "miss_images, miss_labels, miss_pred_labels = get_missclassified_records(model_bn, test_loader, device, 10)\n",
        "\n",
        "# show miss classified images\n",
        "show_missclassified_images(miss_images, miss_labels, miss_pred_labels, 10)"
      ],
      "metadata": {
        "colab": {
          "base_uri": "https://localhost:8080/",
          "height": 365
        },
        "id": "YTqkNYexEer_",
        "outputId": "45d933d4-a04f-41b3-d93a-87f7d4480c99"
      },
      "execution_count": 70,
      "outputs": [
        {
          "output_type": "display_data",
          "data": {
            "text/plain": [
              "<Figure size 720x360 with 10 Axes>"
            ],
            "image/png": "[encoded data removed]"
          },
          "metadata": {
            "needs_background": "light"
          }
        }
      ]
    },
    {
      "cell_type": "markdown",
      "source": [
        "## LN Training"
      ],
      "metadata": {
        "id": "aNP0Yk3qvcas"
      }
    },
    {
      "cell_type": "code",
      "source": [
        "# model\n",
        "model_ln = Net(norm_type='LN').to(device)\n",
        "summary(model_ln, input_size=(1, 28, 28))"
      ],
      "metadata": {
        "colab": {
          "base_uri": "https://localhost:8080/"
        },
        "id": "Q85hDWQA1CUp",
        "outputId": "96759008-7e55-4c5c-8ae7-780dbba8172b"
      },
      "execution_count": 41,
      "outputs": [
        {
          "output_type": "stream",
          "name": "stdout",
          "text": [
            "----------------------------------------------------------------\n",
            "        Layer (type)               Output Shape         Param #\n",
            "================================================================\n",
            "            Conv2d-1           [-1, 96, 28, 28]           2,496\n",
            "         GroupNorm-2           [-1, 96, 28, 28]             192\n",
            "            Conv2d-3           [-1, 16, 28, 28]           1,552\n",
            "         GroupNorm-4           [-1, 16, 28, 28]              32\n",
            "           Dropout-5           [-1, 16, 14, 14]               0\n",
            "            Conv2d-6           [-1, 16, 12, 12]           2,320\n",
            "         GroupNorm-7           [-1, 16, 12, 12]              32\n",
            "            Conv2d-8            [-1, 8, 12, 12]             136\n",
            "         GroupNorm-9            [-1, 8, 12, 12]              16\n",
            "          Dropout-10              [-1, 8, 6, 6]               0\n",
            "           Conv2d-11             [-1, 16, 4, 4]           1,168\n",
            "        GroupNorm-12             [-1, 16, 4, 4]              32\n",
            "           Conv2d-13             [-1, 10, 2, 2]           1,450\n",
            "AdaptiveAvgPool2d-14             [-1, 10, 1, 1]               0\n",
            "================================================================\n",
            "Total params: 9,426\n",
            "Trainable params: 9,426\n",
            "Non-trainable params: 0\n",
            "----------------------------------------------------------------\n",
            "Input size (MB): 0.00\n",
            "Forward/backward pass size (MB): 1.42\n",
            "Params size (MB): 0.04\n",
            "Estimated Total Size (MB): 1.46\n",
            "----------------------------------------------------------------\n"
          ]
        }
      ]
    },
    {
      "cell_type": "code",
      "metadata": {
        "outputId": "8de35a2e-1ef4-4ca0-fe8c-a15ccd6529ec",
        "colab": {
          "base_uri": "https://localhost:8080/"
        },
        "id": "iHOex6G1vcas"
      },
      "source": [
        "criterion = nn.CrossEntropyLoss()  # loss\n",
        "optimizer = optim.SGD(model_ln.parameters(), lr = 0.01, momentum = 0.9)  # optimizer\n",
        "scheduler = StepLR(optimizer, step_size = 5, gamma = 0.1)  # learning rate scheduler\n",
        "\n",
        "EPOCHS = 20  # num of epochs\n",
        "train_ln = Trainer(model_ln, train_loader, criterion, optimizer, device, scheduler)\n",
        "test_ln = Tester(model_ln, test_loader, criterion, device)\n",
        "\n",
        "for epoch in range(EPOCHS):\n",
        "    print(\"EPOCH:\", epoch, \" LR: \", train_ln.optimizer.param_groups[0]['lr'])\n",
        "    train_ln.train()      # train\n",
        "    test_ln.test()        # test\n",
        "    scheduler.step()      # scheduler step"
      ],
      "execution_count": 42,
      "outputs": [
        {
          "output_type": "stream",
          "name": "stdout",
          "text": [
            "EPOCH: 0  LR:  0.01\n"
          ]
        },
        {
          "output_type": "stream",
          "name": "stderr",
          "text": [
            "Loss = 0.11 | Batch = 937 | Accuracy = 91.03: 100%|██████████| 938/938 [00:23<00:00, 39.71it/s]\n"
          ]
        },
        {
          "output_type": "stream",
          "name": "stdout",
          "text": [
            "\n",
            "Test set: Average loss: 0.00116, Accuracy: 97.61\n",
            "\n",
            "EPOCH: 1  LR:  0.01\n"
          ]
        },
        {
          "output_type": "stream",
          "name": "stderr",
          "text": [
            "Loss = 0.03 | Batch = 937 | Accuracy = 96.88: 100%|██████████| 938/938 [00:25<00:00, 36.13it/s]\n"
          ]
        },
        {
          "output_type": "stream",
          "name": "stdout",
          "text": [
            "\n",
            "Test set: Average loss: 0.00082, Accuracy: 98.43\n",
            "\n",
            "EPOCH: 2  LR:  0.01\n"
          ]
        },
        {
          "output_type": "stream",
          "name": "stderr",
          "text": [
            "Loss = 0.03 | Batch = 937 | Accuracy = 97.63: 100%|██████████| 938/938 [00:33<00:00, 28.22it/s]\n"
          ]
        },
        {
          "output_type": "stream",
          "name": "stdout",
          "text": [
            "\n",
            "Test set: Average loss: 0.00075, Accuracy: 98.35\n",
            "\n",
            "EPOCH: 3  LR:  0.01\n"
          ]
        },
        {
          "output_type": "stream",
          "name": "stderr",
          "text": [
            "Loss = 0.04 | Batch = 937 | Accuracy = 97.91: 100%|██████████| 938/938 [00:24<00:00, 37.97it/s]\n"
          ]
        },
        {
          "output_type": "stream",
          "name": "stdout",
          "text": [
            "\n",
            "Test set: Average loss: 0.00070, Accuracy: 98.68\n",
            "\n",
            "EPOCH: 4  LR:  0.01\n"
          ]
        },
        {
          "output_type": "stream",
          "name": "stderr",
          "text": [
            "Loss = 0.13 | Batch = 937 | Accuracy = 98.06: 100%|██████████| 938/938 [00:27<00:00, 34.25it/s]\n"
          ]
        },
        {
          "output_type": "stream",
          "name": "stdout",
          "text": [
            "\n",
            "Test set: Average loss: 0.00056, Accuracy: 98.91\n",
            "\n",
            "EPOCH: 5  LR:  0.001\n"
          ]
        },
        {
          "output_type": "stream",
          "name": "stderr",
          "text": [
            "Loss = 0.11 | Batch = 937 | Accuracy = 98.66: 100%|██████████| 938/938 [00:23<00:00, 39.76it/s]\n"
          ]
        },
        {
          "output_type": "stream",
          "name": "stdout",
          "text": [
            "\n",
            "Test set: Average loss: 0.00047, Accuracy: 99.10\n",
            "\n",
            "EPOCH: 6  LR:  0.001\n"
          ]
        },
        {
          "output_type": "stream",
          "name": "stderr",
          "text": [
            "Loss = 0.09 | Batch = 937 | Accuracy = 98.63: 100%|██████████| 938/938 [00:27<00:00, 34.36it/s]\n"
          ]
        },
        {
          "output_type": "stream",
          "name": "stdout",
          "text": [
            "\n",
            "Test set: Average loss: 0.00045, Accuracy: 99.15\n",
            "\n",
            "EPOCH: 7  LR:  0.001\n"
          ]
        },
        {
          "output_type": "stream",
          "name": "stderr",
          "text": [
            "Loss = 0.13 | Batch = 937 | Accuracy = 98.67: 100%|██████████| 938/938 [00:26<00:00, 35.84it/s]\n"
          ]
        },
        {
          "output_type": "stream",
          "name": "stdout",
          "text": [
            "\n",
            "Test set: Average loss: 0.00044, Accuracy: 99.16\n",
            "\n",
            "EPOCH: 8  LR:  0.001\n"
          ]
        },
        {
          "output_type": "stream",
          "name": "stderr",
          "text": [
            "Loss = 0.01 | Batch = 937 | Accuracy = 98.72: 100%|██████████| 938/938 [00:22<00:00, 41.22it/s]\n"
          ]
        },
        {
          "output_type": "stream",
          "name": "stdout",
          "text": [
            "\n",
            "Test set: Average loss: 0.00043, Accuracy: 99.13\n",
            "\n",
            "EPOCH: 9  LR:  0.001\n"
          ]
        },
        {
          "output_type": "stream",
          "name": "stderr",
          "text": [
            "Loss = 0.01 | Batch = 937 | Accuracy = 98.72: 100%|██████████| 938/938 [00:24<00:00, 37.53it/s]\n"
          ]
        },
        {
          "output_type": "stream",
          "name": "stdout",
          "text": [
            "\n",
            "Test set: Average loss: 0.00043, Accuracy: 99.15\n",
            "\n",
            "EPOCH: 10  LR:  0.0001\n"
          ]
        },
        {
          "output_type": "stream",
          "name": "stderr",
          "text": [
            "Loss = 0.14 | Batch = 937 | Accuracy = 98.79: 100%|██████████| 938/938 [00:25<00:00, 36.32it/s]\n"
          ]
        },
        {
          "output_type": "stream",
          "name": "stdout",
          "text": [
            "\n",
            "Test set: Average loss: 0.00041, Accuracy: 99.15\n",
            "\n",
            "EPOCH: 11  LR:  0.0001\n"
          ]
        },
        {
          "output_type": "stream",
          "name": "stderr",
          "text": [
            "Loss = 0.13 | Batch = 937 | Accuracy = 98.83: 100%|██████████| 938/938 [00:23<00:00, 39.37it/s]\n"
          ]
        },
        {
          "output_type": "stream",
          "name": "stdout",
          "text": [
            "\n",
            "Test set: Average loss: 0.00041, Accuracy: 99.15\n",
            "\n",
            "EPOCH: 12  LR:  0.0001\n"
          ]
        },
        {
          "output_type": "stream",
          "name": "stderr",
          "text": [
            "Loss = 0.03 | Batch = 937 | Accuracy = 98.81: 100%|██████████| 938/938 [00:23<00:00, 39.80it/s]\n"
          ]
        },
        {
          "output_type": "stream",
          "name": "stdout",
          "text": [
            "\n",
            "Test set: Average loss: 0.00041, Accuracy: 99.15\n",
            "\n",
            "EPOCH: 13  LR:  0.0001\n"
          ]
        },
        {
          "output_type": "stream",
          "name": "stderr",
          "text": [
            "Loss = 0.04 | Batch = 937 | Accuracy = 98.76: 100%|██████████| 938/938 [00:23<00:00, 39.85it/s]\n"
          ]
        },
        {
          "output_type": "stream",
          "name": "stdout",
          "text": [
            "\n",
            "Test set: Average loss: 0.00041, Accuracy: 99.16\n",
            "\n",
            "EPOCH: 14  LR:  0.0001\n"
          ]
        },
        {
          "output_type": "stream",
          "name": "stderr",
          "text": [
            "Loss = 0.06 | Batch = 937 | Accuracy = 98.79: 100%|██████████| 938/938 [00:23<00:00, 39.25it/s]\n"
          ]
        },
        {
          "output_type": "stream",
          "name": "stdout",
          "text": [
            "\n",
            "Test set: Average loss: 0.00040, Accuracy: 99.16\n",
            "\n",
            "EPOCH: 15  LR:  1e-05\n"
          ]
        },
        {
          "output_type": "stream",
          "name": "stderr",
          "text": [
            "Loss = 0.07 | Batch = 937 | Accuracy = 98.85: 100%|██████████| 938/938 [00:23<00:00, 39.43it/s]\n"
          ]
        },
        {
          "output_type": "stream",
          "name": "stdout",
          "text": [
            "\n",
            "Test set: Average loss: 0.00042, Accuracy: 99.16\n",
            "\n",
            "EPOCH: 16  LR:  1e-05\n"
          ]
        },
        {
          "output_type": "stream",
          "name": "stderr",
          "text": [
            "Loss = 0.16 | Batch = 937 | Accuracy = 98.77: 100%|██████████| 938/938 [00:23<00:00, 39.33it/s]\n"
          ]
        },
        {
          "output_type": "stream",
          "name": "stdout",
          "text": [
            "\n",
            "Test set: Average loss: 0.00040, Accuracy: 99.16\n",
            "\n",
            "EPOCH: 17  LR:  1e-05\n"
          ]
        },
        {
          "output_type": "stream",
          "name": "stderr",
          "text": [
            "Loss = 0.16 | Batch = 937 | Accuracy = 98.84: 100%|██████████| 938/938 [00:24<00:00, 39.07it/s]\n"
          ]
        },
        {
          "output_type": "stream",
          "name": "stdout",
          "text": [
            "\n",
            "Test set: Average loss: 0.00040, Accuracy: 99.16\n",
            "\n",
            "EPOCH: 18  LR:  1e-05\n"
          ]
        },
        {
          "output_type": "stream",
          "name": "stderr",
          "text": [
            "Loss = 0.01 | Batch = 937 | Accuracy = 98.80: 100%|██████████| 938/938 [00:23<00:00, 39.15it/s]\n"
          ]
        },
        {
          "output_type": "stream",
          "name": "stdout",
          "text": [
            "\n",
            "Test set: Average loss: 0.00040, Accuracy: 99.16\n",
            "\n",
            "EPOCH: 19  LR:  1e-05\n"
          ]
        },
        {
          "output_type": "stream",
          "name": "stderr",
          "text": [
            "Loss = 0.00 | Batch = 937 | Accuracy = 98.82: 100%|██████████| 938/938 [00:24<00:00, 38.44it/s]\n"
          ]
        },
        {
          "output_type": "stream",
          "name": "stdout",
          "text": [
            "\n",
            "Test set: Average loss: 0.00040, Accuracy: 99.17\n",
            "\n"
          ]
        }
      ]
    },
    {
      "cell_type": "markdown",
      "source": [
        "#### Model Performance (LN)"
      ],
      "metadata": {
        "id": "kqDxSFT4Hz6I"
      }
    },
    {
      "cell_type": "code",
      "source": [
        "# model performance\n",
        "evaluate(model_ln, train_loader, criterion, device, split = 'Train')\n",
        "evaluate(model_ln, test_loader, criterion, device, split = 'Test')"
      ],
      "metadata": {
        "colab": {
          "base_uri": "https://localhost:8080/"
        },
        "id": "gn2lvxAWvwcz",
        "outputId": "e2e51978-22ef-45f0-97bc-1c3f05a3e28a"
      },
      "execution_count": 43,
      "outputs": [
        {
          "output_type": "stream",
          "name": "stdout",
          "text": [
            "\n",
            "Train set: Average loss: 0.00048, Accuracy: 99.04\n",
            "\n",
            "\n",
            "Test set: Average loss: 0.00041, Accuracy: 99.17\n",
            "\n"
          ]
        }
      ]
    },
    {
      "cell_type": "markdown",
      "source": [
        "#### Misclassified Images of LN"
      ],
      "metadata": {
        "id": "O9RIfOjrElz-"
      }
    },
    {
      "cell_type": "code",
      "source": [
        "# get miss classified images, their truue labels and predicted labels\n",
        "miss_images, miss_labels, miss_pred_labels = get_missclassified_records(model_ln, test_loader, device, 10)\n",
        "\n",
        "# show miss classified images\n",
        "show_missclassified_images(miss_images, miss_labels, miss_pred_labels, 10)"
      ],
      "metadata": {
        "colab": {
          "base_uri": "https://localhost:8080/",
          "height": 365
        },
        "id": "vctJDgLZEZw_",
        "outputId": "2560de68-ae8f-4aa7-c35c-1676e70e3e49"
      },
      "execution_count": 69,
      "outputs": [
        {
          "output_type": "display_data",
          "data": {
            "text/plain": [
              "<Figure size 720x360 with 10 Axes>"
            ],
            "image/png": "[encoded data removed]"
          },
          "metadata": {
            "needs_background": "light"
          }
        }
      ]
    },
    {
      "cell_type": "markdown",
      "source": [
        "## GN Training"
      ],
      "metadata": {
        "id": "KYr29dwFv0L1"
      }
    },
    {
      "cell_type": "code",
      "source": [
        "# model\n",
        "model_gn = Net(norm_type='GN').to(device)\n",
        "summary(model_gn, input_size=(1, 28, 28))"
      ],
      "metadata": {
        "colab": {
          "base_uri": "https://localhost:8080/"
        },
        "id": "y6KXkN_v1ZOe",
        "outputId": "ffb61f22-4d51-4490-d715-d6ca1610bf0f"
      },
      "execution_count": 44,
      "outputs": [
        {
          "output_type": "stream",
          "name": "stdout",
          "text": [
            "----------------------------------------------------------------\n",
            "        Layer (type)               Output Shape         Param #\n",
            "================================================================\n",
            "            Conv2d-1           [-1, 96, 28, 28]           2,496\n",
            "         GroupNorm-2           [-1, 96, 28, 28]             192\n",
            "            Conv2d-3           [-1, 16, 28, 28]           1,552\n",
            "         GroupNorm-4           [-1, 16, 28, 28]              32\n",
            "           Dropout-5           [-1, 16, 14, 14]               0\n",
            "            Conv2d-6           [-1, 16, 12, 12]           2,320\n",
            "         GroupNorm-7           [-1, 16, 12, 12]              32\n",
            "            Conv2d-8            [-1, 8, 12, 12]             136\n",
            "         GroupNorm-9            [-1, 8, 12, 12]              16\n",
            "          Dropout-10              [-1, 8, 6, 6]               0\n",
            "           Conv2d-11             [-1, 16, 4, 4]           1,168\n",
            "        GroupNorm-12             [-1, 16, 4, 4]              32\n",
            "           Conv2d-13             [-1, 10, 2, 2]           1,450\n",
            "AdaptiveAvgPool2d-14             [-1, 10, 1, 1]               0\n",
            "================================================================\n",
            "Total params: 9,426\n",
            "Trainable params: 9,426\n",
            "Non-trainable params: 0\n",
            "----------------------------------------------------------------\n",
            "Input size (MB): 0.00\n",
            "Forward/backward pass size (MB): 1.42\n",
            "Params size (MB): 0.04\n",
            "Estimated Total Size (MB): 1.46\n",
            "----------------------------------------------------------------\n"
          ]
        }
      ]
    },
    {
      "cell_type": "code",
      "metadata": {
        "colab": {
          "base_uri": "https://localhost:8080/"
        },
        "id": "2KrRu31Rv0L2",
        "outputId": "235b0b91-b327-420a-adef-69d2e4e17eb7"
      },
      "source": [
        "criterion = nn.CrossEntropyLoss()  # loss\n",
        "optimizer = optim.SGD(model_gn.parameters(), lr = 0.01, momentum = 0.9)  # optimizer\n",
        "scheduler = StepLR(optimizer, step_size = 5, gamma = 0.1)  # learning rate scheduler\n",
        "\n",
        "EPOCHS = 20  # num of epochs\n",
        "train_gn = Trainer(model_gn, train_loader, criterion, optimizer, device, scheduler)\n",
        "test_gn = Tester(model_gn, test_loader, criterion, device)\n",
        "\n",
        "for epoch in range(EPOCHS):\n",
        "    print(\"EPOCH:\", epoch, \" LR: \", train_gn.optimizer.param_groups[0]['lr'])\n",
        "    train_gn.train()      # train\n",
        "    test_gn.test()        # test\n",
        "    scheduler.step()      # scheduler step"
      ],
      "execution_count": 45,
      "outputs": [
        {
          "output_type": "stream",
          "name": "stdout",
          "text": [
            "EPOCH: 0  LR:  0.01\n"
          ]
        },
        {
          "output_type": "stream",
          "name": "stderr",
          "text": [
            "Loss = 0.03 | Batch = 937 | Accuracy = 91.98: 100%|██████████| 938/938 [00:23<00:00, 39.62it/s]\n"
          ]
        },
        {
          "output_type": "stream",
          "name": "stdout",
          "text": [
            "\n",
            "Test set: Average loss: 0.00103, Accuracy: 97.94\n",
            "\n",
            "EPOCH: 1  LR:  0.01\n"
          ]
        },
        {
          "output_type": "stream",
          "name": "stderr",
          "text": [
            "Loss = 0.01 | Batch = 937 | Accuracy = 97.20: 100%|██████████| 938/938 [00:25<00:00, 37.48it/s]\n"
          ]
        },
        {
          "output_type": "stream",
          "name": "stdout",
          "text": [
            "\n",
            "Test set: Average loss: 0.00090, Accuracy: 98.16\n",
            "\n",
            "EPOCH: 2  LR:  0.01\n"
          ]
        },
        {
          "output_type": "stream",
          "name": "stderr",
          "text": [
            "Loss = 0.03 | Batch = 937 | Accuracy = 97.76: 100%|██████████| 938/938 [00:23<00:00, 40.08it/s]\n"
          ]
        },
        {
          "output_type": "stream",
          "name": "stdout",
          "text": [
            "\n",
            "Test set: Average loss: 0.00065, Accuracy: 98.76\n",
            "\n",
            "EPOCH: 3  LR:  0.01\n"
          ]
        },
        {
          "output_type": "stream",
          "name": "stderr",
          "text": [
            "Loss = 0.22 | Batch = 937 | Accuracy = 98.15: 100%|██████████| 938/938 [00:23<00:00, 39.83it/s]\n"
          ]
        },
        {
          "output_type": "stream",
          "name": "stdout",
          "text": [
            "\n",
            "Test set: Average loss: 0.00056, Accuracy: 98.91\n",
            "\n",
            "EPOCH: 4  LR:  0.01\n"
          ]
        },
        {
          "output_type": "stream",
          "name": "stderr",
          "text": [
            "Loss = 0.01 | Batch = 937 | Accuracy = 98.29: 100%|██████████| 938/938 [00:24<00:00, 38.10it/s]\n"
          ]
        },
        {
          "output_type": "stream",
          "name": "stdout",
          "text": [
            "\n",
            "Test set: Average loss: 0.00045, Accuracy: 99.13\n",
            "\n",
            "EPOCH: 5  LR:  0.001\n"
          ]
        },
        {
          "output_type": "stream",
          "name": "stderr",
          "text": [
            "Loss = 0.01 | Batch = 937 | Accuracy = 98.68: 100%|██████████| 938/938 [00:23<00:00, 40.53it/s]\n"
          ]
        },
        {
          "output_type": "stream",
          "name": "stdout",
          "text": [
            "\n",
            "Test set: Average loss: 0.00041, Accuracy: 99.25\n",
            "\n",
            "EPOCH: 6  LR:  0.001\n"
          ]
        },
        {
          "output_type": "stream",
          "name": "stderr",
          "text": [
            "Loss = 0.02 | Batch = 937 | Accuracy = 98.78: 100%|██████████| 938/938 [00:23<00:00, 39.79it/s]\n"
          ]
        },
        {
          "output_type": "stream",
          "name": "stdout",
          "text": [
            "\n",
            "Test set: Average loss: 0.00039, Accuracy: 99.18\n",
            "\n",
            "EPOCH: 7  LR:  0.001\n"
          ]
        },
        {
          "output_type": "stream",
          "name": "stderr",
          "text": [
            "Loss = 0.00 | Batch = 937 | Accuracy = 98.78: 100%|██████████| 938/938 [00:23<00:00, 40.21it/s]\n"
          ]
        },
        {
          "output_type": "stream",
          "name": "stdout",
          "text": [
            "\n",
            "Test set: Average loss: 0.00039, Accuracy: 99.29\n",
            "\n",
            "EPOCH: 8  LR:  0.001\n"
          ]
        },
        {
          "output_type": "stream",
          "name": "stderr",
          "text": [
            "Loss = 0.01 | Batch = 937 | Accuracy = 98.79: 100%|██████████| 938/938 [00:23<00:00, 39.88it/s]\n"
          ]
        },
        {
          "output_type": "stream",
          "name": "stdout",
          "text": [
            "\n",
            "Test set: Average loss: 0.00039, Accuracy: 99.24\n",
            "\n",
            "EPOCH: 9  LR:  0.001\n"
          ]
        },
        {
          "output_type": "stream",
          "name": "stderr",
          "text": [
            "Loss = 0.01 | Batch = 937 | Accuracy = 98.86: 100%|██████████| 938/938 [00:23<00:00, 39.74it/s]\n"
          ]
        },
        {
          "output_type": "stream",
          "name": "stdout",
          "text": [
            "\n",
            "Test set: Average loss: 0.00037, Accuracy: 99.27\n",
            "\n",
            "EPOCH: 10  LR:  0.0001\n"
          ]
        },
        {
          "output_type": "stream",
          "name": "stderr",
          "text": [
            "Loss = 0.00 | Batch = 937 | Accuracy = 98.88: 100%|██████████| 938/938 [00:23<00:00, 40.18it/s]\n"
          ]
        },
        {
          "output_type": "stream",
          "name": "stdout",
          "text": [
            "\n",
            "Test set: Average loss: 0.00036, Accuracy: 99.31\n",
            "\n",
            "EPOCH: 11  LR:  0.0001\n"
          ]
        },
        {
          "output_type": "stream",
          "name": "stderr",
          "text": [
            "Loss = 0.01 | Batch = 937 | Accuracy = 98.91: 100%|██████████| 938/938 [00:23<00:00, 39.82it/s]\n"
          ]
        },
        {
          "output_type": "stream",
          "name": "stdout",
          "text": [
            "\n",
            "Test set: Average loss: 0.00036, Accuracy: 99.31\n",
            "\n",
            "EPOCH: 12  LR:  0.0001\n"
          ]
        },
        {
          "output_type": "stream",
          "name": "stderr",
          "text": [
            "Loss = 0.05 | Batch = 937 | Accuracy = 98.89: 100%|██████████| 938/938 [00:23<00:00, 39.99it/s]\n"
          ]
        },
        {
          "output_type": "stream",
          "name": "stdout",
          "text": [
            "\n",
            "Test set: Average loss: 0.00036, Accuracy: 99.32\n",
            "\n",
            "EPOCH: 13  LR:  0.0001\n"
          ]
        },
        {
          "output_type": "stream",
          "name": "stderr",
          "text": [
            "Loss = 0.08 | Batch = 937 | Accuracy = 98.88: 100%|██████████| 938/938 [00:23<00:00, 39.20it/s]\n"
          ]
        },
        {
          "output_type": "stream",
          "name": "stdout",
          "text": [
            "\n",
            "Test set: Average loss: 0.00036, Accuracy: 99.32\n",
            "\n",
            "EPOCH: 14  LR:  0.0001\n"
          ]
        },
        {
          "output_type": "stream",
          "name": "stderr",
          "text": [
            "Loss = 0.05 | Batch = 937 | Accuracy = 98.86: 100%|██████████| 938/938 [00:23<00:00, 40.26it/s]\n"
          ]
        },
        {
          "output_type": "stream",
          "name": "stdout",
          "text": [
            "\n",
            "Test set: Average loss: 0.00036, Accuracy: 99.30\n",
            "\n",
            "EPOCH: 15  LR:  1e-05\n"
          ]
        },
        {
          "output_type": "stream",
          "name": "stderr",
          "text": [
            "Loss = 0.03 | Batch = 937 | Accuracy = 98.91: 100%|██████████| 938/938 [00:25<00:00, 37.36it/s]\n"
          ]
        },
        {
          "output_type": "stream",
          "name": "stdout",
          "text": [
            "\n",
            "Test set: Average loss: 0.00036, Accuracy: 99.32\n",
            "\n",
            "EPOCH: 16  LR:  1e-05\n"
          ]
        },
        {
          "output_type": "stream",
          "name": "stderr",
          "text": [
            "Loss = 0.00 | Batch = 937 | Accuracy = 98.86: 100%|██████████| 938/938 [00:26<00:00, 35.29it/s]\n"
          ]
        },
        {
          "output_type": "stream",
          "name": "stdout",
          "text": [
            "\n",
            "Test set: Average loss: 0.00036, Accuracy: 99.32\n",
            "\n",
            "EPOCH: 17  LR:  1e-05\n"
          ]
        },
        {
          "output_type": "stream",
          "name": "stderr",
          "text": [
            "Loss = 0.04 | Batch = 937 | Accuracy = 98.93: 100%|██████████| 938/938 [00:25<00:00, 36.32it/s]\n"
          ]
        },
        {
          "output_type": "stream",
          "name": "stdout",
          "text": [
            "\n",
            "Test set: Average loss: 0.00036, Accuracy: 99.32\n",
            "\n",
            "EPOCH: 18  LR:  1e-05\n"
          ]
        },
        {
          "output_type": "stream",
          "name": "stderr",
          "text": [
            "Loss = 0.02 | Batch = 937 | Accuracy = 98.82: 100%|██████████| 938/938 [00:25<00:00, 37.41it/s]\n"
          ]
        },
        {
          "output_type": "stream",
          "name": "stdout",
          "text": [
            "\n",
            "Test set: Average loss: 0.00036, Accuracy: 99.32\n",
            "\n",
            "EPOCH: 19  LR:  1e-05\n"
          ]
        },
        {
          "output_type": "stream",
          "name": "stderr",
          "text": [
            "Loss = 0.02 | Batch = 937 | Accuracy = 98.87: 100%|██████████| 938/938 [00:23<00:00, 39.82it/s]\n"
          ]
        },
        {
          "output_type": "stream",
          "name": "stdout",
          "text": [
            "\n",
            "Test set: Average loss: 0.00036, Accuracy: 99.32\n",
            "\n"
          ]
        }
      ]
    },
    {
      "cell_type": "markdown",
      "source": [
        "#### Model Performance (GN)"
      ],
      "metadata": {
        "id": "Ev0f8US-HtDd"
      }
    },
    {
      "cell_type": "code",
      "source": [
        "# model performance\n",
        "evaluate(model_gn, train_loader, criterion, device, split = 'Train')\n",
        "evaluate(model_gn, test_loader, criterion, device, split = 'Test')"
      ],
      "metadata": {
        "colab": {
          "base_uri": "https://localhost:8080/"
        },
        "id": "5Rjh0BgGv0L2",
        "outputId": "adfa28c0-b108-4c91-f0f9-18e8c0ada871"
      },
      "execution_count": 46,
      "outputs": [
        {
          "output_type": "stream",
          "name": "stdout",
          "text": [
            "\n",
            "Train set: Average loss: 0.00047, Accuracy: 99.07\n",
            "\n",
            "\n",
            "Test set: Average loss: 0.00036, Accuracy: 99.32\n",
            "\n"
          ]
        }
      ]
    },
    {
      "cell_type": "markdown",
      "source": [
        "#### Misclassified Images of GN"
      ],
      "metadata": {
        "id": "ZaSIYdvrEzz3"
      }
    },
    {
      "cell_type": "code",
      "source": [
        "# get miss classified images, their truue labels and predicted labels\n",
        "miss_images, miss_labels, miss_pred_labels = get_missclassified_records(model_gn, test_loader, device, 10)\n",
        "\n",
        "# show miss classified images\n",
        "show_missclassified_images(miss_images, miss_labels, miss_pred_labels, 10)"
      ],
      "metadata": {
        "colab": {
          "base_uri": "https://localhost:8080/",
          "height": 420
        },
        "id": "dpVLzDz2CDxG",
        "outputId": "b05d6e30-95df-4dab-b9e7-bbc3ab9debb3"
      },
      "execution_count": 68,
      "outputs": [
        {
          "output_type": "stream",
          "name": "stderr",
          "text": [
            "/usr/local/lib/python3.8/dist-packages/torch/utils/data/dataloader.py:554: UserWarning: This DataLoader will create 4 worker processes in total. Our suggested max number of worker in current system is 2, which is smaller than what this DataLoader is going to create. Please be aware that excessive worker creation might get DataLoader running slow or even freeze, lower the worker number to avoid potential slowness/freeze if necessary.\n",
            "  warnings.warn(_create_warning_msg(\n"
          ]
        },
        {
          "output_type": "display_data",
          "data": {
            "text/plain": [
              "<Figure size 720x360 with 10 Axes>"
            ],
            "image/png": "[encoded data removed]"
          },
          "metadata": {
            "needs_background": "light"
          }
        }
      ]
    },
    {
      "cell_type": "markdown",
      "metadata": {
        "id": "drokW8wWODKq"
      },
      "source": [
        "# Performance Plots"
      ]
    },
    {
      "cell_type": "code",
      "metadata": {
        "id": "87RaqGSEOWDe",
        "outputId": "c41a7881-eda4-44b0-ef81-047ea0cc0cd6",
        "colab": {
          "base_uri": "https://localhost:8080/",
          "height": 253
        }
      },
      "source": [
        "# loss plots\n",
        "fig, axs = plt.subplots(1, 3, figsize = (20, 3))\n",
        "axs[0].plot(range(EPOCHS), test_bn.test_losses)\n",
        "axs[0].set_title(\"BN + L1\")\n",
        "axs[0].set_xlabel('Epoch')\n",
        "axs[0].set_ylabel('Val Loss')\n",
        "axs[1].plot(range(EPOCHS), test_ln.test_losses)\n",
        "axs[1].set_title(\"LN\")\n",
        "axs[1].set_xlabel('Epoch')\n",
        "axs[1].set_ylabel('Val Loss')\n",
        "axs[2].plot(range(EPOCHS), test_bn.test_losses)\n",
        "axs[2].set_title(\"BN\")\n",
        "axs[2].set_xlabel('Epoch')\n",
        "axs[2].set_ylabel('Val Loss')"
      ],
      "execution_count": 82,
      "outputs": [
        {
          "output_type": "execute_result",
          "data": {
            "text/plain": [
              "Text(0, 0.5, 'Val Loss')"
            ]
          },
          "metadata": {},
          "execution_count": 82
        },
        {
          "output_type": "display_data",
          "data": {
            "text/plain": [
              "<Figure size 1440x216 with 3 Axes>"
            ],
            "image/png": "[encoded data removed]"
          },
          "metadata": {
            "needs_background": "light"
          }
        }
      ]
    },
    {
      "cell_type": "code",
      "metadata": {
        "id": "wjO3RK9UEnvF",
        "colab": {
          "base_uri": "https://localhost:8080/",
          "height": 256
        },
        "outputId": "f0e6b0e6-83a0-45dd-91b7-ef90c389dbab"
      },
      "source": [
        "# accuracy plots\n",
        "fig, axs = plt.subplots(1, 3, figsize = (20, 3))\n",
        "axs[0].plot(range(EPOCHS), test_bn.test_accs)\n",
        "axs[0].set_title(\"BN + L1\")\n",
        "axs[0].set_xlabel('Epoch')\n",
        "axs[0].set_ylabel('Val Loss')\n",
        "axs[1].plot(range(EPOCHS), test_ln.test_accs)\n",
        "axs[1].set_title(\"LN\")\n",
        "axs[1].set_xlabel('Epoch')\n",
        "axs[1].set_ylabel('Val Loss')\n",
        "axs[2].plot(range(EPOCHS), test_bn.test_accs)\n",
        "axs[2].set_title(\"BN\")\n",
        "axs[2].set_xlabel('Epoch')\n",
        "axs[2].set_ylabel('Val Loss')"
      ],
      "execution_count": 83,
      "outputs": [
        {
          "output_type": "execute_result",
          "data": {
            "text/plain": [
              "Text(0, 0.5, 'Val Loss')"
            ]
          },
          "metadata": {},
          "execution_count": 83
        },
        {
          "output_type": "display_data",
          "data": {
            "text/plain": [
              "<Figure size 1440x216 with 3 Axes>"
            ],
            "image/png": "[encoded data removed]"
          },
          "metadata": {
            "needs_background": "light"
          }
        }
      ]
    },
    {
      "cell_type": "code",
      "source": [],
      "metadata": {
        "id": "NY-J6MGqHoQ3"
      },
      "execution_count": null,
      "outputs": []
    }
  ]
}